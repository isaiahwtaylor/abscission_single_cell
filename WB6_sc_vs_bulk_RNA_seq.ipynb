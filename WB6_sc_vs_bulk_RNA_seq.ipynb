{
 "cells": [
  {
   "cell_type": "markdown",
   "metadata": {},
   "source": [
    "Compare DE genes between this dataset and 4 wt vs 4 h3h3 bulk (2 from each of 2 prior studies)"
   ]
  },
  {
   "cell_type": "code",
   "execution_count": 103,
   "metadata": {},
   "outputs": [],
   "source": [
    "library(edgeR)\n",
    "library(here)\n",
    "source(here(\"R_functions\",\"edgeR_function.R\"))\n",
    "\n",
    "annotations = read.csv(\"R_functions/gene_descriptions.csv\", header = F)\n",
    "colnames(annotations) = c(\"gene_id\", \"description\")\n",
    "annotations$gene_id = substr(annotations$gene_id, 1, 9)"
   ]
  },
  {
   "cell_type": "code",
   "execution_count": null,
   "metadata": {},
   "outputs": [],
   "source": [
    "#bulk samples\n",
    "bulk = counts_to_reads_df(\"/home/robotmessenger810/sc_analysis/data/bulk_data/Col_v_h3h3_bulk_counts_4_downsampled\"  )\n",
    "\n",
    "#remove no_feature, ambiguous, etc reads\n",
    "bulk = bulk[1:(dim(bulk)[1]-5),]\n",
    "\n",
    "#account for factors in experiment\n",
    "phenotype=as.factor(c(\"wt\", \"wt\", \"wt\", \"wt\", \"mut\", \"mut\", \"mut\", \"mut\"))\n",
    "batch=as.factor(c(0,0,1,1,0,0,1,1))\n",
    "design <- model.matrix(~phenotype+batch)#+insertion)\n",
    "\n",
    "#check design matrix isn't singular\n",
    "print(paste(\"determinant of design matrix is: \", det(t(design)%*%(design))))\n",
    "\n",
    "#making contrast matrix for tests of interest\n",
    "my.contrasts <- makeContrasts(s1_v_s2=phenotypewt, levels=design)\n",
    "\n",
    "#run edger\n",
    "bulk_edger_1 =  edgeR_2_sample(bulk, \"WT\", \"mut\", c(1,2,3,4), c(5,6,7,8), annotations, design, my.contrasts)"
   ]
  },
  {
   "cell_type": "code",
   "execution_count": null,
   "metadata": {},
   "outputs": [],
   "source": [
    "#bulk samples\n",
    "pb =read.csv(\"/home/robotmessenger810/sc_analysis/data/pseudo_bulk_data/AZ_pbs_2_18_22.csv\")\n",
    "rownames(pb) = pb[,1]\n",
    "pb[,1] <- NULL\n",
    "\n",
    "#account for factors in experiment\n",
    "phenotype=as.factor(c(\"wt\", \"wt\", \"wt\", \"wt\", \"mut\", \"mut\", \"mut\", \"mut\"))\n",
    "batch=as.factor(c(0,0,1,1,0,0,1,1))\n",
    "design <- model.matrix(~phenotype+batch)#+insertion)\n",
    "\n",
    "#check design matrix isn't singular\n",
    "print(paste(\"determinant of design matrix is: \", det(t(design)%*%(design))))\n",
    "\n",
    "#making contrast matrix for tests of interest\n",
    "my.contrasts <- makeContrasts(s1_v_s2=phenotypewt, levels=design)\n",
    "\n",
    "#run edger\n",
    "pb_edger_1 =  edgeR_2_sample(pb, \"WT\", \"mut\", c(1,2,3,4), c(5,6,7,8), annotations, design, my.contrasts)"
   ]
  },
  {
   "cell_type": "code",
   "execution_count": null,
   "metadata": {},
   "outputs": [],
   "source": []
  }
 ],
 "metadata": {
  "kernelspec": {
   "display_name": "R",
   "language": "R",
   "name": "ir"
  },
  "language_info": {
   "codemirror_mode": "r",
   "file_extension": ".r",
   "mimetype": "text/x-r-source",
   "name": "R",
   "pygments_lexer": "r",
   "version": "3.6.3"
  }
 },
 "nbformat": 4,
 "nbformat_minor": 4
}
