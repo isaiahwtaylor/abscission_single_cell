{
 "cells": [
  {
   "cell_type": "code",
   "execution_count": 1,
   "metadata": {},
   "outputs": [
    {
     "name": "stderr",
     "output_type": "stream",
     "text": [
      "Loading required package: limma\n",
      "\n",
      "here() starts at /home/robotmessenger810/sc_analysis/code\n",
      "\n"
     ]
    }
   ],
   "source": [
    "#THIS SCRIPT CALCULATES THE INTERSECTION OF DE GENES OF PRIOR BULK COMPARISOIN OF WT AND MUTANT COMPARED TO SINGLE-CELL ANALYSIS\n",
    "\n",
    "library(edgeR)\n",
    "library(here)\n",
    "source(here(\"R_functions\",\"edgeR_function.R\"))\n",
    "\n",
    "annotations = read.csv(\"R_functions/gene_descriptions.csv\", header = F)\n",
    "colnames(annotations) = c(\"gene_id\", \"description\")\n",
    "annotations$gene_id = substr(annotations$gene_id, 1, 9)"
   ]
  },
  {
   "cell_type": "code",
   "execution_count": 2,
   "metadata": {},
   "outputs": [
    {
     "data": {
      "text/plain": [
       "R version 3.6.3 (2020-02-29)\n",
       "Platform: x86_64-conda_cos6-linux-gnu (64-bit)\n",
       "Running under: Ubuntu 20.04.2 LTS\n",
       "\n",
       "Matrix products: default\n",
       "BLAS/LAPACK: /home/robotmessenger810/anaconda3/envs/r_3/lib/libopenblasp-r0.3.9.so\n",
       "\n",
       "locale:\n",
       " [1] LC_CTYPE=en_US.UTF-8       LC_NUMERIC=C              \n",
       " [3] LC_TIME=en_US.UTF-8        LC_COLLATE=en_US.UTF-8    \n",
       " [5] LC_MONETARY=en_US.UTF-8    LC_MESSAGES=en_US.UTF-8   \n",
       " [7] LC_PAPER=en_US.UTF-8       LC_NAME=C                 \n",
       " [9] LC_ADDRESS=C               LC_TELEPHONE=C            \n",
       "[11] LC_MEASUREMENT=en_US.UTF-8 LC_IDENTIFICATION=C       \n",
       "\n",
       "attached base packages:\n",
       "[1] stats     graphics  grDevices utils     datasets  methods   base     \n",
       "\n",
       "other attached packages:\n",
       "[1] here_0.1     edgeR_3.28.1 limma_3.42.2\n",
       "\n",
       "loaded via a namespace (and not attached):\n",
       " [1] Rcpp_1.0.7      locfit_1.5-9.4  lattice_0.20-45 fansi_0.5.0    \n",
       " [5] rprojroot_2.0.2 digest_0.6.29   utf8_1.2.2      crayon_1.4.2   \n",
       " [9] IRdisplay_0.7.0 grid_3.6.3      repr_1.1.0      lifecycle_1.0.1\n",
       "[13] jsonlite_1.7.2  evaluate_0.14   pillar_1.6.4    rlang_0.4.12   \n",
       "[17] uuid_0.1-4      vctrs_0.3.8     ellipsis_0.3.2  IRkernel_1.1   \n",
       "[21] tools_3.6.3     compiler_3.6.3  base64enc_0.1-3 pbdZMQ_0.3-6   \n",
       "[25] htmltools_0.5.0"
      ]
     },
     "metadata": {},
     "output_type": "display_data"
    }
   ],
   "source": [
    "sessionInfo()"
   ]
  },
  {
   "cell_type": "code",
   "execution_count": null,
   "metadata": {},
   "outputs": [],
   "source": [
    "#bulk samples\n",
    "bulk = counts_to_reads_df(\"../data/bulk_data/Col_v_h3h3_bulk_counts_first\" )\n",
    "\n",
    "#remove no_feature, ambiguous, etc reads\n",
    "bulk = bulk[1:(dim(bulk)[1]-5),]\n",
    "\n",
    "#account for factors in experiment\n",
    "phenotype=as.factor(c(\"wt\", \"wt\", \"wt\", \"wt\", \"wt\", \"wt\", \"mut\", \"mut\", \"mut\", \"mut\", \"mut\", \"mut\"))\n",
    "batch=as.factor(c(0,0,0,1,1,1,0,0,0,1,1,1))\n",
    "design <- model.matrix(~phenotype+batch)#+insertion)\n",
    "\n",
    "#double check design matrix isn't singular\n",
    "print(paste(\"determinant of XT*X of design matrix is: \", det(t(design)%*%(design))))\n",
    "\n",
    "#making contrast matrix for tests of interest\n",
    "my.contrasts <- makeContrasts(s1_v_s2=phenotypewt, levels=design)\n",
    "\n",
    "#run edger\n",
    "bulk_edger_2 =  edgeR_2_sample(bulk, \"WT\", \"mut\", c(1,2,3,4,5,6), c(7,8,9,10,11,12), annotations, design, my.contrasts)"
   ]
  },
  {
   "cell_type": "code",
   "execution_count": null,
   "metadata": {},
   "outputs": [],
   "source": [
    "#pseudo bulk samples\n",
    "pb = read.csv(\"../data/pseudo_bulk_data/AZ_pbs_4_19_22.csv\")\n",
    "rownames(pb) = pb[,1]\n",
    "pb[,1] <- NULL\n",
    "\n",
    "#account for factors in experiment\n",
    "phenotype=as.factor(c(\"wt\", \"wt\", \"wt\", \"wt\", \"mut\", \"mut\", \"mut\", \"mut\"))\n",
    "method=as.factor(c(0,0,1,1,0,0,1,1))\n",
    "design <- model.matrix(~phenotype+method)#+insertion)\n",
    "\n",
    "#double check design matrix isn't singular\n",
    "print(paste(\"determinant of XT*X of design matrix is: \", det(t(design)%*%(design))))\n",
    "\n",
    "#making contrast matrix for tests of interest\n",
    "my.contrasts <- makeContrasts(s1_v_s2=phenotypewt, levels=design)\n",
    "\n",
    "#run edger\n",
    "pb_edger_1 =  edgeR_2_sample(pb, \"WT\", \"mut\", c(1,2,3,4), c(5,6,7,8), annotations, design, my.contrasts)"
   ]
  },
  {
   "cell_type": "code",
   "execution_count": null,
   "metadata": {},
   "outputs": [],
   "source": [
    "sig_intersect_WT_up = intersect(pb_edger_1[pb_edger_1$FDR<.05&pb_edger_1$logFC>1,]$genes, bulk_edger_2[bulk_edger_2$FDR<.05&bulk_edger_2$logFC>1,]$genes)\n",
    "length(sig_intersect_WT_up)\n",
    "write.csv(sig_intersect_WT_up, \"../data/pseudo_bulk_data/pb_bulk_sig_intersect_WT_up.csv\")"
   ]
  }
 ],
 "metadata": {
  "kernelspec": {
   "display_name": "R",
   "language": "R",
   "name": "ir"
  },
  "language_info": {
   "codemirror_mode": "r",
   "file_extension": ".r",
   "mimetype": "text/x-r-source",
   "name": "R",
   "pygments_lexer": "r",
   "version": "3.6.3"
  }
 },
 "nbformat": 4,
 "nbformat_minor": 4
}
