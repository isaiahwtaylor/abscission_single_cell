{
 "cells": [
  {
   "cell_type": "code",
   "execution_count": 7,
   "metadata": {},
   "outputs": [],
   "source": [
    "library(BUSpaRse)\n",
    "library(here)\n",
    "library(Matrix)\n",
    "library(tidyverse)\n",
    "library(Seurat)\n",
    "library(ggpointdensity)\n",
    "library(scico)\n",
    "library(scales)\n",
    "library(DropletUtils)\n",
    "library(reticulate)\n",
    "library(repr)\n",
    "library(future)\n",
    "options(future.globals.maxSize = 100000 * 1024^2)\n",
    "\n",
    "proto_genes=read.csv(\"../data/bulk_data/protoplasting.csv\")\n",
    "proto_list=as.character(proto_genes[abs(proto_genes$logFC) > 4,]$genes)"
   ]
  },
  {
   "cell_type": "code",
   "execution_count": 6,
   "metadata": {},
   "outputs": [],
   "source": [
    "wt_1_seu = readRDS(file = \"../data/seurat1/sc_26_seu_1_ED_no_min_features.rds\")\n",
    "wt_2_seu = readRDS(file = \"../data/seurat1/sc_67_seu_1_ED_no_min_features.rds\")\n",
    "mut_1_seu = readRDS(file = \"../data/seurat1/sc_27_seu_1_ED_no_min_features.rds\")\n",
    "mut_2_seu = readRDS(file = \"../data/seurat1/sc_68_seu_1_ED_no_min_features.rds\")"
   ]
  },
  {
   "cell_type": "code",
   "execution_count": 17,
   "metadata": {},
   "outputs": [],
   "source": [
    "wt_1_scrub = c(read.table(\"/home/robotmessenger810/sc_analysis/data/raw_count_matrices/sc_counts_post_ED_scrublet/wt_1_scrub.csv\", sep = \",\"))\n",
    "\n",
    "wt_2_scrub = c(read.table(\"/home/robotmessenger810/sc_analysis/data/raw_count_matrices/sc_counts_post_ED_scrublet/wt_2_scrub.csv\", sep = \",\"))\n",
    "\n",
    "mut_1_scrub = c(read.table(\"/home/robotmessenger810/sc_analysis/data/raw_count_matrices/sc_counts_post_ED_scrublet/mut_1_scrub.csv\", sep = \",\"))\n",
    "\n",
    "mut_2_scrub = c(read.table(\"/home/robotmessenger810/sc_analysis/data/raw_count_matrices/sc_counts_post_ED_scrublet/mut_2_scrub.csv\", sep = \",\"))"
   ]
  },
  {
   "cell_type": "code",
   "execution_count": 22,
   "metadata": {},
   "outputs": [],
   "source": [
    "wt_1_scrb_seu = subset(wt_1_seu, cells = colnames(wt_1_seu@assays$RNA)[wt_1_scrub<.2])\n",
    "\n",
    "wt_2_scrb_seu = subset(wt_2_seu, cells = colnames(wt_2_seu@assays$RNA)[wt_2_scrub<.2])\n",
    "\n",
    "mut_1_scrb_seu = subset(mut_1_seu, cells = colnames(mut_1_seu@assays$RNA)[mut_1_scrub<.2])\n",
    "\n",
    "mut_2_scrb_seu = subset(mut_2_seu, cells = colnames(mut_2_seu@assays$RNA)[mut_2_scrub<.2])\n"
   ]
  },
  {
   "cell_type": "code",
   "execution_count": 50,
   "metadata": {},
   "outputs": [],
   "source": [
    "#wt1\n",
    "lthr = quantile(wt_1_scrb_seu$nFeature_RNA, c(.1, .99))[1]\n",
    "hthr = quantile(wt_1_scrb_seu$nFeature_RNA, c(.1, .99))[2]\n",
    "\n",
    "wt_1_filtered_seu = subset(wt_1_scrb_seu, subset = percent.mito < 10 & nFeature_RNA > lthr & nFeature_RNA < hthr)\n",
    "\n",
    "#wt2\n",
    "lthr = quantile(wt_2_scrb_seu$nFeature_RNA, c(.1, .99))[1]\n",
    "hthr = quantile(wt_2_scrb_seu$nFeature_RNA, c(.1, .99))[2]\n",
    "\n",
    "wt_2_filtered_seu = subset(wt_2_scrb_seu, subset = percent.mito < 10 & nFeature_RNA > lthr & nFeature_RNA < hthr)\n",
    "\n",
    "#mut1\n",
    "lthr = quantile(mut_1_scrb_seu$nFeature_RNA, c(.1, .99))[1]\n",
    "hthr = quantile(mut_1_scrb_seu$nFeature_RNA, c(.1, .99))[2]\n",
    "\n",
    "mut_1_filtered_seu = subset(mut_1_scrb_seu, subset = percent.mito < 10 & nFeature_RNA > lthr & nFeature_RNA < hthr)\n",
    "\n",
    "#mut2\n",
    "lthr = quantile(mut_2_scrb_seu$nFeature_RNA, c(.1, .99))[1]\n",
    "hthr = quantile(mut_2_scrb_seu$nFeature_RNA, c(.1, .99))[2]\n",
    "\n",
    "mut_2_filtered_seu = subset(mut_2_scrb_seu, subset = percent.mito < 10 & nFeature_RNA > lthr & nFeature_RNA < hthr)\n"
   ]
  },
  {
   "cell_type": "code",
   "execution_count": 53,
   "metadata": {},
   "outputs": [
    {
     "data": {
      "text/plain": [
       "An object of class Seurat \n",
       "22966 features across 7572 samples within 1 assay \n",
       "Active assay: RNA (22966 features, 0 variable features)"
      ]
     },
     "metadata": {},
     "output_type": "display_data"
    },
    {
     "data": {
      "text/plain": [
       "An object of class Seurat \n",
       "22946 features across 7646 samples within 1 assay \n",
       "Active assay: RNA (22946 features, 0 variable features)"
      ]
     },
     "metadata": {},
     "output_type": "display_data"
    },
    {
     "data": {
      "text/plain": [
       "An object of class Seurat \n",
       "22617 features across 10570 samples within 1 assay \n",
       "Active assay: RNA (22617 features, 0 variable features)"
      ]
     },
     "metadata": {},
     "output_type": "display_data"
    },
    {
     "data": {
      "text/plain": [
       "An object of class Seurat \n",
       "22676 features across 7324 samples within 1 assay \n",
       "Active assay: RNA (22676 features, 0 variable features)"
      ]
     },
     "metadata": {},
     "output_type": "display_data"
    }
   ],
   "source": [
    "wt_1_filtered_seu\n",
    "wt_2_filtered_seu\n",
    "mut_1_filtered_seu\n",
    "mut_2_filtered_seu"
   ]
  },
  {
   "cell_type": "code",
   "execution_count": 54,
   "metadata": {},
   "outputs": [],
   "source": [
    "#Save the protoplast genes-, doublet-, high mito- seurat objects\n",
    "saveRDS(wt_1_filtered_seu, file = \"../data/seurat5/wt_1_ED_scrub_min_features_mito.rds\")\n",
    "saveRDS(wt_2_filtered_seu, file = \"../data/seurat5/wt_2_ED_scrub_min_features_mito.rds\")\n",
    "saveRDS(mut_1_filtered_seu, file = \"../data/seurat5/mut_1_ED_scrub_min_features_mito.rds\")\n",
    "saveRDS(mut_2_filtered_seu, file = \"../data/seurat5/mut_2_ED_scrub_min_features_mito.rds\")"
   ]
  }
 ],
 "metadata": {
  "kernelspec": {
   "display_name": "R",
   "language": "R",
   "name": "ir"
  },
  "language_info": {
   "codemirror_mode": "r",
   "file_extension": ".r",
   "mimetype": "text/x-r-source",
   "name": "R",
   "pygments_lexer": "r",
   "version": "3.6.3"
  }
 },
 "nbformat": 4,
 "nbformat_minor": 4
}
