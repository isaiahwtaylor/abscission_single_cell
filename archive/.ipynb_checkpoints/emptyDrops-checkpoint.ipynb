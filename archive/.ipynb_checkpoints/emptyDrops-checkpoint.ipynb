{
 "cells": [
  {
   "cell_type": "code",
   "execution_count": null,
   "metadata": {},
   "outputs": [],
   "source": [
    "#PREPROCESSING SCRIPT\n",
    "#THIS TAKES IN THE SPLICED AND UNSPLICED MATRICES, MAKES A SUMMED COUNT MATRIX WITH EMPTYDROPS CALLED CELLS, MAKE SEURAT\n",
    "#OBJECTS AND ADD MT AND CP PERCENTAGE, THEN SAVE IN SEURAT1. "
   ]
  },
  {
   "cell_type": "code",
   "execution_count": 3,
   "metadata": {},
   "outputs": [],
   "source": [
    "if (!requireNamespace(\"BiocManager\", quietly = TRUE))\n",
    "    install.packages(\"BiocManager\")\n",
    "if (!requireNamespace(\"here\", quietly = TRUE))\n",
    "    install.packages(\"here\")\n",
    "if (!requireNamespace(\"ggplot2\", quietly = TRUE))\n",
    "    install.packages(\"ggplot2\")\n",
    "if (!requireNamespace(\"ggpointdensity\", quietly = TRUE))\n",
    "    install.packages(\"ggpointdensity\")\n",
    "if (!requireNamespace(\"DropletUtils\", quietly = TRUE)) \n",
    "    BiocManager::install(\"DropletUtils\")\n",
    "if (!requireNamespace(\"BUSpaRse\", quietly = TRUE)) \n",
    "    BiocManager::install(\"BUSpaRse\")\n",
    "if (!requireNamespace(\"scico\", quietly = TRUE))\n",
    "    install.packages(\"scico\")\n",
    "if (!requireNamespace(\"reticulate\", quietly = TRUE))\n",
    "    install.packages(\"reticulate\")\n",
    "if (!requireNamespace(\"future\", quietly = TRUE))\n",
    "    install.packages(\"future\")\n",
    "if (!requireNamespace(\"DoubletFinder\", quietly = TRUE))\n",
    "    remotes::install_github('chris-mcginnis-ucsf/DoubletFinder')\n",
    "if (!requireNamespace(\"tidyverse\", quietly = TRUE))\n",
    "    install.packages(\"tidyverse\")\n",
    "#devtools::install_github(repo = 'satijalab/seurat', ref = 'develop')\n",
    "# if (!requireNamespace(\"COPILOT\", quietly = TRUE))\n",
    "#     devtools::install_github('Hsu-Che-Wei/COPILOT')\n"
   ]
  },
  {
   "cell_type": "code",
   "execution_count": null,
   "metadata": {},
   "outputs": [],
   "source": [
    "library(BUSpaRse)\n",
    "library(here)\n",
    "library(Matrix)\n",
    "library(tidyverse)\n",
    "library(Seurat)\n",
    "library(ggpointdensity)\n",
    "library(scico)\n",
    "library(scales)\n",
    "library(DropletUtils)\n",
    "library(reticulate)\n",
    "library(repr)\n",
    "library(DoubletFinder)\n",
    "library(future)\n",
    "options(future.globals.maxSize = 100000 * 1024^2)\n",
    "\n",
    "proto_genes=read.csv(\"../data/bulk_data/protoplasting.csv\")\n",
    "proto_list=as.character(proto_genes[abs(proto_genes$logFC) > 4,]$genes)\n",
    "\n",
    "# Slightly modified from BUSpaRse, just to avoid installing a few dependencies not used here\n",
    "read_count_output <- function(dir, name) {\n",
    "  dir <- normalizePath(dir, mustWork = TRUE)\n",
    "  m <- readMM(paste0(dir, \"/\", name, \".mtx\"))\n",
    "  m <- Matrix::t(m)\n",
    "  m <- as(m, \"dgCMatrix\")\n",
    "  # The matrix read has cells in rows\n",
    "  ge <- \".genes.txt\"\n",
    "  genes <- readLines(file(paste0(dir, \"/\", name, ge)))\n",
    "  barcodes <- readLines(file(paste0(dir, \"/\", name, \".barcodes.txt\")))\n",
    "  colnames(m) <- barcodes\n",
    "  rownames(m) <- genes\n",
    "  return(m)\n",
    "}\n"
   ]
  },
  {
   "cell_type": "code",
   "execution_count": 4,
   "metadata": {},
   "outputs": [],
   "source": [
    "#BE SURE TO RUN read_count_output FUNCTION AT END OF THIS NOTEBOOK FIRST. THIS IS NECESSARY TO READ DATA.\n",
    "#setwd\n",
    "setwd(here())\n",
    "\n",
    "#all spliced data\n",
    "wt1_spliced = read_count_output(\"../data/sc_26\", \"spliced\")\n",
    "\n",
    "wt2_spliced = read_count_output(\"../data/sc_67\", \"spliced\")\n",
    "\n",
    "mut1_spliced = read_count_output(\"../data/sc_27\", \"spliced\")\n",
    "\n",
    "mut2_spliced = read_count_output(\"../data/sc_68\", \"spliced\")\n",
    "\n",
    "#all unspliced data\n",
    "wt1_unspliced = read_count_output(\"../data/sc_26\", \"unspliced\")\n",
    "\n",
    "wt2_unspliced = read_count_output(\"../data/sc_67\", \"unspliced\")\n",
    "\n",
    "mut1_unspliced = read_count_output(\"../data/sc_27\", \"unspliced\")\n",
    "\n",
    "mut2_unspliced = read_count_output(\"../data/sc_68\", \"unspliced\")"
   ]
  },
  {
   "cell_type": "code",
   "execution_count": 5,
   "metadata": {},
   "outputs": [],
   "source": [
    "#pull out only arabidopsis genes\n",
    "#WT1\n",
    "wt1_spliced_arab = wt1_spliced[grepl(\"AT\",unlist(wt1_spliced@Dimnames[1]), fixed=TRUE),, drop=FALSE]\n",
    "\n",
    "wt1_unspliced_arab = wt1_unspliced[grepl(\"AT\",unlist(wt1_unspliced@Dimnames[1]), fixed=TRUE),, drop=FALSE]\n",
    "\n",
    "#WT2\n",
    "wt2_spliced_arab = wt2_spliced[grepl(\"AT\",unlist(wt2_spliced@Dimnames[1]), fixed=TRUE),, drop=FALSE]\n",
    "\n",
    "wt2_unspliced_arab = wt2_unspliced[grepl(\"AT\",unlist(wt2_unspliced@Dimnames[1]), fixed=TRUE),, drop=FALSE]\n",
    "\n",
    "#MUT1\n",
    "mut1_spliced_arab = mut1_spliced[grepl(\"AT\",unlist(mut1_spliced@Dimnames[1]), fixed=TRUE),, drop=FALSE]\n",
    "\n",
    "mut1_unspliced_arab = mut1_unspliced[grepl(\"AT\",unlist(mut1_unspliced@Dimnames[1]), fixed=TRUE),, drop=FALSE]\n",
    "\n",
    "#MUT2\n",
    "mut2_spliced_arab = mut2_spliced[grepl(\"AT\",unlist(mut2_spliced@Dimnames[1]), fixed=TRUE),, drop=FALSE]\n",
    "\n",
    "mut2_unspliced_arab = mut2_unspliced[grepl(\"AT\",unlist(mut2_unspliced@Dimnames[1]), fixed=TRUE),, drop=FALSE]"
   ]
  },
  {
   "cell_type": "code",
   "execution_count": 11,
   "metadata": {},
   "outputs": [],
   "source": [
    "#I think empty drops here on the spliced matrices. Better to do it here than after next step which is tantamount to weak filtering\n",
    "wt1_empty_drops = emptyDrops(wt1_spliced_arab[grepl(pattern = \"AT[1-5]\", unlist(wt1_spliced_arab@Dimnames[1])),, drop=FALSE], ignore = 25, lower = 125)\n",
    "wt2_empty_drops = emptyDrops(wt2_spliced_arab[grepl(pattern = \"AT[1-5]\", unlist(wt2_spliced_arab@Dimnames[1])),, drop=FALSE], ignore = 25, lower = 125)\n",
    "mut1_empty_drops = emptyDrops(mut1_spliced_arab[grepl(pattern = \"AT[1-5]\", unlist(mut1_spliced_arab@Dimnames[1])),, drop=FALSE], ignore = 25, lower = 125)\n",
    "mut2_empty_drops = emptyDrops(mut2_spliced_arab[grepl(pattern = \"AT[1-5]\", unlist(mut2_spliced_arab@Dimnames[1])),, drop=FALSE], ignore = 25, lower = 125)"
   ]
  },
  {
   "cell_type": "code",
   "execution_count": 13,
   "metadata": {},
   "outputs": [
    {
     "data": {
      "text/html": [
       "8894"
      ],
      "text/latex": [
       "8894"
      ],
      "text/markdown": [
       "8894"
      ],
      "text/plain": [
       "[1] 8894"
      ]
     },
     "metadata": {},
     "output_type": "display_data"
    },
    {
     "data": {
      "text/html": [
       "8756"
      ],
      "text/latex": [
       "8756"
      ],
      "text/markdown": [
       "8756"
      ],
      "text/plain": [
       "[1] 8756"
      ]
     },
     "metadata": {},
     "output_type": "display_data"
    },
    {
     "data": {
      "text/html": [
       "12319"
      ],
      "text/latex": [
       "12319"
      ],
      "text/markdown": [
       "12319"
      ],
      "text/plain": [
       "[1] 12319"
      ]
     },
     "metadata": {},
     "output_type": "display_data"
    },
    {
     "data": {
      "text/html": [
       "8392"
      ],
      "text/latex": [
       "8392"
      ],
      "text/markdown": [
       "8392"
      ],
      "text/plain": [
       "[1] 8392"
      ]
     },
     "metadata": {},
     "output_type": "display_data"
    }
   ],
   "source": [
    "sum(wt1_empty_drops$FDR<.001, na.rm = TRUE)\n",
    "sum(wt2_empty_drops$FDR<.001, na.rm = TRUE)\n",
    "sum(mut1_empty_drops$FDR<.001, na.rm = TRUE)\n",
    "sum(mut2_empty_drops$FDR<.001, na.rm = TRUE)"
   ]
  },
  {
   "cell_type": "code",
   "execution_count": 14,
   "metadata": {},
   "outputs": [],
   "source": [
    "#Make combined spliced/unspliced. Assume real cells will be present in both lists, so take barcodes in intersection, and intersect with the emptyDrops called cells\n",
    "#WT1\n",
    "shared = intersect(intersect(colnames(wt1_spliced_arab), colnames(wt1_unspliced_arab)), rownames(wt1_empty_drops[!is.na(wt1_empty_drops$FDR) & wt1_empty_drops$FDR < .001,]))\n",
    "wt1_combined = wt1_spliced_arab[,shared] + wt1_unspliced_arab[,shared]\n",
    "\n",
    "#WT2\n",
    "shared = intersect(intersect(colnames(wt2_spliced_arab), colnames(wt2_unspliced_arab)), rownames(wt2_empty_drops[!is.na(wt2_empty_drops$FDR) & wt2_empty_drops$FDR < .001,]))\n",
    "wt2_combined = wt2_spliced_arab[,shared] + wt2_unspliced_arab[,shared]\n",
    "\n",
    "#mut1\n",
    "shared = intersect(intersect(colnames(mut1_spliced_arab), colnames(mut1_unspliced_arab)), rownames(mut1_empty_drops[!is.na(mut1_empty_drops$FDR) & mut1_empty_drops$FDR < .001,]))\n",
    "mut1_combined =mut1_spliced_arab[,shared] + mut1_unspliced_arab[,shared]\n",
    "\n",
    "#mut2\n",
    "shared = intersect(intersect(colnames(mut2_spliced_arab), colnames(mut2_unspliced_arab)), rownames(mut2_empty_drops[!is.na(mut2_empty_drops$FDR) & mut2_empty_drops$FDR < .001,]))\n",
    "mut2_combined =mut2_spliced_arab[,shared] + mut2_unspliced_arab[,shared]\n",
    "\n",
    "#MAKE COMBINED SPLICED/UNSPLICED COUNT MATRICES FOR ALL SAMPLES. THEN REMOVE EMPTYDROPS FOR CELLS. THEN REMOVE DOUBLETS. THEN ROCK N ROLL"
   ]
  },
  {
   "cell_type": "code",
   "execution_count": 15,
   "metadata": {},
   "outputs": [
    {
     "data": {
      "text/plain": [
       "An object of class Seurat \n",
       "22966 features across 8894 samples within 1 assay \n",
       "Active assay: RNA (22966 features, 0 variable features)"
      ]
     },
     "metadata": {},
     "output_type": "display_data"
    },
    {
     "data": {
      "text/plain": [
       "An object of class Seurat \n",
       "22946 features across 8756 samples within 1 assay \n",
       "Active assay: RNA (22946 features, 0 variable features)"
      ]
     },
     "metadata": {},
     "output_type": "display_data"
    },
    {
     "data": {
      "text/plain": [
       "An object of class Seurat \n",
       "22617 features across 12319 samples within 1 assay \n",
       "Active assay: RNA (22617 features, 0 variable features)"
      ]
     },
     "metadata": {},
     "output_type": "display_data"
    },
    {
     "data": {
      "text/plain": [
       "An object of class Seurat \n",
       "22676 features across 8392 samples within 1 assay \n",
       "Active assay: RNA (22676 features, 0 variable features)"
      ]
     },
     "metadata": {},
     "output_type": "display_data"
    }
   ],
   "source": [
    "wt_1_seu <- CreateSeuratObject(wt1_combined, min.cells = 3)\n",
    "wt_1_seu\n",
    "\n",
    "wt_2_seu <- CreateSeuratObject(wt2_combined, min.cells = 3)\n",
    "wt_2_seu\n",
    "\n",
    "mut_1_seu <- CreateSeuratObject(mut1_combined, min.cells = 3)\n",
    "mut_1_seu\n",
    "\n",
    "mut_2_seu <- CreateSeuratObject(mut2_combined, min.cells = 3)\n",
    "mut_2_seu"
   ]
  },
  {
   "cell_type": "code",
   "execution_count": 17,
   "metadata": {},
   "outputs": [],
   "source": [
    "wt_1_seu=PercentageFeatureSet(wt_1_seu, pattern = \"ATM\", col.name = \"percent.mito\", assay = \"RNA\")\n",
    "wt_2_seu=PercentageFeatureSet(wt_2_seu, pattern = \"ATM\", col.name = \"percent.mito\", assay = \"RNA\")\n",
    "mut_1_seu=PercentageFeatureSet(mut_1_seu, pattern = \"ATM\", col.name = \"percent.mito\", assay = \"RNA\")\n",
    "mut_2_seu=PercentageFeatureSet(mut_2_seu, pattern = \"ATM\", col.name = \"percent.mito\", assay = \"RNA\")\n",
    "\n",
    "wt_1_seu=PercentageFeatureSet(wt_1_seu, pattern = \"ATC\", col.name = \"percent.cp\", assay = \"RNA\")\n",
    "wt_2_seu=PercentageFeatureSet(wt_2_seu, pattern = \"ATC\", col.name = \"percent.cp\", assay = \"RNA\")\n",
    "mut_1_seu=PercentageFeatureSet(mut_1_seu, pattern = \"ATC\", col.name = \"percent.cp\", assay = \"RNA\")\n",
    "mut_2_seu=PercentageFeatureSet(mut_2_seu, pattern = \"ATC\", col.name = \"percent.cp\", assay = \"RNA\")"
   ]
  },
  {
   "cell_type": "code",
   "execution_count": 18,
   "metadata": {},
   "outputs": [],
   "source": [
    "#Save the protoplast genes-, doublet-, high mito- seurat objects\n",
    "saveRDS(wt_1_seu, file = \"../data/seurat1/sc_26_seu_1_ED_no_min_features.rds\")\n",
    "saveRDS(wt_2_seu, file = \"../data/seurat1/sc_67_seu_1_ED_no_min_features.rds\")\n",
    "saveRDS(mut_1_seu, file = \"../data/seurat1/sc_27_seu_1_ED_no_min_features.rds\")\n",
    "saveRDS(mut_2_seu, file = \"../data/seurat1/sc_68_seu_1_ED_no_min_features.rds\")"
   ]
  }
 ],
 "metadata": {
  "kernelspec": {
   "display_name": "R",
   "language": "R",
   "name": "ir"
  },
  "language_info": {
   "codemirror_mode": "r",
   "file_extension": ".r",
   "mimetype": "text/x-r-source",
   "name": "R",
   "pygments_lexer": "r",
   "version": "3.6.3"
  }
 },
 "nbformat": 4,
 "nbformat_minor": 4
}
