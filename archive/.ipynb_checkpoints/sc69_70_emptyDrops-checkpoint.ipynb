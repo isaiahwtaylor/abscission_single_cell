{
 "cells": [
  {
   "cell_type": "code",
   "execution_count": null,
   "metadata": {},
   "outputs": [],
   "source": [
    "#PREPROCESSING SCRIPT\n",
    "#THIS TAKES IN THE SPLICED AND UNSPLICED MATRICES, MAKES A SUMMED COUNT MATRIX WITH EMPTYDROPS CALLED CELLS, MAKE SEURAT\n",
    "#OBJECTS AND ADD MT AND CP PERCENTAGE, THEN SAVE IN SEURAT1. "
   ]
  },
  {
   "cell_type": "code",
   "execution_count": 3,
   "metadata": {},
   "outputs": [],
   "source": [
    "if (!requireNamespace(\"BiocManager\", quietly = TRUE))\n",
    "    install.packages(\"BiocManager\")\n",
    "if (!requireNamespace(\"here\", quietly = TRUE))\n",
    "    install.packages(\"here\")\n",
    "if (!requireNamespace(\"ggplot2\", quietly = TRUE))\n",
    "    install.packages(\"ggplot2\")\n",
    "if (!requireNamespace(\"ggpointdensity\", quietly = TRUE))\n",
    "    install.packages(\"ggpointdensity\")\n",
    "if (!requireNamespace(\"DropletUtils\", quietly = TRUE)) \n",
    "    BiocManager::install(\"DropletUtils\")\n",
    "if (!requireNamespace(\"BUSpaRse\", quietly = TRUE)) \n",
    "    BiocManager::install(\"BUSpaRse\")\n",
    "if (!requireNamespace(\"scico\", quietly = TRUE))\n",
    "    install.packages(\"scico\")\n",
    "if (!requireNamespace(\"reticulate\", quietly = TRUE))\n",
    "    install.packages(\"reticulate\")\n",
    "if (!requireNamespace(\"future\", quietly = TRUE))\n",
    "    install.packages(\"future\")\n",
    "if (!requireNamespace(\"DoubletFinder\", quietly = TRUE))\n",
    "    remotes::install_github('chris-mcginnis-ucsf/DoubletFinder')\n",
    "if (!requireNamespace(\"tidyverse\", quietly = TRUE))\n",
    "    install.packages(\"tidyverse\")\n",
    "#devtools::install_github(repo = 'satijalab/seurat', ref = 'develop')\n",
    "# if (!requireNamespace(\"COPILOT\", quietly = TRUE))\n",
    "#     devtools::install_github('Hsu-Che-Wei/COPILOT')\n"
   ]
  },
  {
   "cell_type": "code",
   "execution_count": null,
   "metadata": {},
   "outputs": [],
   "source": [
    "library(BUSpaRse)\n",
    "library(here)\n",
    "library(Matrix)\n",
    "library(tidyverse)\n",
    "library(Seurat)\n",
    "library(ggpointdensity)\n",
    "library(scico)\n",
    "library(scales)\n",
    "library(DropletUtils)\n",
    "library(reticulate)\n",
    "library(repr)\n",
    "library(DoubletFinder)\n",
    "library(future)\n",
    "options(future.globals.maxSize = 100000 * 1024^2)\n",
    "\n",
    "proto_genes=read.csv(\"../data/bulk_data/protoplasting.csv\")\n",
    "proto_list=as.character(proto_genes[abs(proto_genes$logFC) > 4,]$genes)\n",
    "\n",
    "# Slightly modified from BUSpaRse, just to avoid installing a few dependencies not used here\n",
    "read_count_output <- function(dir, name) {\n",
    "  dir <- normalizePath(dir, mustWork = TRUE)\n",
    "  m <- readMM(paste0(dir, \"/\", name, \".mtx\"))\n",
    "  m <- Matrix::t(m)\n",
    "  m <- as(m, \"dgCMatrix\")\n",
    "  # The matrix read has cells in rows\n",
    "  ge <- \".genes.txt\"\n",
    "  genes <- readLines(file(paste0(dir, \"/\", name, ge)))\n",
    "  barcodes <- readLines(file(paste0(dir, \"/\", name, \".barcodes.txt\")))\n",
    "  colnames(m) <- barcodes\n",
    "  rownames(m) <- genes\n",
    "  return(m)\n",
    "}\n"
   ]
  },
  {
   "cell_type": "code",
   "execution_count": 2,
   "metadata": {},
   "outputs": [],
   "source": [
    "#BE SURE TO RUN read_count_output FUNCTION AT END OF THIS NOTEBOOK FIRST. THIS IS NECESSARY TO READ DATA.\n",
    "#setwd\n",
    "setwd(here())\n",
    "\n",
    "#all spliced data\n",
    "wt_spliced = read_count_output(\"../data/sc_69\", \"spliced\")\n",
    "\n",
    "mut_spliced = read_count_output(\"../data/sc_70\", \"spliced\")\n",
    "\n",
    "\n",
    "#all unspliced data\n",
    "wt_unspliced = read_count_output(\"../data/sc_69\", \"unspliced\")\n",
    "\n",
    "mut_unspliced = read_count_output(\"../data/sc_70\", \"unspliced\")"
   ]
  },
  {
   "cell_type": "code",
   "execution_count": 4,
   "metadata": {},
   "outputs": [],
   "source": [
    "#I think empty drops here on the spliced matrices. Better to do it here than after next step which is tantamount to weak filtering\n",
    "wt_empty_drops = emptyDrops(wt_spliced[grepl(pattern = \"AT[1-5]\", unlist(wt_spliced@Dimnames[1])),, drop=FALSE], ignore = 25, lower = 125)\n",
    "mut_empty_drops = emptyDrops(mut_spliced[grepl(pattern = \"AT[1-5]\", unlist(mut_spliced@Dimnames[1])),, drop=FALSE], ignore = 25, lower = 125)"
   ]
  },
  {
   "cell_type": "code",
   "execution_count": 5,
   "metadata": {},
   "outputs": [
    {
     "data": {
      "text/html": [
       "1619"
      ],
      "text/latex": [
       "1619"
      ],
      "text/markdown": [
       "1619"
      ],
      "text/plain": [
       "[1] 1619"
      ]
     },
     "metadata": {},
     "output_type": "display_data"
    },
    {
     "data": {
      "text/html": [
       "1478"
      ],
      "text/latex": [
       "1478"
      ],
      "text/markdown": [
       "1478"
      ],
      "text/plain": [
       "[1] 1478"
      ]
     },
     "metadata": {},
     "output_type": "display_data"
    }
   ],
   "source": [
    "sum(wt_empty_drops$FDR<.001, na.rm = TRUE)\n",
    "sum(mut_empty_drops$FDR<.001, na.rm = TRUE)"
   ]
  },
  {
   "cell_type": "code",
   "execution_count": 6,
   "metadata": {},
   "outputs": [],
   "source": [
    "#Make combined spliced/unspliced. Assume real cells will be present in both lists, so take barcodes in intersection, and intersect with the emptyDrops called cells\n",
    "#WT\n",
    "shared = intersect(intersect(colnames(wt_spliced), colnames(wt_unspliced)), rownames(wt_empty_drops[!is.na(wt_empty_drops$FDR) & wt_empty_drops$FDR < .001,]))\n",
    "wt_combined = wt_spliced[,shared] + wt_unspliced[,shared]\n",
    "\n",
    "#mut\n",
    "shared = intersect(intersect(colnames(mut_spliced), colnames(mut_unspliced)), rownames(mut_empty_drops[!is.na(mut_empty_drops$FDR) & mut_empty_drops$FDR < .001,]))\n",
    "mut_combined =mut_spliced[,shared] + mut_unspliced[,shared]\n",
    "\n",
    "#MAKE COMBINED SPLICED/UNSPLICED COUNT MATRICES FOR ALL SAMPLES. THEN REMOVE EMPTYDROPS FOR CELLS. THEN REMOVE DOUBLETS. THEN ROCK N ROLL"
   ]
  },
  {
   "cell_type": "code",
   "execution_count": 7,
   "metadata": {},
   "outputs": [
    {
     "data": {
      "text/plain": [
       "An object of class Seurat \n",
       "19531 features across 1619 samples within 1 assay \n",
       "Active assay: RNA (19531 features, 0 variable features)"
      ]
     },
     "metadata": {},
     "output_type": "display_data"
    },
    {
     "data": {
      "text/plain": [
       "An object of class Seurat \n",
       "18995 features across 1478 samples within 1 assay \n",
       "Active assay: RNA (18995 features, 0 variable features)"
      ]
     },
     "metadata": {},
     "output_type": "display_data"
    }
   ],
   "source": [
    "wt_seu <- CreateSeuratObject(wt_combined, min.cells = 3)\n",
    "wt_seu\n",
    "\n",
    "mut_seu <- CreateSeuratObject(mut_combined, min.cells = 3)\n",
    "mut_seu"
   ]
  },
  {
   "cell_type": "code",
   "execution_count": 8,
   "metadata": {},
   "outputs": [],
   "source": [
    "wt_seu=PercentageFeatureSet(wt_seu, pattern = \"ATM\", col.name = \"percent.mito\", assay = \"RNA\")\n",
    "mut_seu=PercentageFeatureSet(mut_seu, pattern = \"ATM\", col.name = \"percent.mito\", assay = \"RNA\")\n",
    "\n",
    "wt_seu=PercentageFeatureSet(wt_seu, pattern = \"ATC\", col.name = \"percent.cp\", assay = \"RNA\")\n",
    "mut_seu=PercentageFeatureSet(mut_seu, pattern = \"ATC\", col.name = \"percent.cp\", assay = \"RNA\")"
   ]
  },
  {
   "cell_type": "code",
   "execution_count": 9,
   "metadata": {},
   "outputs": [],
   "source": [
    "#Save the protoplast genes-, doublet-, high mito- seurat objects\n",
    "saveRDS(wt_seu, file = \"../data/seurat1/sc_69_seu_1_ED_no_min_features.rds\")\n",
    "saveRDS(mut_seu, file = \"../data/seurat1/sc_70_seu_1_ED_no_min_features.rds\")"
   ]
  },
  {
   "cell_type": "code",
   "execution_count": null,
   "metadata": {},
   "outputs": [],
   "source": [
    "intd_seu_all <- RunPCA(intd_seu_all, verbose = FALSE)\n",
    "intd_seu_all <- RunUMAP(intd_seu_all, dims = 1:15, verbose = FALSE)\n",
    "\n",
    "intd_seu_all <- FindNeighbors(intd_seu_all, dims = 1:15, verbose = FALSE)\n",
    "intd_seu_all <- FindClusters(intd_seu_all, verbose = FALSE)\n",
    "options(repr.plot.width=10, repr.plot.height=10)\n",
    "DimPlot(intd_seu_all, label = TRUE) "
   ]
  }
 ],
 "metadata": {
  "kernelspec": {
   "display_name": "R",
   "language": "R",
   "name": "ir"
  },
  "language_info": {
   "codemirror_mode": "r",
   "file_extension": ".r",
   "mimetype": "text/x-r-source",
   "name": "R",
   "pygments_lexer": "r",
   "version": "3.6.3"
  }
 },
 "nbformat": 4,
 "nbformat_minor": 4
}
