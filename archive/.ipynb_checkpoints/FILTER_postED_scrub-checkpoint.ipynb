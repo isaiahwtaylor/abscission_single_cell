{
 "cells": [
  {
   "cell_type": "code",
   "execution_count": null,
   "metadata": {},
   "outputs": [],
   "source": [
    "library(BUSpaRse)\n",
    "library(here)\n",
    "library(Matrix)\n",
    "library(tidyverse)\n",
    "library(Seurat)\n",
    "library(ggpointdensity)\n",
    "library(scico)\n",
    "library(scales)\n",
    "library(DropletUtils)\n",
    "library(reticulate)\n",
    "library(repr)\n",
    "library(future)\n",
    "options(future.globals.maxSize = 100000 * 1024^2)\n",
    "\n",
    "proto_genes=read.csv(\"../data/bulk_data/protoplasting.csv\")\n",
    "proto_list=as.character(proto_genes[abs(proto_genes$logFC) > 4,]$genes)"
   ]
  },
  {
   "cell_type": "code",
   "execution_count": 2,
   "metadata": {},
   "outputs": [],
   "source": [
    "wt1_postEDscr = readMM(\"/home/robotmessenger810/sc_analysis/data/raw_count_matrices/sc_counts_post_ED_scrublet/wt_1_matrix.mtx\")\n",
    "wt2_postEDscr = readMM(\"/home/robotmessenger810/sc_analysis/data/raw_count_matrices/sc_counts_post_ED_scrublet/wt_2_matrix.mtx\")\n",
    "mut1_postEDscr = readMM(\"/home/robotmessenger810/sc_analysis/data/raw_count_matrices/sc_counts_post_ED_scrublet/mut_1_matrix.mtx\")\n",
    "mut2_postEDscr = readMM(\"/home/robotmessenger810/sc_analysis/data/raw_count_matrices/sc_counts_post_ED_scrublet/mut_2_matrix.mtx\")"
   ]
  },
  {
   "cell_type": "code",
   "execution_count": null,
   "metadata": {},
   "outputs": [],
   "source": []
  }
 ],
 "metadata": {
  "kernelspec": {
   "display_name": "R",
   "language": "R",
   "name": "ir"
  },
  "language_info": {
   "codemirror_mode": "r",
   "file_extension": ".r",
   "mimetype": "text/x-r-source",
   "name": "R",
   "pygments_lexer": "r",
   "version": "3.6.3"
  }
 },
 "nbformat": 4,
 "nbformat_minor": 4
}
