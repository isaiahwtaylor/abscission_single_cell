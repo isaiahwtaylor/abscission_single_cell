{
 "cells": [
  {
   "cell_type": "code",
   "execution_count": null,
   "metadata": {},
   "outputs": [],
   "source": [
    "library(BUSpaRse)\n",
    "library(here)\n",
    "library(Matrix)\n",
    "library(tidyverse)\n",
    "library(Seurat)\n",
    "library(ggpointdensity)\n",
    "library(scico)\n",
    "library(scales)\n",
    "library(DropletUtils)\n",
    "library(reticulate)\n",
    "library(repr)\n",
    "library(DoubletFinder)\n",
    "library(future)\n",
    "options(future.globals.maxSize = 100000 * 1024^2)\n",
    "\n",
    "proto_genes=read.csv(\"../data/bulk_data/protoplasting.csv\")\n",
    "proto_list=as.character(proto_genes[abs(proto_genes$logFC) > 4,]$genes)"
   ]
  },
  {
   "cell_type": "code",
   "execution_count": null,
   "metadata": {},
   "outputs": [],
   "source": [
    "all_intd_sct = readRDS(\"../data/intd_seu_objects/intd_normalized_etc_10_16_20.rds\")"
   ]
  },
  {
   "cell_type": "code",
   "execution_count": null,
   "metadata": {},
   "outputs": [],
   "source": [
    "#test resolution\n",
    "all_intd_sct_resolution_test = list()\n",
    "all_markers = list()\n",
    "\n",
    "for (i in c(1,3,5)) {\n",
    "    all_intd_sct_resolution_test[[i]] <- FindClusters(all_intd_sct, resolution = (i)/10)\n",
    "    #all_intd_sct_resolution_test[[i]] <- RunUMAP(all_intd_sct_resolution_test[[i]], reduction = \"pca\", dims = 1:10)\n",
    "    all_markers[[i]] <- FindAllMarkers(all_intd_sct_resolution_test[[i]], min.pct =  0.25, min.diff.pct = 0.25)\n",
    "    saveRDS(all_markers[[i]], paste(\"/home/robotmessenger810/sc_analysis/data/for_jose/all_markers_\", toString(i), sep = \"\"))\n",
    "}\n",
    "\n",
    "saveRDS(all_intd_sct_resolution_test, \"/home/robotmessenger810/sc_analysis/data/for_jose/all_intd_sct_resolution_test\")"
   ]
  },
  {
   "cell_type": "code",
   "execution_count": null,
   "metadata": {},
   "outputs": [],
   "source": [
    "a1 = readRDS(\"/home/robotmessenger810/sc_analysis/data/for_jose/all_markers_1\")\n",
    "write.csv(a1, \"/home/robotmessenger810/sc_analysis/data/for_jose/all_markers_1.csv\")\n",
    "\n",
    "a3 = readRDS(\"/home/robotmessenger810/sc_analysis/data/for_jose/all_markers_3\")\n",
    "write.csv(a3, \"/home/robotmessenger810/sc_analysis/data/for_jose/all_markers_3.csv\")\n",
    "\n",
    "a5 = readRDS(\"/home/robotmessenger810/sc_analysis/data/for_jose/all_markers_5\")\n",
    "write.csv(a5, \"/home/robotmessenger810/sc_analysis/data/for_jose/all_markers_5.csv\")"
   ]
  },
  {
   "cell_type": "code",
   "execution_count": null,
   "metadata": {},
   "outputs": [],
   "source": [
    "all_intd_sct_resolution_test = readRDS(\"/home/robotmessenger810/sc_analysis/data/for_jose/all_intd_sct_resolution_test\")"
   ]
  },
  {
   "cell_type": "code",
   "execution_count": null,
   "metadata": {},
   "outputs": [],
   "source": [
    "all_intd_sct_resolution_test[[1]] <- RunUMAP(all_intd_sct_resolution_test[[1]], reduction = \"pca\", dims = 1:10)\n",
    "DimPlot(all_intd_sct_resolution_test[[1]], reduction = \"umap\", label = TRUE)"
   ]
  },
  {
   "cell_type": "code",
   "execution_count": null,
   "metadata": {},
   "outputs": [],
   "source": [
    "all_intd_sct_resolution_test[[3]] <- RunUMAP(all_intd_sct_resolution_test[[3]], reduction = \"pca\", dims = 1:10)\n",
    "DimPlot(all_intd_sct_resolution_test[[3]], reduction = \"umap\", label = TRUE)"
   ]
  },
  {
   "cell_type": "code",
   "execution_count": null,
   "metadata": {},
   "outputs": [],
   "source": [
    "all_intd_sct_resolution_test[[5]] <- RunUMAP(all_intd_sct_resolution_test[[5]], reduction = \"pca\", dims = 1:10)\n",
    "DimPlot(all_intd_sct_resolution_test[[5]], reduction = \"umap\", label = TRUE)"
   ]
  }
 ],
 "metadata": {
  "kernelspec": {
   "display_name": "R",
   "language": "R",
   "name": "ir"
  },
  "language_info": {
   "codemirror_mode": "r",
   "file_extension": ".r",
   "mimetype": "text/x-r-source",
   "name": "R",
   "pygments_lexer": "r",
   "version": "3.6.3"
  }
 },
 "nbformat": 4,
 "nbformat_minor": 4
}
