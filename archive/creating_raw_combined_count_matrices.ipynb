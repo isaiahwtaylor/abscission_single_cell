{
 "cells": [
  {
   "cell_type": "code",
   "execution_count": null,
   "metadata": {},
   "outputs": [],
   "source": [
    "library(BUSpaRse)\n",
    "library(here)\n",
    "library(Matrix)\n",
    "library(tidyverse)\n",
    "library(Seurat)\n",
    "library(ggpointdensity)\n",
    "library(scico)\n",
    "library(scales)\n",
    "library(DropletUtils)\n",
    "library(reticulate)\n",
    "library(repr)\n",
    "library(DoubletFinder)\n",
    "library(future)\n",
    "options(future.globals.maxSize = 100000 * 1024^2)\n",
    "\n",
    "proto_genes=read.csv(\"../data/bulk_data/protoplasting.csv\")\n",
    "proto_list=as.character(proto_genes[abs(proto_genes$logFC) > 4,]$genes)\n",
    "\n",
    "# Slightly modified from BUSpaRse, just to avoid installing a few dependencies not used here\n",
    "read_count_output <- function(dir, name) {\n",
    "  dir <- normalizePath(dir, mustWork = TRUE)\n",
    "  m <- readMM(paste0(dir, \"/\", name, \".mtx\"))\n",
    "  m <- Matrix::t(m)\n",
    "  m <- as(m, \"dgCMatrix\")\n",
    "  # The matrix read has cells in rows\n",
    "  ge <- \".genes.txt\"\n",
    "  genes <- readLines(file(paste0(dir, \"/\", name, ge)))\n",
    "  barcodes <- readLines(file(paste0(dir, \"/\", name, \".barcodes.txt\")))\n",
    "  colnames(m) <- barcodes\n",
    "  rownames(m) <- genes\n",
    "  return(m)\n",
    "}\n"
   ]
  },
  {
   "cell_type": "code",
   "execution_count": 2,
   "metadata": {},
   "outputs": [],
   "source": [
    "#BE SURE TO RUN read_count_output FUNCTION ABOVE FIRST. THIS IS NECESSARY TO READ DATA.\n",
    "#setwd\n",
    "setwd(here())\n",
    "\n",
    "#all spliced data\n",
    "wt1_spliced = read_count_output(\"../data/sc_26\", \"spliced\")\n",
    "\n",
    "wt2_spliced = read_count_output(\"../data/sc_67\", \"spliced\")\n",
    "\n",
    "mut1_spliced = read_count_output(\"../data/sc_27\", \"spliced\")\n",
    "\n",
    "mut2_spliced = read_count_output(\"../data/sc_68\", \"spliced\")\n",
    "\n",
    "#all unspliced data\n",
    "wt1_unspliced = read_count_output(\"../data/sc_26\", \"unspliced\")\n",
    "\n",
    "wt2_unspliced = read_count_output(\"../data/sc_67\", \"unspliced\")\n",
    "\n",
    "mut1_unspliced = read_count_output(\"../data/sc_27\", \"unspliced\")\n",
    "\n",
    "mut2_unspliced = read_count_output(\"../data/sc_68\", \"unspliced\")"
   ]
  },
  {
   "cell_type": "code",
   "execution_count": 3,
   "metadata": {},
   "outputs": [],
   "source": [
    "#pull out only arabidopsis genes\n",
    "#WT1\n",
    "wt1_spliced_arab = wt1_spliced[grepl(\"AT\",unlist(wt1_spliced@Dimnames[1]), fixed=TRUE),, drop=FALSE]\n",
    "\n",
    "wt1_unspliced_arab = wt1_unspliced[grepl(\"AT\",unlist(wt1_unspliced@Dimnames[1]), fixed=TRUE),, drop=FALSE]\n",
    "\n",
    "#WT2\n",
    "wt2_spliced_arab = wt2_spliced[grepl(\"AT\",unlist(wt2_spliced@Dimnames[1]), fixed=TRUE),, drop=FALSE]\n",
    "\n",
    "wt2_unspliced_arab = wt2_unspliced[grepl(\"AT\",unlist(wt2_unspliced@Dimnames[1]), fixed=TRUE),, drop=FALSE]\n",
    "\n",
    "#MUT1\n",
    "mut1_spliced_arab = mut1_spliced[grepl(\"AT\",unlist(mut1_spliced@Dimnames[1]), fixed=TRUE),, drop=FALSE]\n",
    "\n",
    "mut1_unspliced_arab = mut1_unspliced[grepl(\"AT\",unlist(mut1_unspliced@Dimnames[1]), fixed=TRUE),, drop=FALSE]\n",
    "\n",
    "#MUT2\n",
    "mut2_spliced_arab = mut2_spliced[grepl(\"AT\",unlist(mut2_spliced@Dimnames[1]), fixed=TRUE),, drop=FALSE]\n",
    "\n",
    "mut2_unspliced_arab = mut2_unspliced[grepl(\"AT\",unlist(mut2_unspliced@Dimnames[1]), fixed=TRUE),, drop=FALSE]"
   ]
  },
  {
   "cell_type": "code",
   "execution_count": 4,
   "metadata": {},
   "outputs": [],
   "source": [
    "#Make combined spliced/unspliced. Assume real cells will be present in both lists, so take barcodes in intersection, and intersect with the emptyDrops called cells\n",
    "#WT1\n",
    "shared = intersect(colnames(wt1_spliced_arab), colnames(wt1_unspliced_arab))\n",
    "wt1_combined = wt1_spliced_arab[,shared] + wt1_unspliced_arab[,shared]\n",
    "\n",
    "#WT2\n",
    "shared = intersect(colnames(wt2_spliced_arab), colnames(wt2_unspliced_arab))\n",
    "wt2_combined = wt2_spliced_arab[,shared] + wt2_unspliced_arab[,shared]\n",
    "\n",
    "#mut1\n",
    "shared = intersect(colnames(mut1_spliced_arab), colnames(mut1_unspliced_arab))\n",
    "mut1_combined =mut1_spliced_arab[,shared] + mut1_unspliced_arab[,shared]\n",
    "\n",
    "#mut2\n",
    "shared = intersect(colnames(mut2_spliced_arab), colnames(mut2_unspliced_arab))\n",
    "mut2_combined =mut2_spliced_arab[,shared] + mut2_unspliced_arab[,shared]\n",
    "\n",
    "#MAKE COMBINED SPLICED/UNSPLICED COUNT MATRICES FOR ALL SAMPLES. THEN REMOVE EMPTYDROPS FOR CELLS. THEN REMOVE DOUBLETS. THEN ROCK N ROLL"
   ]
  },
  {
   "cell_type": "code",
   "execution_count": 6,
   "metadata": {},
   "outputs": [
    {
     "data": {
      "text/plain": [
       "NULL"
      ]
     },
     "metadata": {},
     "output_type": "display_data"
    },
    {
     "data": {
      "text/plain": [
       "NULL"
      ]
     },
     "metadata": {},
     "output_type": "display_data"
    },
    {
     "data": {
      "text/plain": [
       "NULL"
      ]
     },
     "metadata": {},
     "output_type": "display_data"
    },
    {
     "data": {
      "text/plain": [
       "NULL"
      ]
     },
     "metadata": {},
     "output_type": "display_data"
    }
   ],
   "source": [
    "t = as(wt1_combined, \"dgTMatrix\")\n",
    "writeMM(t, \"/home/robotmessenger810/sc_analysis/data/raw_count_matrices/combined_pre_empty_drops/wt_1_matrix.mtx\")\n",
    "\n",
    "t = as(wt2_combined, \"dgTMatrix\")\n",
    "writeMM(t, \"/home/robotmessenger810/sc_analysis/data/raw_count_matrices/combined_pre_empty_drops/wt_2_matrix.mtx\")\n",
    "\n",
    "t = as(mut1_combined, \"dgTMatrix\")\n",
    "writeMM(t, \"/home/robotmessenger810/sc_analysis/data/raw_count_matrices/combined_pre_empty_drops/mut_1_matrix.mtx\")\n",
    "\n",
    "t = as(mut2_combined, \"dgTMatrix\")\n",
    "writeMM(t, \"/home/robotmessenger810/sc_analysis/data/raw_count_matrices/combined_pre_empty_drops/mut_2_matrix.mtx\")"
   ]
  }
 ],
 "metadata": {
  "kernelspec": {
   "display_name": "R",
   "language": "R",
   "name": "ir"
  },
  "language_info": {
   "codemirror_mode": "r",
   "file_extension": ".r",
   "mimetype": "text/x-r-source",
   "name": "R",
   "pygments_lexer": "r",
   "version": "4.0.3"
  }
 },
 "nbformat": 4,
 "nbformat_minor": 4
}
