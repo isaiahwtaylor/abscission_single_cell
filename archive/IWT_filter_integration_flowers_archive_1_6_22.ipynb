{
 "cells": [
  {
   "cell_type": "markdown",
   "metadata": {},
   "source": [
    "A few things to try:\n",
    "-just include experimental condition as covariate when sctransforming merged dataset\n",
    "    -ie https://www.biostars.org/p/492222/\n",
    "\n",
    "-use wt reps as references and integrate and do label transfer\n",
    "    https://satijalab.org/seurat/archive/v3.0/integration.html\n",
    "\n",
    "-use approach from Col_h3h3 script to integrate SCT t\n",
    "    \n",
    "overall goal is to identify AZ cells\n",
    "\n",
    "-test strategy below with Che_wei's filtered data\n",
    "\n",
    "-Test:\n",
    "IT v CW filtering\n",
    "SCT with ot without batch correction\n",
    "SCT with ot without experiment correction\n",
    "\n",
    "check number of AZ cells in each case\n",
    "make DE list for each\n",
    "\n",
    "-New idea from 1/5/22:\n",
    "   *analyze/integrate only WT. \n",
    "   *Identify AZ cluster by measure of known marker gene specificty across leiden clustering resolutions (categorical cross-entropy)\n",
    "   *Identify marker genes for putative AZ cluster not reduced in bulk data\n",
    "   *separately analyze/integrate mutant\n",
    "   *Identify AZ cluster by measure of de novo marker gene specificity across leiden clustering resolutions (same as above)\n",
    "   *Compare pseudo-bulk\n",
    "   "
   ]
  },
  {
   "cell_type": "code",
   "execution_count": null,
   "metadata": {},
   "outputs": [],
   "source": [
    "library(here)\n",
    "library(Matrix)\n",
    "library(tidyverse)\n",
    "library(Seurat)\n",
    "library(ggpointdensity)\n",
    "library(scales)\n",
    "library(DropletUtils)\n",
    "library(reticulate)\n",
    "library(repr)\n",
    "#library(DoubletFinder)\n",
    "library(future)\n",
    "library(RColorBrewer)\n",
    "library(edgeR)\n",
    "options(future.globals.maxSize = 100000 * 1024^2)\n",
    "\n",
    "proto_genes=read.csv(\"../data/bulk_data/protoplasting.csv\")\n",
    "proto_list=as.character(proto_genes[abs(proto_genes$logFC) > 1,]$genes)"
   ]
  },
  {
   "cell_type": "code",
   "execution_count": 2,
   "metadata": {},
   "outputs": [],
   "source": [
    "# THIS IS THE PREPROCESSING TO GET TO THE INTEGRATED SEURAT OBJECT. JUST UNCOMMENT ENTIRE CELL.\n",
    "\n",
    "#IWT FILTERING\n",
    "wt_1_seu = readRDS(file = \"../data/seurat_objects/seurat_raw_3_11_21/sc_26_combined.rds\")\n",
    "wt_2_seu = readRDS(file = \"../data/seurat_objects/seurat_raw_3_11_21/sc_67.rds\")\n",
    "mut_1_seu = readRDS(file = \"../data/seurat_objects/seurat_raw_3_11_21/sc_27_combined.rds\")\n",
    "mut_2_seu = readRDS(file = \"../data/seurat_objects/seurat_raw_3_11_21/sc_68.rds\")\n",
    "YFP_1_seu = readRDS(file = \"../data/seurat_objects/seurat_raw_3_11_21/sc_101.rds\")\n",
    "YFP_2_seu = readRDS(file = \"../data/seurat_objects/seurat_raw_3_11_21/sc_103.rds\")\n",
    "KE_1_seu = readRDS(file = \"../data/seurat_objects/seurat_raw_3_11_21/sc_102.rds\")\n",
    "KE_2_seu = readRDS(file = \"../data/seurat_objects/seurat_raw_3_11_21/sc_104.rds\")\n",
    "\n",
    "#set experimental condition\n",
    "wt_1_seu@meta.data$condition = \"wt_unsorted\"\n",
    "wt_2_seu@meta.data$condition = \"wt_unsorted\"\n",
    "mut_1_seu@meta.data$condition = \"mut_unsorted\"\n",
    "mut_2_seu@meta.data$condition = \"mut_unsorted\"\n",
    "YFP_1_seu@meta.data$condition = \"wt_sorted\"\n",
    "YFP_2_seu@meta.data$condition = \"wt_sorted\"\n",
    "KE_1_seu@meta.data$condition = \"mut_sorted\"\n",
    "KE_2_seu@meta.data$condition = \"mut_sorted\"\n",
    "\n",
    "#set batch\n",
    "wt_1_seu@meta.data$batch = \"1\"\n",
    "wt_2_seu@meta.data$batch = \"2\"\n",
    "mut_1_seu@meta.data$batch  = \"1\"\n",
    "mut_2_seu@meta.data$batch  = \"2\"\n",
    "YFP_1_seu@meta.data$batch  = \"3\"\n",
    "YFP_2_seu@meta.data$batch  = \"3\"\n",
    "KE_1_seu@meta.data$batch = \"3\"\n",
    "KE_2_seu@meta.data$batch = \"3\""
   ]
  },
  {
   "cell_type": "code",
   "execution_count": 3,
   "metadata": {},
   "outputs": [],
   "source": [
    "counts1 <- as.matrix(GetAssayData(subset(wt_1_seu), slot = \"counts\"))\n",
    "counts2 <- as.matrix(GetAssayData(subset(wt_2_seu), slot = \"counts\"))\n",
    "counts3 <- as.matrix(GetAssayData(subset(mut_1_seu), slot = \"counts\"))\n",
    "counts4 <- as.matrix(GetAssayData(subset(mut_2_seu), slot = \"counts\"))\n",
    "counts5 <- as.matrix(GetAssayData(subset(YFP_1_seu), slot = \"counts\"))\n",
    "counts6 <- as.matrix(GetAssayData(subset(YFP_2_seu), slot = \"counts\"))\n",
    "counts7 <- as.matrix(GetAssayData(subset(KE_1_seu), slot = \"counts\"))\n",
    "counts8 <- as.matrix(GetAssayData(subset(KE_2_seu), slot = \"counts\"))"
   ]
  },
  {
   "cell_type": "code",
   "execution_count": 4,
   "metadata": {},
   "outputs": [
    {
     "data": {
      "text/html": [
       "2203.14396058064"
      ],
      "text/latex": [
       "2203.14396058064"
      ],
      "text/markdown": [
       "2203.14396058064"
      ],
      "text/plain": [
       "[1] 2203.144"
      ]
     },
     "metadata": {},
     "output_type": "display_data"
    },
    {
     "data": {
      "text/html": [
       "2417.36824725928"
      ],
      "text/latex": [
       "2417.36824725928"
      ],
      "text/markdown": [
       "2417.36824725928"
      ],
      "text/plain": [
       "[1] 2417.368"
      ]
     },
     "metadata": {},
     "output_type": "display_data"
    },
    {
     "data": {
      "text/html": [
       "1226.75489925476"
      ],
      "text/latex": [
       "1226.75489925476"
      ],
      "text/markdown": [
       "1226.75489925476"
      ],
      "text/plain": [
       "[1] 1226.755"
      ]
     },
     "metadata": {},
     "output_type": "display_data"
    },
    {
     "data": {
      "text/html": [
       "2365.17432040116"
      ],
      "text/latex": [
       "2365.17432040116"
      ],
      "text/markdown": [
       "2365.17432040116"
      ],
      "text/plain": [
       "[1] 2365.174"
      ]
     },
     "metadata": {},
     "output_type": "display_data"
    },
    {
     "data": {
      "text/html": [
       "1699.96013667426"
      ],
      "text/latex": [
       "1699.96013667426"
      ],
      "text/markdown": [
       "1699.96013667426"
      ],
      "text/plain": [
       "[1] 1699.96"
      ]
     },
     "metadata": {},
     "output_type": "display_data"
    },
    {
     "data": {
      "text/html": [
       "1779.03317535545"
      ],
      "text/latex": [
       "1779.03317535545"
      ],
      "text/markdown": [
       "1779.03317535545"
      ],
      "text/plain": [
       "[1] 1779.033"
      ]
     },
     "metadata": {},
     "output_type": "display_data"
    },
    {
     "data": {
      "text/html": [
       "1947.69815668203"
      ],
      "text/latex": [
       "1947.69815668203"
      ],
      "text/markdown": [
       "1947.69815668203"
      ],
      "text/plain": [
       "[1] 1947.698"
      ]
     },
     "metadata": {},
     "output_type": "display_data"
    },
    {
     "data": {
      "text/html": [
       "1349.22222222222"
      ],
      "text/latex": [
       "1349.22222222222"
      ],
      "text/markdown": [
       "1349.22222222222"
      ],
      "text/plain": [
       "[1] 1349.222"
      ]
     },
     "metadata": {},
     "output_type": "display_data"
    }
   ],
   "source": [
    "mean(Matrix::colSums(counts1 > 0))\n",
    "mean(Matrix::colSums(counts2 > 0))\n",
    "mean(Matrix::colSums(counts3 > 0))\n",
    "mean(Matrix::colSums(counts4 > 0))\n",
    "mean(Matrix::colSums(counts5 > 0))\n",
    "mean(Matrix::colSums(counts6 > 0))\n",
    "mean(Matrix::colSums(counts7 > 0))\n",
    "mean(Matrix::colSums(counts8 > 0))"
   ]
  },
  {
   "cell_type": "code",
   "execution_count": null,
   "metadata": {},
   "outputs": [],
   "source": [
    "#WT\n",
    "wt_1_seu = SCTransform(wt_1_seu)\n",
    "wt_2_seu = SCTransform(wt_2_seu)\n",
    "YFP_1_seu = SCTransform(YFP_1_seu)\n",
    "YFP_2_seu = SCTransform(YFP_2_seu)"
   ]
  },
  {
   "cell_type": "code",
   "execution_count": null,
   "metadata": {},
   "outputs": [],
   "source": [
    "seu_intd_wt = seu_integrate(wt_1_seu, wt_2_seu, YFP_1_seu, YFP_2_seu, filename = \"1_6_22_IWT\", nfeatures = 3000)"
   ]
  },
  {
   "cell_type": "code",
   "execution_count": null,
   "metadata": {},
   "outputs": [],
   "source": [
    "#h3h3\n",
    "mut_1_seu = SCTransform(mut_1_seu)\n",
    "mut_2_seu = SCTransform(mut_2_seu)\n",
    "KE_1_seu = SCTransform(KE_1_seu)\n",
    "KE_2_seu = SCTransform(KE_2_seu)"
   ]
  },
  {
   "cell_type": "code",
   "execution_count": null,
   "metadata": {},
   "outputs": [],
   "source": [
    "seu_intd = seu_integrate(wt_1_seu, wt_2_seu, mut_1_seu, mut_2_seu, YFP_1_seu, YFP_2_seu, KE_1_seu, KE_2_seu, filename = \"6_15_21_IWT\", nfeatures = 3000)"
   ]
  },
  {
   "cell_type": "code",
   "execution_count": null,
   "metadata": {},
   "outputs": [],
   "source": [
    "seu_intd = readRDS(file = \"../data/intd_seu_objects/6_15_21_IWT.rds\")"
   ]
  },
  {
   "cell_type": "code",
   "execution_count": null,
   "metadata": {},
   "outputs": [],
   "source": [
    "seu_intd"
   ]
  },
  {
   "cell_type": "code",
   "execution_count": null,
   "metadata": {},
   "outputs": [],
   "source": [
    "DefaultAssay(seu_intd) <- \"integrated\"\n",
    "options(repr.plot.width=12, repr.plot.height=12)\n",
    "# Run the standard workflow for visualization and clustering\n",
    "#all_intd_sct <- ScaleData(all_intd_sct, verbose = FALSE)\n",
    "seu_intd <- RunPCA(seu_intd, npcs = 50, verbose = FALSE, approx = FALSE)\n",
    "#From RunPCA doc: Features to compute PCA on. If features=NULL, PCA will be run using the variable features for the Assay. \n",
    "#Note that the features must be present in the scaled data. Any requested features that are not scaled or have 0 variance \n",
    "#will be dropped, and the PCA will be run using the remaining features.\n",
    "\n",
    "seu_intd <- FindNeighbors(seu_intd, dims = 1:50)\n",
    "seu_intd <- FindClusters(seu_intd, resolution = 0.5)\n",
    "seu_intd <- RunUMAP(seu_intd, reduction = \"pca\", dims = 1:50)\n",
    "DimPlot(seu_intd, reduction = \"umap\", label = TRUE)"
   ]
  },
  {
   "cell_type": "code",
   "execution_count": null,
   "metadata": {},
   "outputs": [],
   "source": [
    "options(repr.plot.width=30, repr.plot.height=8)\n",
    "DimPlot(seu_intd, reduction = \"umap\", label = TRUE, split.by = \"orig.ident\")"
   ]
  },
  {
   "cell_type": "code",
   "execution_count": null,
   "metadata": {},
   "outputs": [],
   "source": [
    "cluster = \"5\"\n",
    "seu_intd@active.assay = \"RNA\"\n",
    "\n",
    "wt_1_AZ <- rowSums(as.matrix(GetAssayData(subset(seu_intd, subset = orig.ident == \"sc_26_combined\"), slot = \"counts\")[, WhichCells(subset(seu_intd, subset = orig.ident == \"sc_26_combined\"), ident = cluster)]))\n",
    "wt_2_AZ <- rowSums(as.matrix(GetAssayData(subset(seu_intd, subset = orig.ident == \"sc_67\"), slot = \"counts\")[, WhichCells(subset(seu_intd, subset = orig.ident == \"sc_67\"), ident = cluster)]))\n",
    "mut_1_AZ <- rowSums(as.matrix(GetAssayData(subset(seu_intd, subset = orig.ident == \"sc_27_combined\"), slot = \"counts\")[, WhichCells(subset(seu_intd, subset = orig.ident == \"sc_27_combined\"), ident = cluster)]))\n",
    "mut_2_AZ <- rowSums(as.matrix(GetAssayData(subset(seu_intd, subset = orig.ident == \"sc_68\"), slot = \"counts\")[, WhichCells(subset(seu_intd, subset = orig.ident == \"sc_68\"), ident = cluster)]))\n",
    "YFP_1_AZ <- rowSums(as.matrix(GetAssayData(subset(seu_intd, subset = orig.ident == \"sc_101\"), slot = \"counts\")[, WhichCells(subset(seu_intd, subset = orig.ident == \"sc_101\"), ident = cluster)]))\n",
    "YFP_2_AZ <- rowSums(as.matrix(GetAssayData(subset(seu_intd, subset = orig.ident == \"sc_103\"), slot = \"counts\")[, WhichCells(subset(seu_intd, subset = orig.ident == \"sc_103\"), ident = cluster)]))\n",
    "KE_1_AZ <- rowSums(as.matrix(GetAssayData(subset(seu_intd, subset = orig.ident == \"sc_102\"), slot = \"counts\")[, WhichCells(subset(seu_intd, subset = orig.ident == \"sc_102\"), ident = cluster)]))\n",
    "KE_2_AZ <- rowSums(as.matrix(GetAssayData(subset(seu_intd, subset = orig.ident == \"sc_104\"), slot = \"counts\")[, WhichCells(subset(seu_intd, subset = orig.ident == \"sc_104\"), ident = cluster)]))\n",
    "\n"
   ]
  },
  {
   "cell_type": "code",
   "execution_count": null,
   "metadata": {},
   "outputs": [],
   "source": [
    "all_AZ = cbind(wt_1_AZ, wt_2_AZ, mut_1_AZ, mut_2_AZ, YFP_1_AZ, YFP_2_AZ, KE_1_AZ, KE_2_AZ)\n",
    "colnames(all_AZ) = c(\"wt_1_pb\", \"wt_2_pb\", \"mut_1_pb\", \"mut_2_pb\", \"YFP_1_pb\", \"YFP_2_pb\", \"KE_1_pb\", \"KE_2_pb\")"
   ]
  },
  {
   "cell_type": "code",
   "execution_count": null,
   "metadata": {},
   "outputs": [],
   "source": [
    "head(all_AZ)"
   ]
  },
  {
   "cell_type": "code",
   "execution_count": null,
   "metadata": {},
   "outputs": [],
   "source": [
    "all_AZ_bad_norm = all_AZ\n",
    "all_AZ_bad_norm[,1] = all_AZ[,1]/colSums(all_AZ)[1] \n",
    "all_AZ_bad_norm[,2] = all_AZ[,2]/colSums(all_AZ)[2] \n",
    "all_AZ_bad_norm[,3] = all_AZ[,3]/colSums(all_AZ)[3] \n",
    "all_AZ_bad_norm[,4] = all_AZ[,4]/colSums(all_AZ)[4] \n",
    "all_AZ_bad_norm[,5] = all_AZ[,5]/colSums(all_AZ)[5] \n",
    "all_AZ_bad_norm[,6] = all_AZ[,6]/colSums(all_AZ)[6] \n",
    "all_AZ_bad_norm[,7] = all_AZ[,7]/colSums(all_AZ)[7] \n",
    "all_AZ_bad_norm[,8] = all_AZ[,8]/colSums(all_AZ)[8] \n",
    "all_AZ_bad_norm = all_AZ_bad_norm * 1000000"
   ]
  },
  {
   "cell_type": "code",
   "execution_count": null,
   "metadata": {},
   "outputs": [],
   "source": [
    "all_AZ_bad_norm[\"AT3G59850\",]"
   ]
  },
  {
   "cell_type": "code",
   "execution_count": null,
   "metadata": {},
   "outputs": [],
   "source": [
    "head(all_AZ_bad_norm)"
   ]
  },
  {
   "cell_type": "code",
   "execution_count": null,
   "metadata": {},
   "outputs": [],
   "source": [
    "DefaultAssay(seu_intd) <- \"SCT\"\n",
    "\n",
    "#haesa\n",
    "FeaturePlot(seu_intd, features = c(\"AT4G28490\"),  pt.size = 1.5, order = TRUE, min = .5, split.by = \"orig.ident\")# + scale_colour_gradient(low = \"gray94\", high = \"red\", space = \"Lab\", na.value = \"grey50\", guide = \"colourbar\",aesthetics = \"colour\")\n"
   ]
  },
  {
   "cell_type": "code",
   "execution_count": null,
   "metadata": {},
   "outputs": [],
   "source": [
    "DefaultAssay(seu_intd) <- \"SCT\"\n",
    "\n",
    "#haesa\n",
    "FeaturePlot(seu_intd, features = c(\"AT4G28490\"),  pt.size = 1.5, order = TRUE, min = .5, split.by = \"orig.ident\")# + scale_colour_gradient(low = \"gray94\", high = \"red\", space = \"Lab\", na.value = \"grey50\", guide = \"colourbar\",aesthetics = \"colour\")\n",
    "\n",
    "#qrt2\n",
    "FeaturePlot(seu_intd, features = c(\"AT3G07970\"),   pt.size = 1, order = TRUE)# + scale_colour_gradient(low = \"gray94\", high = \"red\", space = \"Lab\", na.value = \"grey50\", guide = \"colourbar\",aesthetics = \"colour\")\n",
    "\n",
    "\n",
    "#pgazat\n",
    "FeaturePlot(seu_intd, features = c(\"AT2G41850\"),  pt.size = 1, order = TRUE)#, split.by = \"geno\")#, slot = \"data\")\n",
    "\n",
    "#myb62\n",
    "FeaturePlot(seu_intd, features = c(\"AT1G68320\"),  pt.size = 1, order = TRUE)#, split.by = \"geno\")#, slot = \"data\")\n",
    "\n",
    "#ppg\n",
    "FeaturePlot(seu_intd, features = c(\"AT3G59850\"),  pt.size = 1, order = TRUE)#, split.by = \"geno\")#, slot = \"data\")\n",
    "\n",
    "#gdsl\n",
    "FeaturePlot(seu_intd, features = c(\"AT5G03820\"),  pt.size = 1, order = TRUE)#, split.by = \"geno\")#, slot = \"data\")"
   ]
  },
  {
   "cell_type": "code",
   "execution_count": null,
   "metadata": {},
   "outputs": [],
   "source": [
    "seu_intd"
   ]
  },
  {
   "cell_type": "code",
   "execution_count": null,
   "metadata": {},
   "outputs": [],
   "source": [
    "#ALL SAMPLES (INCLUDING SORTED) MERGED AND SCT PERFORMED\n",
    "#merge\n",
    "merged = merge(wt_1_seu, y = c(wt_2_seu, mut_1_seu, mut_2_seu, YFP_1_seu, YFP_2_seu, KE_1_seu, KE_2_seu), project = \"abscission\")\n",
    "\n",
    "#set features for SCR\n",
    "features = rownames(merged@assays$RNA@counts)\n",
    "features = features[!(features%in%proto_list)]\n",
    "\n",
    "ab_sct = SCTransform(merged, vars.to.regress = c(\"condition\", \"percent.mito\") , residual.features =  features, verbose = TRUE)"
   ]
  },
  {
   "cell_type": "code",
   "execution_count": null,
   "metadata": {},
   "outputs": [],
   "source": [
    "ab_sct <- RunPCA(ab_sct, verbose = FALSE)\n",
    "ab_sct <- RunUMAP(ab_sct, dims = 1:50, verbose = FALSE)\n",
    "\n",
    "ab_sct <- FindNeighbors(ab_sct, dims = 1:50, verbose = FALSE)\n",
    "ab_sct <- FindClusters(ab_sct, verbose = FALSE)"
   ]
  },
  {
   "cell_type": "code",
   "execution_count": null,
   "metadata": {},
   "outputs": [],
   "source": [
    "options(repr.plot.width=12, repr.plot.height=12)\n",
    "DimPlot(ab_sct, label = TRUE) + NoLegend()"
   ]
  },
  {
   "cell_type": "code",
   "execution_count": null,
   "metadata": {},
   "outputs": [],
   "source": [
    "saveRDS(ab_sct, file = paste(\"../data/seurat_objects/seurat_raw_3_11_21/\", \"ab_sct_5_19_21\", \".rds\", sep=\"\"))"
   ]
  },
  {
   "cell_type": "code",
   "execution_count": null,
   "metadata": {},
   "outputs": [],
   "source": [
    "DefaultAssay(ab_sct) = \"SCT\"\n",
    "options(repr.plot.width=20, repr.plot.height=8)\n",
    "Idents(ab_sct) <- \"condition\"\n",
    "FeaturePlot(ab_sct, features = \"nCount_RNA\", split.by = \"condition\") "
   ]
  },
  {
   "cell_type": "code",
   "execution_count": null,
   "metadata": {},
   "outputs": [],
   "source": [
    "options(repr.plot.width=12, repr.plot.height=6)\n",
    "#haesa\n",
    "FeaturePlot(ab_sct, features = c(\"AT4G28490\"),  pt.size = 1, order = TRUE, split.by = \"condition\", min = 1)# + scale_colour_gradient(low = \"gray94\", high = \"red\", space = \"Lab\", na.value = \"grey50\", guide = \"colourbar\",aesthetics = \"colour\")\n",
    "\n",
    "#qrt2\n",
    "FeaturePlot(ab_sct, features = c(\"AT3G07970\"),   pt.size = 1, order = TRUE, split.by = \"geno\", min = 1)# + scale_colour_gradient(low = \"gray94\", high = \"red\", space = \"Lab\", na.value = \"grey50\", guide = \"colourbar\",aesthetics = \"colour\")\n",
    "\n",
    "\n",
    "#pgazat\n",
    "FeaturePlot(ab_sct, features = c(\"AT2G41850\"),  pt.size = 1, order = TRUE)#, split.by = \"geno\")#, slot = \"data\")\n",
    "\n",
    "#myb62\n",
    "FeaturePlot(ab_sct, features = c(\"AT1G68320\"),  pt.size = 1, order = TRUE)#, split.by = \"geno\")#, slot = \"data\")\n",
    "\n",
    "#ppg\n",
    "FeaturePlot(ab_sct, features = c(\"AT3G59850\"),  pt.size = 1, order = TRUE)#, split.by = \"geno\")#, slot = \"data\")\n",
    "\n",
    "#gdsl\n",
    "FeaturePlot(ab_sct, features = c(\"AT5G03820\"),  pt.size = 1, order = TRUE)#, split.by = \"geno\")#, slot = \"data\")\n"
   ]
  },
  {
   "cell_type": "code",
   "execution_count": null,
   "metadata": {},
   "outputs": [],
   "source": [
    "Idents(ab_sct) <- \"experiment\"\n",
    "DimPlot(ab_sct, reduction = \"umap\", split.by = \"experiment\")"
   ]
  },
  {
   "cell_type": "code",
   "execution_count": null,
   "metadata": {},
   "outputs": [],
   "source": [
    "#Just WT samples , sorted and unsorted\n",
    "merged_wt = merge(wt_1_seu, y = c(wt_2_seu, YFP_1_seu, YFP_2_seu), project = \"abscission\")\n",
    "\n",
    "features = rownames(merged@assays$RNA@counts)\n",
    "features = features[!(features%in%proto_list)]\n",
    "\n",
    "wt_sct = SCTransform(merged_wt, vars.to.regress = c(\"experiment\", \"percent.mito\") , residual.features =  features, verbose = TRUE)\n",
    "saveRDS(wt_sct, file = paste(\"../data/seurat_objects/seurat_raw_3_11_21/\", \"wt_sct_5_13_21\", \".rds\", sep=\"\"))"
   ]
  },
  {
   "cell_type": "code",
   "execution_count": null,
   "metadata": {},
   "outputs": [],
   "source": [
    "wt_sct <- RunPCA(wt_sct, verbose = FALSE)\n",
    "wt_sct<- RunUMAP(wt_sct, dims = 1:50, verbose = FALSE)\n",
    "\n",
    "wt_sct <- FindNeighbors(wt_sct, dims = 1:50, verbose = FALSE)\n",
    "wt_sct <- FindClusters(wt_sct, verbose = FALSE)"
   ]
  },
  {
   "cell_type": "code",
   "execution_count": null,
   "metadata": {},
   "outputs": [],
   "source": [
    "options(repr.plot.width=12, repr.plot.height=12)\n",
    "DimPlot(wt_sct, label = TRUE) + NoLegend()"
   ]
  },
  {
   "cell_type": "code",
   "execution_count": null,
   "metadata": {},
   "outputs": [],
   "source": [
    "Idents(wt_sct) <- \"experiment\"\n",
    "DimPlot(wt_sct, label = TRUE) + NoLegend()"
   ]
  },
  {
   "cell_type": "code",
   "execution_count": null,
   "metadata": {},
   "outputs": [],
   "source": [
    "options(repr.plot.width=12, repr.plot.height=6)\n",
    "#haesa\n",
    "FeaturePlot(wt_sct, features = c(\"AT4G28490\"),  pt.size = 1, order = TRUE, split.by = \"experiment\")# + scale_colour_gradient(low = \"gray94\", high = \"red\", space = \"Lab\", na.value = \"grey50\", guide = \"colourbar\",aesthetics = \"colour\")\n",
    "\n",
    "#qrt2\n",
    "FeaturePlot(wt_sct, features = c(\"AT3G07970\"),   pt.size = 1, order = TRUE, split.by = \"experiment\")# + scale_colour_gradient(low = \"gray94\", high = \"red\", space = \"Lab\", na.value = \"grey50\", guide = \"colourbar\",aesthetics = \"colour\")\n",
    "\n",
    "\n",
    "#pgazat\n",
    "FeaturePlot(wt_sct, features = c(\"AT2G41850\"),  pt.size = 1, order = TRUE, split.by = \"experiment\")#, split.by = \"geno\")#, slot = \"data\")\n",
    "\n",
    "#myb62\n",
    "FeaturePlot(wt_sct, features = c(\"AT1G68320\"),  pt.size = 1, order = TRUE, split.by = \"experiment\")#, split.by = \"geno\")#, slot = \"data\")\n",
    "\n",
    "#ppg\n",
    "FeaturePlot(wt_sct, features = c(\"AT3G59850\"),  pt.size = 1, order = TRUE, split.by = \"experiment\")#, split.by = \"geno\")#, slot = \"data\")\n",
    "\n",
    "#gdsl\n",
    "FeaturePlot(wt_sct, features = c(\"AT5G03820\"),  pt.size = 1, order = TRUE, split.by = \"experiment\")#, split.by = \"geno\")#, slot = \"data\")\n",
    "\n",
    "#ida\n",
    "FeaturePlot(wt_sct, features = c(\"AT1G68765\"),  pt.size = 1, order = TRUE, split.by = \"experiment\")#, split.by = \"geno\")#, slot = \"data\")\n"
   ]
  },
  {
   "cell_type": "code",
   "execution_count": null,
   "metadata": {},
   "outputs": [],
   "source": [
    "#WT and mutant unsorted. IWT FILTERING\n",
    "merged = merge(wt_1_seu, y = c(wt_2_seu, mut_1_seu, mut_2_seu), project = \"abscission\")\n",
    "\n",
    "features = rownames(merged@assays$RNA@counts)\n",
    "features = features[!(features%in%proto_list)]\n",
    "\n",
    "unsorted_sct = SCTransform(merged, vars.to.regress = c(\"condition\", \"percent.mito\") , residual.features =  features, verbose = TRUE)"
   ]
  },
  {
   "cell_type": "code",
   "execution_count": null,
   "metadata": {},
   "outputs": [],
   "source": [
    "unsorted_sct <- RunPCA(unsorted_sct, verbose = FALSE)\n",
    "unsorted_sct<- RunUMAP(unsorted_sct, dims = 1:50, verbose = FALSE)\n",
    "\n",
    "unsorted_sct <- FindNeighbors(unsorted_sct, dims = 1:50, verbose = FALSE)\n",
    "unsorted_sct <- FindClusters(unsorted_sct, verbose = FALSE)"
   ]
  },
  {
   "cell_type": "code",
   "execution_count": null,
   "metadata": {},
   "outputs": [],
   "source": [
    "options(repr.plot.width=12, repr.plot.height=12)\n",
    "DimPlot(unsorted_sct, label = TRUE) + NoLegend()"
   ]
  },
  {
   "cell_type": "code",
   "execution_count": null,
   "metadata": {},
   "outputs": [],
   "source": [
    "DefaultAssay(unsorted_sct) = \"SCT\"\n",
    "\n",
    "options(repr.plot.width=12, repr.plot.height=12)\n",
    "#haesa\n",
    "FeaturePlot(unsorted_sct, features = c(\"AT4G28490\"),  pt.size = 2, order = TRUE, split.by = \"orig.ident\")# + scale_colour_gradient(low = \"gray94\", high = \"red\", space = \"Lab\", na.value = \"grey50\", guide = \"colourbar\",aesthetics = \"colour\")\n",
    "\n",
    "#qrt2\n",
    "FeaturePlot(unsorted_sct, features = c(\"AT3G07970\"),  pt.size = 1, order = TRUE, split.by = \"condition\")# + scale_colour_gradient(low = \"gray94\", high = \"red\", space = \"Lab\", na.value = \"grey50\", guide = \"colourbar\",aesthetics = \"colour\")\n",
    "\n",
    "#qrt2\n",
    "FeaturePlot(unsorted_sct, features = c(\"AT2G18020\"),  pt.size = 1, order = TRUE, split.by = \"condition\")# + scale_colour_gradient(low = \"gray94\", high = \"red\", space = \"Lab\", na.value = \"grey50\", guide = \"colourbar\",aesthetics = \"colour\")\n",
    "\n",
    "FeaturePlot(unsorted_sct, features = c(\"AT1G34430\"),  pt.size = 1, order = TRUE, split.by = \"condition\")# + scale_colour_gradient(low = \"gray94\", high = \"red\", space = \"Lab\", na.value = \"grey50\", guide = \"colourbar\",aesthetics = \"colour\")\n",
    "\n",
    "\n",
    "\n"
   ]
  },
  {
   "cell_type": "code",
   "execution_count": null,
   "metadata": {},
   "outputs": [],
   "source": [
    "saveRDS(unsorted_sct, file = paste(\"../data/seurat_objects/seurat_raw_3_11_21/\", \"unsorted_sct_5_19_21\", \".rds\", sep=\"\"))"
   ]
  },
  {
   "cell_type": "code",
   "execution_count": null,
   "metadata": {},
   "outputs": [],
   "source": [
    "cw_unsorted = readRDS(\"~/data/buckets/single_cell_bucket_3_4_21/Flower_4S_seu3.rds\")"
   ]
  },
  {
   "cell_type": "code",
   "execution_count": null,
   "metadata": {},
   "outputs": [],
   "source": [
    "cw_list = SplitObject(cw_unsorted, split.by = \"orig.ident\")"
   ]
  },
  {
   "cell_type": "code",
   "execution_count": null,
   "metadata": {},
   "outputs": [],
   "source": [
    "#rename split objects\n",
    "wt_1_seu = cw_list[[1]]\n",
    "wt_2_seu = cw_list[[3]]\n",
    "mut_1_seu = cw_list[[2]]\n",
    "mut_2_seu = cw_list[[4]]\n",
    "\n",
    "\n",
    "#set experimental condition\n",
    "wt_1_seu@meta.data$condition = \"wt_unsorted\"\n",
    "wt_2_seu@meta.data$condition = \"wt_unsorted\"\n",
    "mut_1_seu@meta.data$condition = \"mut_unsorted\"\n",
    "mut_2_seu@meta.data$condition = \"mut_unsorted\"\n"
   ]
  },
  {
   "cell_type": "code",
   "execution_count": null,
   "metadata": {},
   "outputs": [],
   "source": [
    "#WT and mutant unsorted. CW FILTERING\n",
    "merged = merge(wt_1_seu, y = c(wt_2_seu, mut_1_seu, mut_2_seu), project = \"abscission\")\n",
    "\n",
    "features = rownames(merged@assays$RNA@counts)\n",
    "features = features[!(features%in%proto_list)]\n",
    "\n",
    "unsorted_sct_cw = SCTransform(merged, vars.to.regress = c(\"condition\", \"percent.mt\") , residual.features =  features, verbose = TRUE)"
   ]
  },
  {
   "cell_type": "code",
   "execution_count": null,
   "metadata": {},
   "outputs": [],
   "source": [
    "unsorted_sct_cw <- RunPCA(unsorted_sct_cw, verbose = FALSE)\n",
    "unsorted_sct_cw<- RunUMAP(unsorted_sct_cw, dims = 1:50, verbose = FALSE)\n",
    "\n",
    "unsorted_sct_cw <- FindNeighbors(unsorted_sct_cw, dims = 1:50, verbose = FALSE)\n",
    "unsorted_sct_cw <- FindClusters(unsorted_sct_cw, verbose = FALSE)"
   ]
  },
  {
   "cell_type": "code",
   "execution_count": null,
   "metadata": {},
   "outputs": [],
   "source": [
    "options(repr.plot.width=12, repr.plot.height=12)\n",
    "DimPlot(unsorted_sct_cw, label = TRUE) + NoLegend()"
   ]
  },
  {
   "cell_type": "code",
   "execution_count": null,
   "metadata": {},
   "outputs": [],
   "source": [
    "options(repr.plot.width=24, repr.plot.height=6)\n",
    "FeaturePlot(unsorted_sct_cw, features = c(\"AT4G28490\"),  pt.size = 1, order = TRUE, split.by = \"orig.ident\")# + scale_colour_gradient(low = \"gray94\", high = \"red\", space = \"Lab\", na.value = \"grey50\", guide = \"colourbar\",aesthetics = \"colour\")\n"
   ]
  },
  {
   "cell_type": "code",
   "execution_count": null,
   "metadata": {},
   "outputs": [],
   "source": [
    "saveRDS(unsorted_sct_cw, file = paste(\"../data/seurat_objects/seurat_raw_3_11_21/\", \"unsorted_sct_cw_5_20_21\", \".rds\", sep=\"\"))"
   ]
  },
  {
   "cell_type": "code",
   "execution_count": null,
   "metadata": {},
   "outputs": [],
   "source": [
    "#IWT FILTERING, unsorted, regress batch and condition\n",
    "#WT and mutant unsorted. IWT FILTERING\n",
    "merged = merge(wt_1_seu, y = c(wt_2_seu, mut_1_seu, mut_2_seu), project = \"abscission\")\n",
    "\n",
    "features = rownames(merged@assays$RNA@counts)\n",
    "features = features[!(features%in%proto_list)]\n",
    "\n",
    "unsorted_sct_batch = SCTransform(merged, vars.to.regress = c(\"condition\", \"percent.mito\", \"batch\") , residual.features =  features, verbose = TRUE)"
   ]
  },
  {
   "cell_type": "code",
   "execution_count": null,
   "metadata": {},
   "outputs": [],
   "source": [
    "unsorted_sct_batch  <- RunPCA(unsorted_sct_batch , verbose = FALSE)\n",
    "unsorted_sct_batch <- RunUMAP(unsorted_sct_batch , dims = 1:50, verbose = FALSE)\n",
    "\n",
    "unsorted_sct_batch  <- FindNeighbors(unsorted_sct_batch , dims = 1:50, verbose = FALSE)\n",
    "unsorted_sct_batch  <- FindClusters(unsorted_sct_batch , verbose = FALSE)\n",
    "\n",
    "options(repr.plot.width=12, repr.plot.height=12)\n",
    "DimPlot(unsorted_sct_batch, label = TRUE) + NoLegend()"
   ]
  },
  {
   "cell_type": "code",
   "execution_count": null,
   "metadata": {},
   "outputs": [],
   "source": [
    "options(repr.plot.width=24, repr.plot.height=6)\n",
    "FeaturePlot(unsorted_sct_batch, features = c(\"AT4G28490\"),  pt.size = 1, order = TRUE, split.by = \"orig.ident\")# + scale_colour_gradient(low = \"gray94\", high = \"red\", space = \"Lab\", na.value = \"grey50\", guide = \"colourbar\",aesthetics = \"colour\")"
   ]
  },
  {
   "cell_type": "code",
   "execution_count": null,
   "metadata": {},
   "outputs": [],
   "source": [
    "saveRDS(unsorted_sct_batch, file = paste(\"../data/seurat_objects/seurat_raw_3_11_21/\", \"unsorted_sct_batch_5_20_21\", \".rds\", sep=\"\"))"
   ]
  },
  {
   "cell_type": "code",
   "execution_count": null,
   "metadata": {},
   "outputs": [],
   "source": [
    "#IWT FILTERING, unsorted, regress batch and condition\n",
    "#WT and mutant unsorted. IWT FILTERING\n",
    "merged = merge(wt_1_seu, y = c(wt_2_seu, mut_1_seu, mut_2_seu), project = \"abscission\")\n",
    "\n",
    "features = rownames(merged@assays$RNA@counts)\n",
    "features = features[!(features%in%proto_list)]\n",
    "\n",
    "unsorted_sct_batch_only = SCTransform(merged, vars.to.regress = c(\"percent.mito\", \"batch\") , residual.features =  features, verbose = TRUE)"
   ]
  },
  {
   "cell_type": "code",
   "execution_count": null,
   "metadata": {},
   "outputs": [],
   "source": [
    "unsorted_sct_batch_only  <- RunPCA(unsorted_sct_batch_only , verbose = FALSE)\n",
    "unsorted_sct_batch_only <- RunUMAP(unsorted_sct_batch_only , dims = 1:50, verbose = FALSE)\n",
    "\n",
    "unsorted_sct_batch_only  <- FindNeighbors(unsorted_sct_batch_only , dims = 1:50, verbose = FALSE)\n",
    "unsorted_sct_batch_only  <- FindClusters(unsorted_sct_batch_only , verbose = FALSE)\n",
    "\n",
    "options(repr.plot.width=12, repr.plot.height=12)\n",
    "DimPlot(unsorted_sct_batch_only, label = TRUE) + NoLegend()"
   ]
  },
  {
   "cell_type": "code",
   "execution_count": null,
   "metadata": {},
   "outputs": [],
   "source": [
    "options(repr.plot.width=24, repr.plot.height=6)\n",
    "FeaturePlot(unsorted_sct_batch_only, features = c(\"AT4G28490\"),  pt.size = 1, order = TRUE, split.by = \"orig.ident\")# + scale_colour_gradient(low = \"gray94\", high = \"red\", space = \"Lab\", na.value = \"grey50\", guide = \"colourbar\",aesthetics = \"colour\")"
   ]
  },
  {
   "cell_type": "code",
   "execution_count": null,
   "metadata": {},
   "outputs": [],
   "source": [
    "sum(Idents(unsorted_sct_batch_only) == \"16\")\n",
    "sum(Idents(unsorted_sct_batch) == \"16\")\n",
    "sum(Idents(unsorted_sct_cw) == \"16\")"
   ]
  },
  {
   "cell_type": "code",
   "execution_count": null,
   "metadata": {},
   "outputs": [],
   "source": [
    "saveRDS(unsorted_sct_batch_only, file = paste(\"../data/seurat_objects/seurat_raw_3_11_21/\", \"unsorted_sct_batch_only_5_20_21\", \".rds\", sep=\"\"))"
   ]
  },
  {
   "cell_type": "code",
   "execution_count": null,
   "metadata": {},
   "outputs": [],
   "source": [
    "#takes a list of Seurat objects with SCT transform run\n",
    "seu_integrate <- function(..., filename, nfeatures){\n",
    "    seu.list <- list(...) # THIS WILL BE A LIST STORING EVERYTHING:\n",
    "    \n",
    "    ref.genes = rownames(seu.list[[1]]@assays$RNA)\n",
    "    assay_list <- rep(\"SCT\", length(seu.list))\n",
    "# loop\n",
    "#    for (i in 1:length(seu.list)) {\n",
    "#         seu.list[[i]]@assays$spliced_RNA <- NULL\n",
    "#         seu.list[[i]]@assays$spliced_SCT <- NULL\n",
    "#         seu.list[[i]]@assays$unspliced_RNA <- NULL\n",
    "#         seu.list[[i]]@assays$unspliced_SCT <- NULL\n",
    "        \n",
    "\n",
    "    # integration\n",
    "    rc.features <- SelectIntegrationFeatures(object.list = seu.list, nfeatures = nfeatures)\n",
    "    rc.features <- rc.features[(!c(grepl(\"ATMG\",rc.features) | grepl(\"ATCG\",rc.features) | rc.features%in%proto_list))]\n",
    "    \n",
    "    seu.list <- PrepSCTIntegration(object.list = seu.list, anchor.features = rc.features, verbose = TRUE, assay = assay_list)\n",
    "    seu.list <- lapply(X = seu.list, FUN = RunPCA, verbose = FALSE, features = rc.features)\n",
    "    rc.anchors <- FindIntegrationAnchors(object.list = seu.list, normalization.method = \"SCT\", anchor.features = rc.features, verbose = TRUE, reference=1, reduction = \"rpca\")\n",
    "    \n",
    "    to_integrate <- Reduce(intersect, lapply(rc.anchors@object.list, rownames))\n",
    "    # integrate data and keep full geneset\n",
    "       \n",
    "    rc.integrated <- IntegrateData(anchorset = rc.anchors,  features.to.integrate = to_integrate, normalization.method = \"SCT\", verbose = TRUE)\n",
    "    rc.integrated <- RunPCA(rc.integrated, npcs = 50, verbose = FALSE, approx = FALSE)\n",
    "    \n",
    "    #save object    \n",
    "    saveRDS(rc.integrated, file = paste(\"../data/intd_seu_objects/\",filename,\".rds\", sep = \"\"))\n",
    "    return(rc.integrated)\n",
    "#    }\n",
    "}"
   ]
  }
 ],
 "metadata": {
  "kernelspec": {
   "display_name": "R",
   "language": "R",
   "name": "ir"
  },
  "language_info": {
   "codemirror_mode": "r",
   "file_extension": ".r",
   "mimetype": "text/x-r-source",
   "name": "R",
   "pygments_lexer": "r",
   "version": "3.6.3"
  }
 },
 "nbformat": 4,
 "nbformat_minor": 5
}
