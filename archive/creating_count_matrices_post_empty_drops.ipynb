{
 "cells": [
  {
   "cell_type": "code",
   "execution_count": 1,
   "metadata": {},
   "outputs": [],
   "source": [
    "library(BUSpaRse)\n",
    "library(here)\n",
    "library(Matrix)\n",
    "library(tidyverse)\n",
    "library(Seurat)\n",
    "library(ggpointdensity)\n",
    "library(scico)\n",
    "library(scales)\n",
    "library(DropletUtils)\n",
    "library(reticulate)\n",
    "library(repr)\n",
    "library(DoubletFinder)\n",
    "library(future)\n",
    "options(future.globals.maxSize = 100000 * 1024^2)\n"
   ]
  },
  {
   "cell_type": "code",
   "execution_count": 5,
   "metadata": {},
   "outputs": [],
   "source": [
    "wt_1_seu = readRDS(file = \"../data/seurat1/sc_26_seu_1_ED_no_min_features.rds\")\n",
    "wt_2_seu = readRDS(file = \"../data/seurat1/sc_67_seu_1_ED_no_min_features.rds\")\n",
    "mut_1_seu = readRDS(file = \"../data/seurat1/sc_27_seu_1_ED_no_min_features.rds\")\n",
    "mut_2_seu = readRDS(file = \"../data/seurat1/sc_68_seu_1_ED_no_min_features.rds\")"
   ]
  },
  {
   "cell_type": "code",
   "execution_count": 6,
   "metadata": {},
   "outputs": [
    {
     "data": {
      "text/plain": [
       "NULL"
      ]
     },
     "metadata": {},
     "output_type": "display_data"
    },
    {
     "data": {
      "text/plain": [
       "NULL"
      ]
     },
     "metadata": {},
     "output_type": "display_data"
    },
    {
     "data": {
      "text/plain": [
       "NULL"
      ]
     },
     "metadata": {},
     "output_type": "display_data"
    },
    {
     "data": {
      "text/plain": [
       "NULL"
      ]
     },
     "metadata": {},
     "output_type": "display_data"
    }
   ],
   "source": [
    "t = as(GetAssayData(wt_1_seu, slot = \"counts\"), \"dgTMatrix\")\n",
    "writeMM(t, \"/home/robotmessenger810/sc_analysis/data/raw_count_matrices/sc_counts_post_empty_drops/wt_1_matrix.mtx\")\n",
    "\n",
    "t = as(GetAssayData(wt_2_seu, slot = \"counts\"), \"dgTMatrix\")\n",
    "writeMM(t, \"/home/robotmessenger810/sc_analysis/data/raw_count_matrices/sc_counts_post_empty_drops/wt_2_matrix.mtx\")\n",
    "\n",
    "t = as(GetAssayData(mut_1_seu, slot = \"counts\"), \"dgTMatrix\")\n",
    "writeMM(t, \"/home/robotmessenger810/sc_analysis/data/raw_count_matrices/sc_counts_post_empty_drops/mut_1_matrix.mtx\")\n",
    "\n",
    "t = as(GetAssayData(mut_2_seu, slot = \"counts\"), \"dgTMatrix\")\n",
    "writeMM(t, \"/home/robotmessenger810/sc_analysis/data/raw_count_matrices/sc_counts_post_empty_drops/mut_2_matrix.mtx\")"
   ]
  }
 ],
 "metadata": {
  "kernelspec": {
   "display_name": "R",
   "language": "R",
   "name": "ir"
  },
  "language_info": {
   "codemirror_mode": "r",
   "file_extension": ".r",
   "mimetype": "text/x-r-source",
   "name": "R",
   "pygments_lexer": "r",
   "version": "3.6.3"
  }
 },
 "nbformat": 4,
 "nbformat_minor": 4
}
