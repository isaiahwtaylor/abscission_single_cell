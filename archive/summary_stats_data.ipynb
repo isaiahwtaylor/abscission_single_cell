{
 "cells": [
  {
   "cell_type": "code",
   "execution_count": 4,
   "metadata": {},
   "outputs": [],
   "source": [
    "library(BUSpaRse)\n",
    "library(here)\n",
    "library(Matrix)\n",
    "library(tidyverse)\n",
    "library(Seurat)\n",
    "library(ggpointdensity)\n",
    "library(scico)\n",
    "library(scales)\n",
    "library(DropletUtils)\n",
    "library(reticulate)\n",
    "library(repr)\n",
    "library(DoubletFinder)\n",
    "library(future)\n",
    "options(future.globals.maxSize = 100000 * 1024^2)\n",
    "\n",
    "proto_genes=read.csv(\"../data/bulk_data/protoplasting.csv\")\n",
    "proto_list=as.character(proto_genes[abs(proto_genes$logFC) > 4,]$genes)\n",
    "\n",
    "# Slightly modified from BUSpaRse, just to avoid installing a few dependencies not used here\n",
    "read_count_output <- function(dir, name) {\n",
    "  dir <- normalizePath(dir, mustWork = TRUE)\n",
    "  m <- readMM(paste0(dir, \"/\", name, \".mtx\"))\n",
    "  m <- Matrix::t(m)\n",
    "  m <- as(m, \"dgCMatrix\")\n",
    "  # The matrix read has cells in rows\n",
    "  ge <- \".genes.txt\"\n",
    "  genes <- readLines(file(paste0(dir, \"/\", name, ge)))\n",
    "  barcodes <- readLines(file(paste0(dir, \"/\", name, \".barcodes.txt\")))\n",
    "  colnames(m) <- barcodes\n",
    "  rownames(m) <- genes\n",
    "  return(m)\n",
    "}\n"
   ]
  },
  {
   "cell_type": "code",
   "execution_count": 7,
   "metadata": {},
   "outputs": [],
   "source": [
    "wt1_combined = readMM(\"/home/robotmessenger810/sc_analysis/data/raw_count_matrices/combined_pre_empty_drops/wt_1_matrix.mtx\")\n",
    "wt2_combined = readMM(\"/home/robotmessenger810/sc_analysis/data/raw_count_matrices/combined_pre_empty_drops/wt_2_matrix.mtx\")\n",
    "mut1_combined = readMM(\"/home/robotmessenger810/sc_analysis/data/raw_count_matrices/combined_pre_empty_drops/mut_1_matrix.mtx\")\n",
    "mut2_combined = readMM(\"/home/robotmessenger810/sc_analysis/data/raw_count_matrices/combined_pre_empty_drops/mut_2_matrix.mtx\")"
   ]
  },
  {
   "cell_type": "code",
   "execution_count": 8,
   "metadata": {},
   "outputs": [
    {
     "data": {
      "text/html": [
       "290626"
      ],
      "text/latex": [
       "290626"
      ],
      "text/markdown": [
       "290626"
      ],
      "text/plain": [
       "[1] 290626"
      ]
     },
     "metadata": {},
     "output_type": "display_data"
    },
    {
     "data": {
      "text/html": [
       "349207"
      ],
      "text/latex": [
       "349207"
      ],
      "text/markdown": [
       "349207"
      ],
      "text/plain": [
       "[1] 349207"
      ]
     },
     "metadata": {},
     "output_type": "display_data"
    },
    {
     "data": {
      "text/html": [
       "308290"
      ],
      "text/latex": [
       "308290"
      ],
      "text/markdown": [
       "308290"
      ],
      "text/plain": [
       "[1] 308290"
      ]
     },
     "metadata": {},
     "output_type": "display_data"
    },
    {
     "data": {
      "text/html": [
       "352143"
      ],
      "text/latex": [
       "352143"
      ],
      "text/markdown": [
       "352143"
      ],
      "text/plain": [
       "[1] 352143"
      ]
     },
     "metadata": {},
     "output_type": "display_data"
    }
   ],
   "source": [
    "#get distribution of UMIs \n",
    "wt1_colsums = colSums(wt1_combined)\n",
    "wt2_colsums = colSums(wt2_combined)\n",
    "mut1_colsums = colSums(mut1_combined)\n",
    "mut2_colsums =colSums(mut2_combined)\n",
    "\n",
    "#some summary stats\n",
    "length(wt1_colsums)\n",
    "length(wt2_colsums)\n",
    "length(mut1_colsums)\n",
    "length(mut2_colsums)"
   ]
  },
  {
   "cell_type": "code",
   "execution_count": 31,
   "metadata": {},
   "outputs": [
    {
     "data": {
      "text/html": [
       "13637"
      ],
      "text/latex": [
       "13637"
      ],
      "text/markdown": [
       "13637"
      ],
      "text/plain": [
       "[1] 13637"
      ]
     },
     "metadata": {},
     "output_type": "display_data"
    },
    {
     "data": {
      "image/png": "[encoded data removed]",
      "text/plain": [
       "Plot with title \"Histogram of log2(mut1_colsums)\""
      ]
     },
     "metadata": {
      "image/png": {
       "height": 420,
       "width": 420
      },
      "text/plain": {
       "height": 420,
       "width": 420
      }
     },
     "output_type": "display_data"
    }
   ],
   "source": [
    "# hist(log2(wt1_colsums))\n",
    "# sum(wt1_colsums > 1000)\n",
    "#median(wt1_colsums[wt1_colsums > 500])\n",
    "\n",
    "# hist(log2(wt2_colsums))\n",
    "# sum(wt2_colsums > 1000)\n",
    "\n",
    "hist(log2(mut1_colsums))\n",
    "sum(mut1_colsums > 2^10)\n",
    "\n",
    "# hist(log2(mut2_colsums))\n",
    "# sum(mut2_colsums > 500)"
   ]
  }
 ],
 "metadata": {
  "kernelspec": {
   "display_name": "R",
   "language": "R",
   "name": "ir"
  },
  "language_info": {
   "codemirror_mode": "r",
   "file_extension": ".r",
   "mimetype": "text/x-r-source",
   "name": "R",
   "pygments_lexer": "r",
   "version": "3.6.3"
  }
 },
 "nbformat": 4,
 "nbformat_minor": 4
}
