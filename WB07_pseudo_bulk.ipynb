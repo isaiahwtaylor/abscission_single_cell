{
 "cells": [
  {
   "cell_type": "code",
   "execution_count": null,
   "metadata": {},
   "outputs": [],
   "source": [
    "library(here)\n",
    "library(Matrix)\n",
    "library(tidyverse)\n",
    "library(Seurat)\n",
    "library(ggpointdensity)\n",
    "library(scales)\n",
    "library(reticulate)\n",
    "library(repr)\n",
    "#library(DoubletFinder)\n",
    "library(future)\n",
    "library(RColorBrewer)\n",
    "library(edgeR)\n",
    "library(limma)\n",
    "#library(PCAtools)\n",
    "options(future.globals.maxSize = 100000 * 1024^2)\n",
    "source(here(\"R_functions\",\"edgeR_function.R\"))\n",
    "\n",
    "annotations = read.csv(\"R_functions/gene_descriptions.csv\", header = F)\n",
    "colnames(annotations) = c(\"gene_id\", \"description\")\n",
    "annotations$gene_id = substr(annotations$gene_id, 1, 9)\n",
    "\n",
    "proto_genes=read.csv(\"../data/bulk_data/protoplasting.csv\")\n",
    "proto_list=as.character(proto_genes[abs(proto_genes$logFC) > 1,]$genes)\n",
    "bulk_data = read.csv(\"/home/robotmessenger810/data/buckets/single_cell_bucket_3_4_21/IWT_RNA_seq/scRNA_flowers/outputs/bulk_edger_10_16_20.csv\")\n"
   ]
  },
  {
   "cell_type": "code",
   "execution_count": 2,
   "metadata": {},
   "outputs": [
    {
     "name": "stderr",
     "output_type": "stream",
     "text": [
      "Warning message:\n",
      "“The default method for RunUMAP has changed from calling Python UMAP via reticulate to the R-native UWOT using the cosine metric\n",
      "To use Python UMAP via reticulate, set umap.method to 'umap-learn' and metric to 'correlation'\n",
      "This message will be shown once per session”\n"
     ]
    }
   ],
   "source": [
    "seu_intd_wt_mut = readRDS(file = \"../data/intd_seu_objects/4_12_22_WT_mut.rds\")\n",
    "\n",
    "resolution = .75\n",
    "set.seed(42)\n",
    "DefaultAssay(seu_intd_wt_mut) <- \"integrated\"\n",
    "options(repr.plot.width=12, repr.plot.height=12)\n",
    "# Run the standard workflow for visualization and clustering\n",
    "#all_intd_sct <- ScaleData(all_intd_sct, verbose = FALSE)\n",
    "seu_intd_wt_mut <- RunPCA(seu_intd_wt_mut, npcs = 100, verbose = FALSE, approx = FALSE)\n",
    "#From RunPCA doc: Features to compute PCA on. If features=NULL, PCA will be run using the variable features for the Assay. \n",
    "#Note that the features must be present in the scaled data. Any requested features that are not scaled or have 0 variance \n",
    "#will be dropped, and the PCA will be run using the remaining features.\n",
    "\n",
    "#previously run 20 PCs as of 2/14/22\n",
    "seu_intd_wt_mut <- FindNeighbors(seu_intd_wt_mut, dims = 1:20, verbose = FALSE)\n",
    "seu_intd_wt_mut <- FindClusters(seu_intd_wt_mut, resolution = resolution, algorithm = 3, verbose = FALSE)\n",
    "seu_intd_wt_mut <- RunUMAP(seu_intd_wt_mut, reduction = \"pca\", dims = 1:20, verbose = FALSE)"
   ]
  },
  {
   "cell_type": "code",
   "execution_count": 46,
   "metadata": {},
   "outputs": [],
   "source": [
    "cluster = \"11\"\n",
    "seu_intd_wt_mut@active.assay = \"RNA\"\n",
    "\n",
    "wt_1_AZ <- rowSums(as.matrix(GetAssayData(subset(seu_intd_wt_mut, subset = orig.ident == \"sc_26_combined\"), slot = \"counts\")[, WhichCells(subset(seu_intd_wt_mut, subset = orig.ident == \"sc_26_combined\"), ident = cluster)]))\n",
    "wt_2_AZ <- rowSums(as.matrix(GetAssayData(subset(seu_intd_wt_mut, subset = orig.ident == \"sc_67\"), slot = \"counts\")[, WhichCells(subset(seu_intd_wt_mut, subset = orig.ident == \"sc_67\"), ident = cluster)]))\n",
    "YFP_1_AZ <- rowSums(as.matrix(GetAssayData(subset(seu_intd_wt_mut, subset = orig.ident == \"sc_101\"), slot = \"counts\")[, WhichCells(subset(seu_intd_wt_mut, subset = orig.ident == \"sc_101\"), ident = cluster)]))\n",
    "YFP_2_AZ <- rowSums(as.matrix(GetAssayData(subset(seu_intd_wt_mut, subset = orig.ident == \"sc_103\"), slot = \"counts\")[, WhichCells(subset(seu_intd_wt_mut, subset = orig.ident == \"sc_103\"), ident = cluster)]))\n",
    "\n"
   ]
  },
  {
   "cell_type": "code",
   "execution_count": 47,
   "metadata": {},
   "outputs": [],
   "source": [
    "cluster = \"11\"\n",
    "seu_intd_wt_mut@active.assay = \"RNA\"\n",
    "\n",
    "mut_1_AZ <- rowSums(as.matrix(GetAssayData(subset(seu_intd_wt_mut, subset = orig.ident == \"sc_27_combined\"), slot = \"counts\")[, WhichCells(subset(seu_intd_wt_mut, subset = orig.ident == \"sc_27_combined\"), ident = cluster)]))\n",
    "mut_2_AZ <- rowSums(as.matrix(GetAssayData(subset(seu_intd_wt_mut, subset = orig.ident == \"sc_68\"), slot = \"counts\")[, WhichCells(subset(seu_intd_wt_mut, subset = orig.ident == \"sc_68\"), ident = cluster)]))\n",
    "KE_1_AZ <- rowSums(as.matrix(GetAssayData(subset(seu_intd_wt_mut, subset = orig.ident == \"sc_102\"), slot = \"counts\")[, WhichCells(subset(seu_intd_wt_mut, subset = orig.ident == \"sc_102\"), ident = cluster)]))\n",
    "KE_2_AZ <- rowSums(as.matrix(GetAssayData(subset(seu_intd_wt_mut, subset = orig.ident == \"sc_104\"), slot = \"counts\")[, WhichCells(subset(seu_intd_wt_mut, subset = orig.ident == \"sc_104\"), ident = cluster)]))\n"
   ]
  },
  {
   "cell_type": "code",
   "execution_count": 48,
   "metadata": {},
   "outputs": [],
   "source": [
    "gene_intersection = intersect(names(wt_1_AZ), names(mut_1_AZ))\n",
    "wt_1_AZ = wt_1_AZ[gene_intersection]\n",
    "wt_2_AZ = wt_2_AZ[gene_intersection]\n",
    "YFP_1_AZ = YFP_1_AZ[gene_intersection]\n",
    "YFP_2_AZ = YFP_2_AZ[gene_intersection]\n",
    "mut_1_AZ = mut_1_AZ[gene_intersection]\n",
    "mut_2_AZ = mut_2_AZ[gene_intersection]\n",
    "KE_1_AZ = KE_1_AZ[gene_intersection]\n",
    "KE_2_AZ = KE_2_AZ [gene_intersection]"
   ]
  },
  {
   "cell_type": "code",
   "execution_count": 49,
   "metadata": {},
   "outputs": [],
   "source": [
    "pb_df = data.frame(cbind(wt_1_AZ , wt_2_AZ, YFP_1_AZ, YFP_2_AZ, mut_1_AZ , mut_2_AZ, KE_1_AZ, KE_2_AZ))\n",
    "colnames(pb_df) = c(\"WT1\", \"WT2\", \"YFP1\", \"YFP2\", \"mut1\", \"mut2\", \"KE1\", \"KE2\")\n",
    "rownames(pb_df) = gene_intersection"
   ]
  },
  {
   "cell_type": "code",
   "execution_count": 50,
   "metadata": {},
   "outputs": [],
   "source": [
    "write.csv(pb_df, \"../data/pseudo_bulk_data/AZ_pbs_4_19_22.csv\")"
   ]
  },
  {
   "cell_type": "code",
   "execution_count": 51,
   "metadata": {},
   "outputs": [],
   "source": [
    "pb_df = read.csv(\"../data/pseudo_bulk_data/AZ_pbs_4_19_22.csv\")\n",
    "rownames(pb_df) = pb_df[,1]\n",
    "pb_df[,1] <- NULL"
   ]
  },
  {
   "cell_type": "code",
   "execution_count": 52,
   "metadata": {},
   "outputs": [
    {
     "name": "stdout",
     "output_type": "stream",
     "text": [
      "[1] \"determinant of XT*X of design matrix is:  32\"\n"
     ]
    },
    {
     "name": "stderr",
     "output_type": "stream",
     "text": [
      "Warning message in makeContrasts(s1_v_s2 = phenotypewt, levels = design):\n",
      "“Renaming (Intercept) to Intercept”\n"
     ]
    }
   ],
   "source": [
    "#account for factors in experiment\n",
    "phenotype=as.factor(c(\"wt\", \"wt\", \"wt\", \"wt\", \"mut\", \"mut\", \"mut\", \"mut\"))\n",
    "batch=as.factor(c(0,0,1,1,0,0,1,1))\n",
    "design <- model.matrix(~phenotype+batch)#+insertion)\n",
    "\n",
    "#check design matrix isn't singular\n",
    "print(paste(\"determinant of XT*X of design matrix is: \", det(t(design)%*%(design))))\n",
    "\n",
    "#making contrast matrix for tests of interest\n",
    "my.contrasts <- makeContrasts(s1_v_s2=phenotypewt, levels=design)"
   ]
  },
  {
   "cell_type": "code",
   "execution_count": 53,
   "metadata": {},
   "outputs": [
    {
     "data": {
      "text/html": [
       "<table>\n",
       "<caption>A matrix: 3 × 1 of type dbl</caption>\n",
       "<thead>\n",
       "\t<tr><th></th><th scope=col>s1_v_s2</th></tr>\n",
       "</thead>\n",
       "<tbody>\n",
       "\t<tr><th scope=row>Intercept</th><td>0</td></tr>\n",
       "\t<tr><th scope=row>phenotypewt</th><td>1</td></tr>\n",
       "\t<tr><th scope=row>batch1</th><td>0</td></tr>\n",
       "</tbody>\n",
       "</table>\n"
      ],
      "text/latex": [
       "A matrix: 3 × 1 of type dbl\n",
       "\\begin{tabular}{r|l}\n",
       "  & s1\\_v\\_s2\\\\\n",
       "\\hline\n",
       "\tIntercept & 0\\\\\n",
       "\tphenotypewt & 1\\\\\n",
       "\tbatch1 & 0\\\\\n",
       "\\end{tabular}\n"
      ],
      "text/markdown": [
       "\n",
       "A matrix: 3 × 1 of type dbl\n",
       "\n",
       "| <!--/--> | s1_v_s2 |\n",
       "|---|---|\n",
       "| Intercept | 0 |\n",
       "| phenotypewt | 1 |\n",
       "| batch1 | 0 |\n",
       "\n"
      ],
      "text/plain": [
       "             Contrasts\n",
       "Levels        s1_v_s2\n",
       "  Intercept   0      \n",
       "  phenotypewt 1      \n",
       "  batch1      0      "
      ]
     },
     "metadata": {},
     "output_type": "display_data"
    },
    {
     "data": {
      "text/html": [
       "<table>\n",
       "<caption>A matrix: 8 × 3 of type dbl</caption>\n",
       "<thead>\n",
       "\t<tr><th></th><th scope=col>(Intercept)</th><th scope=col>phenotypewt</th><th scope=col>batch1</th></tr>\n",
       "</thead>\n",
       "<tbody>\n",
       "\t<tr><th scope=row>1</th><td>1</td><td>1</td><td>0</td></tr>\n",
       "\t<tr><th scope=row>2</th><td>1</td><td>1</td><td>0</td></tr>\n",
       "\t<tr><th scope=row>3</th><td>1</td><td>1</td><td>1</td></tr>\n",
       "\t<tr><th scope=row>4</th><td>1</td><td>1</td><td>1</td></tr>\n",
       "\t<tr><th scope=row>5</th><td>1</td><td>0</td><td>0</td></tr>\n",
       "\t<tr><th scope=row>6</th><td>1</td><td>0</td><td>0</td></tr>\n",
       "\t<tr><th scope=row>7</th><td>1</td><td>0</td><td>1</td></tr>\n",
       "\t<tr><th scope=row>8</th><td>1</td><td>0</td><td>1</td></tr>\n",
       "</tbody>\n",
       "</table>\n"
      ],
      "text/latex": [
       "A matrix: 8 × 3 of type dbl\n",
       "\\begin{tabular}{r|lll}\n",
       "  & (Intercept) & phenotypewt & batch1\\\\\n",
       "\\hline\n",
       "\t1 & 1 & 1 & 0\\\\\n",
       "\t2 & 1 & 1 & 0\\\\\n",
       "\t3 & 1 & 1 & 1\\\\\n",
       "\t4 & 1 & 1 & 1\\\\\n",
       "\t5 & 1 & 0 & 0\\\\\n",
       "\t6 & 1 & 0 & 0\\\\\n",
       "\t7 & 1 & 0 & 1\\\\\n",
       "\t8 & 1 & 0 & 1\\\\\n",
       "\\end{tabular}\n"
      ],
      "text/markdown": [
       "\n",
       "A matrix: 8 × 3 of type dbl\n",
       "\n",
       "| <!--/--> | (Intercept) | phenotypewt | batch1 |\n",
       "|---|---|---|---|\n",
       "| 1 | 1 | 1 | 0 |\n",
       "| 2 | 1 | 1 | 0 |\n",
       "| 3 | 1 | 1 | 1 |\n",
       "| 4 | 1 | 1 | 1 |\n",
       "| 5 | 1 | 0 | 0 |\n",
       "| 6 | 1 | 0 | 0 |\n",
       "| 7 | 1 | 0 | 1 |\n",
       "| 8 | 1 | 0 | 1 |\n",
       "\n"
      ],
      "text/plain": [
       "  (Intercept) phenotypewt batch1\n",
       "1 1           1           0     \n",
       "2 1           1           0     \n",
       "3 1           1           1     \n",
       "4 1           1           1     \n",
       "5 1           0           0     \n",
       "6 1           0           0     \n",
       "7 1           0           1     \n",
       "8 1           0           1     "
      ]
     },
     "metadata": {},
     "output_type": "display_data"
    }
   ],
   "source": [
    "my.contrasts\n",
    "design"
   ]
  },
  {
   "cell_type": "code",
   "execution_count": 54,
   "metadata": {},
   "outputs": [
    {
     "data": {
      "text/html": [
       "<table>\n",
       "<caption>A data.frame: 1 × 8</caption>\n",
       "<thead>\n",
       "\t<tr><th></th><th scope=col>WT1</th><th scope=col>WT2</th><th scope=col>YFP1</th><th scope=col>YFP2</th><th scope=col>mut1</th><th scope=col>mut2</th><th scope=col>KE1</th><th scope=col>KE2</th></tr>\n",
       "\t<tr><th></th><th scope=col>&lt;int&gt;</th><th scope=col>&lt;int&gt;</th><th scope=col>&lt;int&gt;</th><th scope=col>&lt;int&gt;</th><th scope=col>&lt;int&gt;</th><th scope=col>&lt;int&gt;</th><th scope=col>&lt;int&gt;</th><th scope=col>&lt;int&gt;</th></tr>\n",
       "</thead>\n",
       "<tbody>\n",
       "\t<tr><th scope=row>AT3G07970</th><td>1475</td><td>1176</td><td>1096</td><td>114</td><td>18</td><td>22</td><td>66</td><td>35</td></tr>\n",
       "</tbody>\n",
       "</table>\n"
      ],
      "text/latex": [
       "A data.frame: 1 × 8\n",
       "\\begin{tabular}{r|llllllll}\n",
       "  & WT1 & WT2 & YFP1 & YFP2 & mut1 & mut2 & KE1 & KE2\\\\\n",
       "  & <int> & <int> & <int> & <int> & <int> & <int> & <int> & <int>\\\\\n",
       "\\hline\n",
       "\tAT3G07970 & 1475 & 1176 & 1096 & 114 & 18 & 22 & 66 & 35\\\\\n",
       "\\end{tabular}\n"
      ],
      "text/markdown": [
       "\n",
       "A data.frame: 1 × 8\n",
       "\n",
       "| <!--/--> | WT1 &lt;int&gt; | WT2 &lt;int&gt; | YFP1 &lt;int&gt; | YFP2 &lt;int&gt; | mut1 &lt;int&gt; | mut2 &lt;int&gt; | KE1 &lt;int&gt; | KE2 &lt;int&gt; |\n",
       "|---|---|---|---|---|---|---|---|---|\n",
       "| AT3G07970 | 1475 | 1176 | 1096 | 114 | 18 | 22 | 66 | 35 |\n",
       "\n"
      ],
      "text/plain": [
       "          WT1  WT2  YFP1 YFP2 mut1 mut2 KE1 KE2\n",
       "AT3G07970 1475 1176 1096 114  18   22   66  35 "
      ]
     },
     "metadata": {},
     "output_type": "display_data"
    }
   ],
   "source": [
    "pb_df[\"AT3G07970\",]"
   ]
  },
  {
   "cell_type": "code",
   "execution_count": 55,
   "metadata": {},
   "outputs": [],
   "source": [
    "#put experimental covariates in\n",
    "bulk_edger_1 =  edgeR_2_sample(pb_df, \"WT\", \"mut\", c(1,2,3,4), c(5,6,7,8), annotations, design, my.contrasts)"
   ]
  },
  {
   "cell_type": "code",
   "execution_count": 56,
   "metadata": {},
   "outputs": [],
   "source": [
    "WT_higher_1 = bulk_edger_1[bulk_edger_1$FDR < .2 & bulk_edger_1$logFC > 1,]\n",
    "WT_lower_1 = bulk_edger_1[bulk_edger_1$FDR < .2 & bulk_edger_1$logFC < -1,]"
   ]
  },
  {
   "cell_type": "code",
   "execution_count": 65,
   "metadata": {},
   "outputs": [
    {
     "data": {
      "text/html": [
       "<style>\n",
       ".list-inline {list-style: none; margin:0; padding: 0}\n",
       ".list-inline>li {display: inline-block}\n",
       ".list-inline>li:not(:last-child)::after {content: \"\\00b7\"; padding: 0 .5ex}\n",
       "</style>\n",
       "<ol class=list-inline><li>518</li><li>17</li></ol>\n"
      ],
      "text/latex": [
       "\\begin{enumerate*}\n",
       "\\item 518\n",
       "\\item 17\n",
       "\\end{enumerate*}\n"
      ],
      "text/markdown": [
       "1. 518\n",
       "2. 17\n",
       "\n",
       "\n"
      ],
      "text/plain": [
       "[1] 518  17"
      ]
     },
     "metadata": {},
     "output_type": "display_data"
    }
   ],
   "source": [
    "dim(WT_higher_1)"
   ]
  },
  {
   "cell_type": "code",
   "execution_count": null,
   "metadata": {},
   "outputs": [],
   "source": [
    "write.csv(bulk_edger_1, \"../data/pseudo_bulk_data/AZ_edger_4_19_22_factors.csv\")"
   ]
  },
  {
   "cell_type": "code",
   "execution_count": 3,
   "metadata": {},
   "outputs": [],
   "source": [
    "bulk_edger_1 = read.csv(\"../data/pseudo_bulk_data/AZ_edger_4_19_22_factors.csv\")\n",
    "write.csv(bulk_edger_1, \"../data/for_figures/AZ_edger_4_19_22_factors.csv\")"
   ]
  },
  {
   "cell_type": "code",
   "execution_count": 27,
   "metadata": {},
   "outputs": [
    {
     "data": {
      "text/html": [
       "<style>\n",
       ".list-inline {list-style: none; margin:0; padding: 0}\n",
       ".list-inline>li {display: inline-block}\n",
       ".list-inline>li:not(:last-child)::after {content: \"\\00b7\"; padding: 0 .5ex}\n",
       "</style>\n",
       "<ol class=list-inline><li>18173</li><li>17</li></ol>\n"
      ],
      "text/latex": [
       "\\begin{enumerate*}\n",
       "\\item 18173\n",
       "\\item 17\n",
       "\\end{enumerate*}\n"
      ],
      "text/markdown": [
       "1. 18173\n",
       "2. 17\n",
       "\n",
       "\n"
      ],
      "text/plain": [
       "[1] 18173    17"
      ]
     },
     "metadata": {},
     "output_type": "display_data"
    }
   ],
   "source": [
    "dim(bulk_edger_1)"
   ]
  }
 ],
 "metadata": {
  "kernelspec": {
   "display_name": "R",
   "language": "R",
   "name": "ir"
  },
  "language_info": {
   "codemirror_mode": "r",
   "file_extension": ".r",
   "mimetype": "text/x-r-source",
   "name": "R",
   "pygments_lexer": "r",
   "version": "3.6.3"
  }
 },
 "nbformat": 4,
 "nbformat_minor": 4
}
