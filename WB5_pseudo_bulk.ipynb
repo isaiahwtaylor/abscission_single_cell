{
 "cells": [
  {
   "cell_type": "code",
   "execution_count": 86,
   "metadata": {},
   "outputs": [],
   "source": [
    "library(here)\n",
    "library(Matrix)\n",
    "library(tidyverse)\n",
    "library(Seurat)\n",
    "library(ggpointdensity)\n",
    "library(scales)\n",
    "library(reticulate)\n",
    "library(repr)\n",
    "#library(DoubletFinder)\n",
    "library(future)\n",
    "library(RColorBrewer)\n",
    "library(edgeR)\n",
    "library(limma)\n",
    "#library(PCAtools)\n",
    "options(future.globals.maxSize = 100000 * 1024^2)\n",
    "source(here(\"R_functions\",\"edgeR_function.R\"))\n",
    "\n",
    "annotations = read.csv(\"R_functions/gene_descriptions.csv\", header = F)\n",
    "colnames(annotations) = c(\"gene_id\", \"description\")\n",
    "annotations$gene_id = substr(annotations$gene_id, 1, 9)\n",
    "\n",
    "proto_genes=read.csv(\"../data/bulk_data/protoplasting.csv\")\n",
    "proto_list=as.character(proto_genes[abs(proto_genes$logFC) > 1,]$genes)\n",
    "bulk_data = read.csv(\"/home/robotmessenger810/data/buckets/single_cell_bucket_3_4_21/IWT_RNA_seq/scRNA_flowers/outputs/bulk_edger_10_16_20.csv\")\n"
   ]
  },
  {
   "cell_type": "code",
   "execution_count": 2,
   "metadata": {},
   "outputs": [],
   "source": [
    "seu_intd_wt = readRDS(file = \"../data/seurat_objects/seurat_WT_intd_2_17_21.rds\")\n",
    "seu_intd_mut = readRDS(file = \"../data/seurat_objects/seurat_mut_intd_label_transferred_3_10_22.rds\")"
   ]
  },
  {
   "cell_type": "code",
   "execution_count": 3,
   "metadata": {},
   "outputs": [],
   "source": [
    "cluster = \"9\"\n",
    "seu_intd_wt@active.assay = \"RNA\"\n",
    "\n",
    "wt_1_AZ <- rowSums(as.matrix(GetAssayData(subset(seu_intd_wt, subset = orig.ident == \"sc_26_combined\"), slot = \"counts\")[, WhichCells(subset(seu_intd_wt, subset = orig.ident == \"sc_26_combined\"), ident = cluster)]))\n",
    "wt_2_AZ <- rowSums(as.matrix(GetAssayData(subset(seu_intd_wt, subset = orig.ident == \"sc_67\"), slot = \"counts\")[, WhichCells(subset(seu_intd_wt, subset = orig.ident == \"sc_67\"), ident = cluster)]))\n",
    "YFP_1_AZ <- rowSums(as.matrix(GetAssayData(subset(seu_intd_wt, subset = orig.ident == \"sc_101\"), slot = \"counts\")[, WhichCells(subset(seu_intd_wt, subset = orig.ident == \"sc_101\"), ident = cluster)]))\n",
    "YFP_2_AZ <- rowSums(as.matrix(GetAssayData(subset(seu_intd_wt, subset = orig.ident == \"sc_103\"), slot = \"counts\")[, WhichCells(subset(seu_intd_wt, subset = orig.ident == \"sc_103\"), ident = cluster)]))\n",
    "\n"
   ]
  },
  {
   "cell_type": "code",
   "execution_count": 4,
   "metadata": {},
   "outputs": [],
   "source": [
    "cluster = \"11\"\n",
    "seu_intd_mut@active.assay = \"RNA\"\n",
    "\n",
    "mut_1_AZ <- rowSums(as.matrix(GetAssayData(subset(seu_intd_mut, subset = orig.ident == \"sc_27_combined\"), slot = \"counts\")[, WhichCells(subset(seu_intd_mut, subset = orig.ident == \"sc_27_combined\"), ident = cluster)]))\n",
    "mut_2_AZ <- rowSums(as.matrix(GetAssayData(subset(seu_intd_mut, subset = orig.ident == \"sc_68\"), slot = \"counts\")[, WhichCells(subset(seu_intd_mut, subset = orig.ident == \"sc_68\"), ident = cluster)]))\n",
    "KE_1_AZ <- rowSums(as.matrix(GetAssayData(subset(seu_intd_mut, subset = orig.ident == \"sc_102\"), slot = \"counts\")[, WhichCells(subset(seu_intd_mut, subset = orig.ident == \"sc_102\"), ident = cluster)]))\n",
    "KE_2_AZ <- rowSums(as.matrix(GetAssayData(subset(seu_intd_mut, subset = orig.ident == \"sc_104\"), slot = \"counts\")[, WhichCells(subset(seu_intd_mut, subset = orig.ident == \"sc_104\"), ident = cluster)]))\n"
   ]
  },
  {
   "cell_type": "code",
   "execution_count": 5,
   "metadata": {},
   "outputs": [],
   "source": [
    "gene_intersection = intersect(names(wt_1_AZ), names(mut_1_AZ))\n",
    "wt_1_AZ = wt_1_AZ[gene_intersection]\n",
    "wt_2_AZ = wt_2_AZ[gene_intersection]\n",
    "YFP_1_AZ = YFP_1_AZ[gene_intersection]\n",
    "YFP_2_AZ = YFP_2_AZ[gene_intersection]\n",
    "mut_1_AZ = mut_1_AZ[gene_intersection]\n",
    "mut_2_AZ = mut_2_AZ[gene_intersection]\n",
    "KE_1_AZ = KE_1_AZ[gene_intersection]\n",
    "KE_2_AZ = KE_2_AZ [gene_intersection]"
   ]
  },
  {
   "cell_type": "code",
   "execution_count": 19,
   "metadata": {},
   "outputs": [],
   "source": [
    "pb_df = data.frame(cbind(wt_1_AZ , wt_2_AZ, YFP_1_AZ, YFP_2_AZ, mut_1_AZ , mut_2_AZ, KE_1_AZ, KE_2_AZ))\n",
    "colnames(pb_df) = c(\"WT1\", \"WT2\", \"YFP1\", \"YFP2\", \"mut1\", \"mut2\", \"KE1\", \"KE2\")\n",
    "rownames(pb_df) = gene_intersection"
   ]
  },
  {
   "cell_type": "code",
   "execution_count": 15,
   "metadata": {},
   "outputs": [],
   "source": [
    "write.csv(pb_df, \"../data/pseudo_bulk_data/AZ_pbs_2_18_22.csv\")"
   ]
  },
  {
   "cell_type": "code",
   "execution_count": 24,
   "metadata": {},
   "outputs": [],
   "source": [
    "pb_df = read.csv(\"../data/pseudo_bulk_data/AZ_pbs_2_18_22.csv\")\n",
    "rownames(pb_df) = pb_df[,1]\n",
    "pb_df[,1] <- NULL"
   ]
  },
  {
   "cell_type": "code",
   "execution_count": 32,
   "metadata": {},
   "outputs": [],
   "source": [
    "#put experimental covariates in\n",
    "bulk_edger_1 =  edgeR_2_sample(pb_df, \"WT\", \"mut\", c(1,2,3,4), c(5,6,7,8), annotations)"
   ]
  },
  {
   "cell_type": "code",
   "execution_count": 79,
   "metadata": {},
   "outputs": [],
   "source": [
    "bulk_edger_2 = edgeR_2_sample_other_factors(pb_df, \"WT\", \"mut\", c(1,2,3,4), c(5,6,7,8), annotations)"
   ]
  },
  {
   "cell_type": "code",
   "execution_count": 44,
   "metadata": {},
   "outputs": [],
   "source": [
    "WT_higher_1 = bulk_edger_1[bulk_edger_1$FDR < .2 & bulk_edger_1$logFC > 1,]\n",
    "WT_lower_1 = bulk_edger_1[bulk_edger_1$FDR < .2 & bulk_edger_1$logFC < -1,]"
   ]
  },
  {
   "cell_type": "raw",
   "metadata": {},
   "source": [
    "WT_higher_2 = bulk_edger_2[bulk_edger_2$FDR < .1 & bulk_edger_2$logFC > 2,]\n",
    "WT_lower_2 = bulk_edger_2[bulk_edger_2$FDR < .1 & bulk_edger_2$logFC < -2,]"
   ]
  },
  {
   "cell_type": "code",
   "execution_count": 94,
   "metadata": {},
   "outputs": [],
   "source": [
    "write.csv(bulk_edger_2, \"../data/pseudo_bulk_data/AZ_edger_2_18_22_factors.csv\")"
   ]
  }
 ],
 "metadata": {
  "kernelspec": {
   "display_name": "R",
   "language": "R",
   "name": "ir"
  },
  "language_info": {
   "codemirror_mode": "r",
   "file_extension": ".r",
   "mimetype": "text/x-r-source",
   "name": "R",
   "pygments_lexer": "r",
   "version": "3.6.3"
  }
 },
 "nbformat": 4,
 "nbformat_minor": 4
}
