{
 "cells": [
  {
   "cell_type": "markdown",
   "metadata": {},
   "source": [
    "GO analysis of WT AZ gene expression etc"
   ]
  },
  {
   "cell_type": "code",
   "execution_count": 1,
   "metadata": {},
   "outputs": [],
   "source": [
    "library(here)\n",
    "library(Matrix)\n",
    "library(tidyverse)\n",
    "library(Seurat)\n",
    "library(ggpointdensity)\n",
    "library(scales)\n",
    "library(DropletUtils)\n",
    "library(reticulate)\n",
    "library(repr)\n",
    "#library(DoubletFinder)\n",
    "library(future)\n",
    "library(RColorBrewer)\n",
    "library(edgeR)\n",
    "library(limma)\n",
    "library(svglite)\n",
    "#library(PCAtools)\n",
    "options(future.globals.maxSize = 100000 * 1024^2)\n",
    "\n",
    "proto_genes=read.csv(\"../data/bulk_data/protoplasting.csv\")\n",
    "proto_list=as.character(proto_genes[abs(proto_genes$logFC) > 1,]$genes)\n",
    "bulk_data = read.csv(\"/home/robotmessenger810/data/buckets/single_cell_bucket_3_4_21/IWT_RNA_seq/scRNA_flowers/outputs/bulk_edger_10_16_20.csv\")\n"
   ]
  },
  {
   "cell_type": "code",
   "execution_count": 2,
   "metadata": {},
   "outputs": [],
   "source": [
    "seu_intd_wt = readRDS(file = \"../data/intd_seu_objects/1_6_22_WT.rds\")"
   ]
  },
  {
   "cell_type": "code",
   "execution_count": null,
   "metadata": {},
   "outputs": [],
   "source": [
    "#findmarkers\n",
    "cluster_AZ_all = FindAllMarkers(seu_intd_wt, max.cells.per.ident = 1000)"
   ]
  },
  {
   "cell_type": "code",
   "execution_count": null,
   "metadata": {},
   "outputs": [],
   "source": [
    "saveRDS(cluster_AZ_all, file = paste(\"../data/markers/\", \"AZ_markers_WT_ALL_res_1_25_Feb_14_22\", \".rds\", sep=\"\"))"
   ]
  },
  {
   "cell_type": "code",
   "execution_count": null,
   "metadata": {},
   "outputs": [],
   "source": [
    "#write AZ specific genes as well as all genes with high enough expression to be included in the analysis (ie the universe of genes for gene set testing)\n",
    "write.csv(cluster_AZ_all[cluster_AZ_all$cluster == 9,], file = paste(\"../data/for_figures/\", \"AZ_spec_genes_universe_WT_res_1_25_Jan_18_22\", \".csv\", sep=\"\"), row.names = FALSE)\n",
    "write.csv(unique(cluster_AZ_all$gene), file = paste(\"../data/for_figures/\", \"WT_universe_spec_genes_WT_res_1_25_Jan_18_22\", \".csv\", sep=\"\"), row.names = FALSE)"
   ]
  },
  {
   "cell_type": "code",
   "execution_count": 3,
   "metadata": {},
   "outputs": [
    {
     "data": {
      "text/html": [
       "<style>\n",
       ".list-inline {list-style: none; margin:0; padding: 0}\n",
       ".list-inline>li {display: inline-block}\n",
       ".list-inline>li:not(:last-child)::after {content: \"\\00b7\"; padding: 0 .5ex}\n",
       "</style>\n",
       "<ol class=list-inline><li>'AT3G44540'</li><li>'AT3G44550'</li><li>'AT3G44560'</li><li>'AT5G22500'</li><li>'AT1G53830'</li><li>'AT2G41850'</li><li>'AT2G47550'</li><li>'AT3G07970'</li><li>'AT3G24670'</li><li>'AT3G27400'</li><li>'AT4G24780'</li><li>'AT1G28130'</li><li>'AT2G14960'</li><li>'AT2G16580'</li><li>'AT2G28085'</li><li>'AT2G36210'</li><li>'AT3G07390'</li><li>'AT4G14560'</li><li>'AT4G27260'</li><li>'AT4G28640'</li><li>'AT5G54510'</li></ol>\n"
      ],
      "text/latex": [
       "\\begin{enumerate*}\n",
       "\\item 'AT3G44540'\n",
       "\\item 'AT3G44550'\n",
       "\\item 'AT3G44560'\n",
       "\\item 'AT5G22500'\n",
       "\\item 'AT1G53830'\n",
       "\\item 'AT2G41850'\n",
       "\\item 'AT2G47550'\n",
       "\\item 'AT3G07970'\n",
       "\\item 'AT3G24670'\n",
       "\\item 'AT3G27400'\n",
       "\\item 'AT4G24780'\n",
       "\\item 'AT1G28130'\n",
       "\\item 'AT2G14960'\n",
       "\\item 'AT2G16580'\n",
       "\\item 'AT2G28085'\n",
       "\\item 'AT2G36210'\n",
       "\\item 'AT3G07390'\n",
       "\\item 'AT4G14560'\n",
       "\\item 'AT4G27260'\n",
       "\\item 'AT4G28640'\n",
       "\\item 'AT5G54510'\n",
       "\\end{enumerate*}\n"
      ],
      "text/markdown": [
       "1. 'AT3G44540'\n",
       "2. 'AT3G44550'\n",
       "3. 'AT3G44560'\n",
       "4. 'AT5G22500'\n",
       "5. 'AT1G53830'\n",
       "6. 'AT2G41850'\n",
       "7. 'AT2G47550'\n",
       "8. 'AT3G07970'\n",
       "9. 'AT3G24670'\n",
       "10. 'AT3G27400'\n",
       "11. 'AT4G24780'\n",
       "12. 'AT1G28130'\n",
       "13. 'AT2G14960'\n",
       "14. 'AT2G16580'\n",
       "15. 'AT2G28085'\n",
       "16. 'AT2G36210'\n",
       "17. 'AT3G07390'\n",
       "18. 'AT4G14560'\n",
       "19. 'AT4G27260'\n",
       "20. 'AT4G28640'\n",
       "21. 'AT5G54510'\n",
       "\n",
       "\n"
      ],
      "text/plain": [
       " [1] \"AT3G44540\" \"AT3G44550\" \"AT3G44560\" \"AT5G22500\" \"AT1G53830\" \"AT2G41850\"\n",
       " [7] \"AT2G47550\" \"AT3G07970\" \"AT3G24670\" \"AT3G27400\" \"AT4G24780\" \"AT1G28130\"\n",
       "[13] \"AT2G14960\" \"AT2G16580\" \"AT2G28085\" \"AT2G36210\" \"AT3G07390\" \"AT4G14560\"\n",
       "[19] \"AT4G27260\" \"AT4G28640\" \"AT5G54510\""
      ]
     },
     "metadata": {},
     "output_type": "display_data"
    }
   ],
   "source": [
    "genes = c(\"AT3G44540\",\"AT3G44550\",\"AT3G44560\",\"AT5G22500\",\"AT1G53830\",\"AT2G41850\",\"AT2G47550\",\"AT3G07970\",\"AT3G24670\",\"AT3G27400\",\"AT4G24780\",\"AT1G28130\",\"AT2G14960\",\"AT2G16580\",\"AT2G28085\",\"AT2G36210\",\n",
    "          \"AT3G07390\",\"AT4G14560\",\"AT4G27260\",\"AT4G28640\",\"AT5G54510\")\n",
    "genes"
   ]
  },
  {
   "cell_type": "code",
   "execution_count": 3,
   "metadata": {},
   "outputs": [
    {
     "name": "stderr",
     "output_type": "stream",
     "text": [
      "Warning message:\n",
      "“The default method for RunUMAP has changed from calling Python UMAP via reticulate to the R-native UWOT using the cosine metric\n",
      "To use Python UMAP via reticulate, set umap.method to 'umap-learn' and metric to 'correlation'\n",
      "This message will be shown once per session”\n"
     ]
    }
   ],
   "source": [
    "resolution = 1.25\n",
    "set.seed(42)\n",
    "DefaultAssay(seu_intd_wt) <- \"integrated\"\n",
    "options(repr.plot.width=12, repr.plot.height=12)\n",
    "# Run the standard workflow for visualization and clustering\n",
    "#all_intd_sct <- ScaleData(all_intd_sct, verbose = FALSE)\n",
    "seu_intd_wt <- RunPCA(seu_intd_wt, npcs = 100, verbose = FALSE, approx = FALSE)\n",
    "#From RunPCA doc: Features to compute PCA on. If features=NULL, PCA will be run using the variable features for the Assay. \n",
    "#Note that the features must be present in the scaled data. Any requested features that are not scaled or have 0 variance \n",
    "#will be dropped, and the PCA will be run using the remaining features.\n",
    "\n",
    "#previously run 20 PCs as of 2/14/22\n",
    "seu_intd_wt <- FindNeighbors(seu_intd_wt, dims = 1:20, verbose = FALSE)\n",
    "seu_intd_wt <- FindClusters(seu_intd_wt, resolution = resolution, algorithm = 3, verbose = FALSE)\n",
    "seu_intd_wt <- RunUMAP(seu_intd_wt, reduction = \"pca\", dims = 1:20, verbose = FALSE)"
   ]
  },
  {
   "cell_type": "code",
   "execution_count": 6,
   "metadata": {},
   "outputs": [],
   "source": [
    "DefaultAssay(seu_intd_wt) <- \"SCT\"\n",
    "options(repr.plot.width=8, repr.plot.height=8)\n",
    "\n",
    "for (g in genes) {\n",
    "    plot = FeaturePlot(seu_intd_wt, features = g,  pt.size = 2.25, min = .75, order = TRUE)#, split.by = \"experiment\")# + scale_colour_gradient(low = \"gray94\", high = \"red\", space = \"Lab\", na.value = \"grey50\", guide = \"colourbar\",aesthetics = \"colour\")\n",
    "    #print(plot)   \n",
    "    ggsave(file=paste0(\"/home/robotmessenger810/sc_analysis/data/for_figures/gene_plots/figure_3_pngs/\",g, \".png\"), plot=plot, width=10, height=10)\n",
    "}"
   ]
  },
  {
   "cell_type": "code",
   "execution_count": null,
   "metadata": {},
   "outputs": [],
   "source": [
    "DefaultAssay(seu_intd_wt) <- \"SCT\"\n",
    "FeaturePlot(seu_intd_wt, features = \"AT3G09220\",  pt.size = 2.25, min = .75, order = TRUE)"
   ]
  }
 ],
 "metadata": {
  "kernelspec": {
   "display_name": "R",
   "language": "R",
   "name": "ir"
  },
  "language_info": {
   "codemirror_mode": "r",
   "file_extension": ".r",
   "mimetype": "text/x-r-source",
   "name": "R",
   "pygments_lexer": "r",
   "version": "3.6.3"
  }
 },
 "nbformat": 4,
 "nbformat_minor": 4
}
