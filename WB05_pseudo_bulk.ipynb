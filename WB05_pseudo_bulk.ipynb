{
 "cells": [
  {
   "cell_type": "code",
   "execution_count": 1,
   "metadata": {},
   "outputs": [
    {
     "name": "stderr",
     "output_type": "stream",
     "text": [
      "here() starts at /home/robotmessenger810/sc_analysis/code\n",
      "\n"
     ]
    }
   ],
   "source": [
    "#THIS SCRIPT PERFORMS PSEUDOBULK ANALYSIS ON THE AZ IN WT AND MUTANT\n",
    "\n",
    "suppressMessages(library(Seurat))\n",
    "library(here)\n",
    "source(here(\"R_functions\",\"edgeR_function.R\"))\n",
    "\n",
    "annotations = read.csv(\"R_functions/gene_descriptions.csv\", header = F)\n",
    "colnames(annotations) = c(\"gene_id\", \"description\")\n",
    "annotations$gene_id = substr(annotations$gene_id, 1, 9)\n",
    "\n",
    "proto_genes=read.csv(\"../data/bulk_data/protoplasting.csv\")\n",
    "proto_list=as.character(proto_genes[abs(proto_genes$logFC) > 1,]$genes)\n",
    "bulk_data = read.csv(\"../../data/buckets/single_cell_bucket_3_4_21/IWT_RNA_seq/scRNA_flowers/outputs/bulk_edger_10_16_20.csv\")\n"
   ]
  },
  {
   "cell_type": "code",
   "execution_count": 2,
   "metadata": {},
   "outputs": [
    {
     "data": {
      "text/plain": [
       "R version 3.6.3 (2020-02-29)\n",
       "Platform: x86_64-conda_cos6-linux-gnu (64-bit)\n",
       "Running under: Ubuntu 20.04.2 LTS\n",
       "\n",
       "Matrix products: default\n",
       "BLAS/LAPACK: /home/robotmessenger810/anaconda3/envs/r_3/lib/libopenblasp-r0.3.9.so\n",
       "\n",
       "locale:\n",
       " [1] LC_CTYPE=en_US.UTF-8       LC_NUMERIC=C              \n",
       " [3] LC_TIME=en_US.UTF-8        LC_COLLATE=en_US.UTF-8    \n",
       " [5] LC_MONETARY=en_US.UTF-8    LC_MESSAGES=en_US.UTF-8   \n",
       " [7] LC_PAPER=en_US.UTF-8       LC_NAME=C                 \n",
       " [9] LC_ADDRESS=C               LC_TELEPHONE=C            \n",
       "[11] LC_MEASUREMENT=en_US.UTF-8 LC_IDENTIFICATION=C       \n",
       "\n",
       "attached base packages:\n",
       "[1] stats     graphics  grDevices utils     datasets  methods   base     \n",
       "\n",
       "other attached packages:\n",
       "[1] here_0.1     Seurat_3.1.5\n",
       "\n",
       "loaded via a namespace (and not attached):\n",
       " [1] httr_1.4.2         tidyr_1.1.3        jsonlite_1.7.2     viridisLite_0.4.0 \n",
       " [5] splines_3.6.3      leiden_0.3.9       ggrepel_0.9.1      globals_0.12.5    \n",
       " [9] pillar_1.6.4       lattice_0.20-45    glue_1.6.0         reticulate_1.16   \n",
       "[13] uuid_0.1-4         digest_0.6.29      RColorBrewer_1.1-2 colorspace_2.0-2  \n",
       "[17] cowplot_1.1.1      htmltools_0.5.0    Matrix_1.2-18      plyr_1.8.6        \n",
       "[21] pkgconfig_2.0.3    tsne_0.1-3         listenv_0.8.0      purrr_0.3.4       \n",
       "[25] patchwork_1.1.1    scales_1.1.1       RANN_2.6.1         Rtsne_0.15        \n",
       "[29] tibble_3.1.6       generics_0.1.1     ggplot2_3.3.5      ellipsis_0.3.2    \n",
       "[33] repr_1.1.0         ROCR_1.0-11        pbapply_1.5-0      lazyeval_0.2.2    \n",
       "[37] survival_3.1-12    magrittr_2.0.1     crayon_1.4.2       evaluate_0.14     \n",
       "[41] future_1.18.0      fansi_0.5.0        nlme_3.1-147       MASS_7.3-54       \n",
       "[45] ica_1.0-2          tools_3.6.3        fitdistrplus_1.1-1 data.table_1.14.2 \n",
       "[49] lifecycle_1.0.1    stringr_1.4.0      plotly_4.9.2.1     munsell_0.5.0     \n",
       "[53] cluster_2.1.2      irlba_2.3.5        compiler_3.6.3     rsvd_1.0.3        \n",
       "[57] rlang_0.4.12       grid_3.6.3         ggridges_0.5.2     pbdZMQ_0.3-6      \n",
       "[61] IRkernel_1.1       RcppAnnoy_0.0.19   htmlwidgets_1.5.1  igraph_1.2.5      \n",
       "[65] base64enc_0.1-3    gtable_0.3.0       codetools_0.2-18   DBI_1.1.2         \n",
       "[69] reshape2_1.4.4     R6_2.5.1           gridExtra_2.3      zoo_1.8-8         \n",
       "[73] dplyr_1.0.7        uwot_0.1.8         future.apply_1.6.0 utf8_1.2.2        \n",
       "[77] rprojroot_2.0.2    KernSmooth_2.23-20 ape_5.3            stringi_1.7.6     \n",
       "[81] parallel_3.6.3     IRdisplay_0.7.0    Rcpp_1.0.7         sctransform_0.2.1 \n",
       "[85] vctrs_0.3.8        png_0.1-7          tidyselect_1.1.1   lmtest_0.9-38     "
      ]
     },
     "metadata": {},
     "output_type": "display_data"
    }
   ],
   "source": [
    "sessionInfo()"
   ]
  },
  {
   "cell_type": "code",
   "execution_count": null,
   "metadata": {},
   "outputs": [],
   "source": [
    "seu_intd_wt_mut = readRDS(file = \"../data/intd_seu_objects/4_12_22_WT_mut.rds\")\n",
    "\n",
    "resolution = .75\n",
    "set.seed(42)\n",
    "DefaultAssay(seu_intd_wt_mut) <- \"integrated\"\n",
    "options(repr.plot.width=12, repr.plot.height=12)\n",
    "seu_intd_wt_mut <- RunPCA(seu_intd_wt_mut, npcs = 100, verbose = FALSE, approx = FALSE)\n",
    "seu_intd_wt_mut <- FindNeighbors(seu_intd_wt_mut, dims = 1:20, verbose = FALSE)\n",
    "seu_intd_wt_mut <- FindClusters(seu_intd_wt_mut, resolution = resolution, algorithm = 3, verbose = FALSE)\n",
    "seu_intd_wt_mut <- RunUMAP(seu_intd_wt_mut, reduction = \"pca\", dims = 1:20, verbose = FALSE)"
   ]
  },
  {
   "cell_type": "code",
   "execution_count": null,
   "metadata": {},
   "outputs": [],
   "source": [
    "cluster = \"11\" #AZ cluster\n",
    "seu_intd_wt_mut@active.assay = \"RNA\"\n",
    "\n",
    "wt_1_AZ <- rowSums(as.matrix(GetAssayData(subset(seu_intd_wt_mut, subset = orig.ident == \"sc_26_combined\"), slot = \"counts\")[, WhichCells(subset(seu_intd_wt_mut, subset = orig.ident == \"sc_26_combined\"), ident = cluster)]))\n",
    "wt_2_AZ <- rowSums(as.matrix(GetAssayData(subset(seu_intd_wt_mut, subset = orig.ident == \"sc_67\"), slot = \"counts\")[, WhichCells(subset(seu_intd_wt_mut, subset = orig.ident == \"sc_67\"), ident = cluster)]))\n",
    "YFP_1_AZ <- rowSums(as.matrix(GetAssayData(subset(seu_intd_wt_mut, subset = orig.ident == \"sc_101\"), slot = \"counts\")[, WhichCells(subset(seu_intd_wt_mut, subset = orig.ident == \"sc_101\"), ident = cluster)]))\n",
    "YFP_2_AZ <- rowSums(as.matrix(GetAssayData(subset(seu_intd_wt_mut, subset = orig.ident == \"sc_103\"), slot = \"counts\")[, WhichCells(subset(seu_intd_wt_mut, subset = orig.ident == \"sc_103\"), ident = cluster)]))\n",
    "\n"
   ]
  },
  {
   "cell_type": "code",
   "execution_count": null,
   "metadata": {},
   "outputs": [],
   "source": [
    "cluster = \"11\"\n",
    "seu_intd_wt_mut@active.assay = \"RNA\"\n",
    "\n",
    "mut_1_AZ <- rowSums(as.matrix(GetAssayData(subset(seu_intd_wt_mut, subset = orig.ident == \"sc_27_combined\"), slot = \"counts\")[, WhichCells(subset(seu_intd_wt_mut, subset = orig.ident == \"sc_27_combined\"), ident = cluster)]))\n",
    "mut_2_AZ <- rowSums(as.matrix(GetAssayData(subset(seu_intd_wt_mut, subset = orig.ident == \"sc_68\"), slot = \"counts\")[, WhichCells(subset(seu_intd_wt_mut, subset = orig.ident == \"sc_68\"), ident = cluster)]))\n",
    "KE_1_AZ <- rowSums(as.matrix(GetAssayData(subset(seu_intd_wt_mut, subset = orig.ident == \"sc_102\"), slot = \"counts\")[, WhichCells(subset(seu_intd_wt_mut, subset = orig.ident == \"sc_102\"), ident = cluster)]))\n",
    "KE_2_AZ <- rowSums(as.matrix(GetAssayData(subset(seu_intd_wt_mut, subset = orig.ident == \"sc_104\"), slot = \"counts\")[, WhichCells(subset(seu_intd_wt_mut, subset = orig.ident == \"sc_104\"), ident = cluster)]))\n"
   ]
  },
  {
   "cell_type": "code",
   "execution_count": null,
   "metadata": {},
   "outputs": [],
   "source": [
    "gene_intersection = intersect(names(wt_1_AZ), names(mut_1_AZ))\n",
    "\n",
    "wt_1_AZ = wt_1_AZ[gene_intersection]\n",
    "wt_2_AZ = wt_2_AZ[gene_intersection]\n",
    "YFP_1_AZ = YFP_1_AZ[gene_intersection]\n",
    "YFP_2_AZ = YFP_2_AZ[gene_intersection]\n",
    "mut_1_AZ = mut_1_AZ[gene_intersection]\n",
    "mut_2_AZ = mut_2_AZ[gene_intersection]\n",
    "KE_1_AZ = KE_1_AZ[gene_intersection]\n",
    "KE_2_AZ = KE_2_AZ [gene_intersection]"
   ]
  },
  {
   "cell_type": "code",
   "execution_count": null,
   "metadata": {},
   "outputs": [],
   "source": [
    "pb_df = data.frame(cbind(wt_1_AZ , wt_2_AZ, YFP_1_AZ, YFP_2_AZ, mut_1_AZ , mut_2_AZ, KE_1_AZ, KE_2_AZ))\n",
    "colnames(pb_df) = c(\"WT1\", \"WT2\", \"YFP1\", \"YFP2\", \"mut1\", \"mut2\", \"KE1\", \"KE2\")\n",
    "rownames(pb_df) = gene_intersection"
   ]
  },
  {
   "cell_type": "code",
   "execution_count": null,
   "metadata": {},
   "outputs": [],
   "source": [
    "write.csv(pb_df, \"../data/pseudo_bulk_data/AZ_pbs_4_19_22.csv\")"
   ]
  },
  {
   "cell_type": "code",
   "execution_count": null,
   "metadata": {},
   "outputs": [],
   "source": [
    "pb_df = read.csv(\"../data/pseudo_bulk_data/AZ_pbs_4_19_22.csv\")\n",
    "rownames(pb_df) = pb_df[,1]\n",
    "pb_df[,1] <- NULL"
   ]
  },
  {
   "cell_type": "code",
   "execution_count": null,
   "metadata": {},
   "outputs": [],
   "source": [
    "#account for factors in experiment\n",
    "phenotype=as.factor(c(\"wt\", \"wt\", \"wt\", \"wt\", \"mut\", \"mut\", \"mut\", \"mut\"))\n",
    "batch=as.factor(c(0,0,1,1,0,0,1,1))\n",
    "design <- model.matrix(~phenotype+batch)#+insertion)\n",
    "\n",
    "#double check design matrix isn't singular\n",
    "print(paste(\"determinant of XT*X of design matrix is: \", det(t(design)%*%(design))))\n",
    "\n",
    "#making contrast matrix for tests of interest\n",
    "my.contrasts <- makeContrasts(s1_v_s2=phenotypewt, levels=design)"
   ]
  },
  {
   "cell_type": "code",
   "execution_count": null,
   "metadata": {},
   "outputs": [],
   "source": [
    "my.contrasts\n",
    "design"
   ]
  },
  {
   "cell_type": "code",
   "execution_count": null,
   "metadata": {},
   "outputs": [],
   "source": [
    "#put experimental covariates in\n",
    "bulk_edger_1 =  edgeR_2_sample(pb_df, \"WT\", \"mut\", c(1,2,3,4), c(5,6,7,8), annotations, design, my.contrasts)"
   ]
  },
  {
   "cell_type": "code",
   "execution_count": null,
   "metadata": {},
   "outputs": [],
   "source": [
    "WT_higher_1 = bulk_edger_1[bulk_edger_1$FDR < .2 & bulk_edger_1$logFC > 1,]\n",
    "WT_lower_1 = bulk_edger_1[bulk_edger_1$FDR < .2 & bulk_edger_1$logFC < -1,]"
   ]
  },
  {
   "cell_type": "code",
   "execution_count": null,
   "metadata": {},
   "outputs": [],
   "source": [
    "dim(WT_higher_1)"
   ]
  },
  {
   "cell_type": "code",
   "execution_count": null,
   "metadata": {},
   "outputs": [],
   "source": [
    "write.csv(bulk_edger_1, \"../data/pseudo_bulk_data/AZ_edger_4_19_22_factors.csv\")"
   ]
  },
  {
   "cell_type": "code",
   "execution_count": null,
   "metadata": {},
   "outputs": [],
   "source": [
    "bulk_edger_1 = read.csv(\"../data/pseudo_bulk_data/AZ_edger_4_19_22_factors.csv\")\n",
    "write.csv(bulk_edger_1, \"../data/for_figures/AZ_edger_4_19_22_factors.csv\")"
   ]
  },
  {
   "cell_type": "code",
   "execution_count": null,
   "metadata": {},
   "outputs": [],
   "source": [
    "dim(bulk_edger_1)"
   ]
  }
 ],
 "metadata": {
  "kernelspec": {
   "display_name": "R",
   "language": "R",
   "name": "ir"
  },
  "language_info": {
   "codemirror_mode": "r",
   "file_extension": ".r",
   "mimetype": "text/x-r-source",
   "name": "R",
   "pygments_lexer": "r",
   "version": "3.6.3"
  }
 },
 "nbformat": 4,
 "nbformat_minor": 4
}
