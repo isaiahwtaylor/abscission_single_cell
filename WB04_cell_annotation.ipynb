{
 "cells": [
  {
   "cell_type": "code",
   "execution_count": 1,
   "metadata": {},
   "outputs": [],
   "source": [
    "#THIS SCRIPT ATTEMPTS TO ANNOTATE OTHER CLUSTERS IN THE INTEGRATED OBJECT\n",
    "\n",
    "suppressMessages(library(Seurat))\n",
    "suppressMessages(library(tidyverse))\n",
    "suppressMessages(library(dplyr))\n",
    "suppressMessages(library(cowplot))\n",
    "suppressMessages(library(data.table))"
   ]
  },
  {
   "cell_type": "code",
   "execution_count": 2,
   "metadata": {},
   "outputs": [
    {
     "data": {
      "text/plain": [
       "R version 3.6.3 (2020-02-29)\n",
       "Platform: x86_64-conda_cos6-linux-gnu (64-bit)\n",
       "Running under: Ubuntu 20.04.2 LTS\n",
       "\n",
       "Matrix products: default\n",
       "BLAS/LAPACK: /home/robotmessenger810/anaconda3/envs/r_3/lib/libopenblasp-r0.3.9.so\n",
       "\n",
       "locale:\n",
       " [1] LC_CTYPE=en_US.UTF-8       LC_NUMERIC=C              \n",
       " [3] LC_TIME=en_US.UTF-8        LC_COLLATE=en_US.UTF-8    \n",
       " [5] LC_MONETARY=en_US.UTF-8    LC_MESSAGES=en_US.UTF-8   \n",
       " [7] LC_PAPER=en_US.UTF-8       LC_NAME=C                 \n",
       " [9] LC_ADDRESS=C               LC_TELEPHONE=C            \n",
       "[11] LC_MEASUREMENT=en_US.UTF-8 LC_IDENTIFICATION=C       \n",
       "\n",
       "attached base packages:\n",
       "[1] stats     graphics  grDevices utils     datasets  methods   base     \n",
       "\n",
       "other attached packages:\n",
       " [1] data.table_1.14.2 cowplot_1.1.1     forcats_0.5.0     stringr_1.4.0    \n",
       " [5] dplyr_1.0.7       purrr_0.3.4       readr_1.4.0       tidyr_1.1.3      \n",
       " [9] tibble_3.1.6      ggplot2_3.3.5     tidyverse_1.3.0   Seurat_3.1.5     \n",
       "\n",
       "loaded via a namespace (and not attached):\n",
       " [1] nlme_3.1-147       tsne_0.1-3         fs_1.5.2           lubridate_1.7.8   \n",
       " [5] RcppAnnoy_0.0.19   RColorBrewer_1.1-2 httr_1.4.2         repr_1.1.0        \n",
       " [9] sctransform_0.2.1  tools_3.6.3        backports_1.4.1    utf8_1.2.2        \n",
       "[13] R6_2.5.1           irlba_2.3.5        KernSmooth_2.23-20 uwot_0.1.8        \n",
       "[17] DBI_1.1.2          lazyeval_0.2.2     colorspace_2.0-2   withr_2.4.3       \n",
       "[21] tidyselect_1.1.1   gridExtra_2.3      compiler_3.6.3     cli_3.1.0         \n",
       "[25] rvest_0.3.5        xml2_1.3.1         plotly_4.9.2.1     scales_1.1.1      \n",
       "[29] lmtest_0.9-38      ggridges_0.5.2     pbapply_1.5-0      pbdZMQ_0.3-6      \n",
       "[33] digest_0.6.29      base64enc_0.1-3    pkgconfig_2.0.3    htmltools_0.5.0   \n",
       "[37] dbplyr_1.4.2       readxl_1.3.1       htmlwidgets_1.5.1  rlang_0.4.12      \n",
       "[41] rstudioapi_0.13    generics_0.1.1     zoo_1.8-8          jsonlite_1.7.2    \n",
       "[45] ica_1.0-2          magrittr_2.0.1     patchwork_1.1.1    Matrix_1.2-18     \n",
       "[49] Rcpp_1.0.7         IRkernel_1.1       munsell_0.5.0      fansi_0.5.0       \n",
       "[53] ape_5.3            reticulate_1.16    lifecycle_1.0.1    stringi_1.7.6     \n",
       "[57] MASS_7.3-54        Rtsne_0.15         plyr_1.8.6         grid_3.6.3        \n",
       "[61] parallel_3.6.3     listenv_0.8.0      ggrepel_0.9.1      crayon_1.4.2      \n",
       "[65] lattice_0.20-45    haven_2.3.1        IRdisplay_0.7.0    splines_3.6.3     \n",
       "[69] hms_1.1.0          pillar_1.6.4       igraph_1.2.5       uuid_0.1-4        \n",
       "[73] future.apply_1.6.0 reshape2_1.4.4     codetools_0.2-18   leiden_0.3.9      \n",
       "[77] reprex_0.3.0       glue_1.6.0         evaluate_0.14      modelr_0.1.6      \n",
       "[81] png_0.1-7          vctrs_0.3.8        cellranger_1.1.0   gtable_0.3.0      \n",
       "[85] RANN_2.6.1         future_1.18.0      assertthat_0.2.1   rsvd_1.0.3        \n",
       "[89] broom_0.5.5        survival_3.1-12    viridisLite_0.4.0  cluster_2.1.2     \n",
       "[93] globals_0.12.5     fitdistrplus_1.1-1 ellipsis_0.3.2     ROCR_1.0-11       "
      ]
     },
     "metadata": {},
     "output_type": "display_data"
    }
   ],
   "source": [
    "sessionInfo()"
   ]
  },
  {
   "cell_type": "code",
   "execution_count": null,
   "metadata": {},
   "outputs": [],
   "source": [
    "seu_intd_wt_mut = readRDS(file = \"../data/intd_seu_objects/4_12_22_WT_mut.rds\")"
   ]
  },
  {
   "cell_type": "code",
   "execution_count": null,
   "metadata": {},
   "outputs": [],
   "source": [
    "resolution = .75\n",
    "set.seed(42)\n",
    "DefaultAssay(seu_intd_wt_mut) <- \"integrated\"\n",
    "options(repr.plot.width=12, repr.plot.height=12)\n",
    "# Run the standard workflow for visualization and clustering\n",
    "#all_intd_sct <- ScaleData(all_intd_sct, verbose = FALSE)\n",
    "seu_intd_wt_mut <- RunPCA(seu_intd_wt_mut, npcs = 100, verbose = FALSE, approx = FALSE)\n",
    "#From RunPCA doc: Features to compute PCA on. If features=NULL, PCA will be run using the variable features for the Assay. \n",
    "#Note that the features must be present in the scaled data. Any requested features that are not scaled or have 0 variance \n",
    "#will be dropped, and the PCA will be run using the remaining features.\n",
    "\n",
    "#previously run 20 PCs as of 2/14/22\n",
    "seu_intd_wt_mut <- FindNeighbors(seu_intd_wt_mut, dims = 1:20, verbose = FALSE)\n",
    "seu_intd_wt_mut <- FindClusters(seu_intd_wt_mut, resolution = resolution, algorithm = 3, verbose = FALSE)\n",
    "seu_intd_wt_mut <- RunUMAP(seu_intd_wt_mut, reduction = \"pca\", dims = 1:20, verbose = FALSE)"
   ]
  },
  {
   "cell_type": "code",
   "execution_count": null,
   "metadata": {},
   "outputs": [],
   "source": [
    "options(repr.plot.width= 20, repr.plot.height=10)\n",
    "DimPlot(seu_intd_wt_mut, reduction = \"umap\", label = TRUE, pt.size = 2, split.by = \"geno\")"
   ]
  },
  {
   "cell_type": "code",
   "execution_count": null,
   "metadata": {},
   "outputs": [],
   "source": [
    "#seu_intd_wt = subset(seu_intd_wt_mut, subset = geno == \"WT\")\n",
    "seu_intd_wt = seu_intd_wt_mut"
   ]
  },
  {
   "cell_type": "code",
   "execution_count": null,
   "metadata": {},
   "outputs": [],
   "source": [
    "known.good.markers <- read.csv(\"../data/cell_type_markers/markers.csv\", header = F)\n",
    "colnames(known.good.markers) = c(\"Name\", \"Locus\", \"Celltype\")\n",
    "known.good.markers <- known.good.markers[known.good.markers$Locus %in% rownames(seu_intd_wt@assays$RNA),]\n",
    "known.good.markers$Celltype <- gsub(\"abscission_zone\", \"Abscission Zone\", known.good.markers$Celltype, ignore.case = FALSE, perl = FALSE,fixed = T, useBytes = FALSE);\n",
    "known.good.markers$Celltype <- gsub(\"companion_cells\", \"Companion Cells\", known.good.markers$Celltype, ignore.case = FALSE, perl = FALSE,fixed = T, useBytes = FALSE);\n",
    "known.good.markers$Celltype <- gsub(\"xylem\", \"Xylem\", known.good.markers$Celltype, ignore.case = FALSE, perl = FALSE,fixed = T, useBytes = FALSE);\n",
    "known.good.markers$Celltype <- gsub(\"phloem\", \"Phloem\", known.good.markers$Celltype, ignore.case = FALSE, perl = FALSE,fixed = T, useBytes = FALSE);\n",
    "known.good.markers$Celltype <- gsub(\"vascular_subtype_1\", \"Vascular Subtype\", known.good.markers$Celltype, ignore.case = FALSE, perl = FALSE,fixed = T, useBytes = FALSE);\n",
    "known.good.markers$Celltype <- gsub(\"epidermis\", \"Epidermis\", known.good.markers$Celltype, ignore.case = FALSE, perl = FALSE,fixed = T, useBytes = FALSE);\n",
    "known.good.markers$Celltype <- gsub(\"sieve_element\", \"Sieve Element\", known.good.markers$Celltype, ignore.case = FALSE, perl = FALSE,fixed = T, useBytes = FALSE);\n",
    "known.good.markers$Celltype <- gsub(\"tracheary_element\", \"Tracheary Element\", known.good.markers$Celltype, ignore.case = FALSE, perl = FALSE,fixed = T, useBytes = FALSE);\n",
    "known.good.markers$Celltype <- gsub(\"mesophyll\", \"Mesophyll\", known.good.markers$Celltype, ignore.case = FALSE, perl = FALSE,fixed = T, useBytes = FALSE);\n",
    "known.good.markers$Celltype <- gsub(\"guard_cells\", \"Guard Cells\", known.good.markers$Celltype, ignore.case = FALSE, perl = FALSE,fixed = T, useBytes = FALSE);"
   ]
  },
  {
   "cell_type": "code",
   "execution_count": null,
   "metadata": {},
   "outputs": [],
   "source": [
    "known.good.markers = known.good.markers[!known.good.markers$Name %in% c(\"IDA\", \"PGAZAT\", \"HSL2\", \"HAESA\"),]\n",
    "known.good.markers"
   ]
  },
  {
   "cell_type": "code",
   "execution_count": null,
   "metadata": {},
   "outputs": [],
   "source": [
    "AZ_new = c(\"AT3G44550\", \"AT3G59850\", \"AT5G03820\", \"AT1G68320\")\n",
    "AZ_new_names = c(\"FAR5\", \"PLL\", \"GDSL\",\"MYB62\")\n",
    "AZ_new_df = data.frame(matrix(ncol = 3, nrow = 4))\n",
    "colnames(AZ_new_df) = c(\"Name\", \"Locus\", \"Celltype\")\n",
    "AZ_new_df$Locus = AZ_new\n",
    "AZ_new_df$Celltype= \"Abscission Zone\"\n",
    "AZ_new_df$Name = AZ_new_names\n",
    "known.good.markers = rbind(known.good.markers, AZ_new_df)"
   ]
  },
  {
   "cell_type": "code",
   "execution_count": null,
   "metadata": {},
   "outputs": [],
   "source": [
    "known.good.markers\n"
   ]
  },
  {
   "cell_type": "code",
   "execution_count": null,
   "metadata": {},
   "outputs": [],
   "source": [
    "#MAY NOT NEED THIS CELL\n",
    "\n",
    "DefaultAssay(seu_intd_wt) = \"SCT\"\n",
    "options(repr.plot.width=8, repr.plot.height=8)\n",
    "\n",
    "for (g in as.character(known.good.markers$Locus)) {\n",
    "    plot = (FeaturePlot(seu_intd_wt, feature = g, pt.size = 4, order = TRUE, min =.50))\n",
    "    ggsave(file=paste0(\"../data/for_figures/gene_plots/figure_2_pngs/celltype_plots/\", g, \"_\", known.good.markers[known.good.markers$Locus == g,]$Celltype  ,\".png\"), plot=plot, width=10, height=10)\n",
    "\n",
    "}"
   ]
  },
  {
   "cell_type": "code",
   "execution_count": null,
   "metadata": {},
   "outputs": [],
   "source": [
    "#MAY NOT NEED THIS CELL\n",
    "\n",
    "DefaultAssay(seu_intd_wt) = \"SCT\"\n",
    "g = \"AT3G01420\"\n",
    "plot = (FeaturePlot(seu_intd_wt, feature = g, pt.size = 4, order = TRUE, min =.50))\n",
    "options(repr.plot.width=8, repr.plot.height=8)\n",
    "ggsave(file=paste0(\"../data/for_figures/gene_plots/figure_2_pngs/celltype_plots/\", g, \"_silique\"  ,\".png\"), plot=plot, width=10, height=10)\n",
    "print(plot)"
   ]
  },
  {
   "cell_type": "code",
   "execution_count": null,
   "metadata": {},
   "outputs": [],
   "source": [
    "resolution = 2\n",
    "set.seed(42)\n",
    "DefaultAssay(seu_intd_wt) <- \"integrated\"\n",
    "options(repr.plot.width=12, repr.plot.height=12)\n",
    "# Run the standard workflow for visualization and clustering\n",
    "#all_intd_sct <- ScaleData(all_intd_sct, verbose = FALSE)\n",
    "seu_intd_wt <- RunPCA(seu_intd_wt, npcs = 100, verbose = FALSE, approx = FALSE)\n",
    "#From RunPCA doc: Features to compute PCA on. If features=NULL, PCA will be run using the variable features for the Assay. \n",
    "#Note that the features must be present in the scaled data. Any requested features that are not scaled or have 0 variance \n",
    "#will be dropped, and the PCA will be run using the remaining features.\n",
    "\n",
    "#previously run 20 PCs as of 2/14/22\n",
    "seu_intd_wt <- FindNeighbors(seu_intd_wt, dims = 1:20, verbose = FALSE)\n",
    "seu_intd_wt <- FindClusters(seu_intd_wt, resolution = resolution, algorithm = 3, verbose = FALSE)\n",
    "seu_intd_wt <- RunUMAP(seu_intd_wt, reduction = \"pca\", dims = 1:20, verbose = FALSE)"
   ]
  },
  {
   "cell_type": "code",
   "execution_count": null,
   "metadata": {},
   "outputs": [],
   "source": [
    "zscore <- function(x){(x-mean(x))/sd(x)}\n",
    "\n",
    "msc <- c()\n",
    "for (i in as.character(unique(known.good.markers$Celltype))){\n",
    "    if (length(known.good.markers[which(known.good.markers$Celltype== i),]$Locus)>1){\n",
    "    msc <- cbind(msc, as.numeric(apply(apply(seu_intd_wt@assays$SCT@data[known.good.markers[which(known.good.markers$Celltype== i),]$Locus,], 1, zscore), 1, mean)))       \n",
    "    } else {\n",
    "    msc <- cbind(msc, as.numeric(zscore(seu_intd_wt@assays$SCT@data[known.good.markers[which(known.good.markers$Celltype== i),]$Locus,])))      \n",
    "    }\n",
    "\n",
    "}\n",
    "colnames(msc) <- as.character(unique(known.good.markers$Celltype))\n",
    "rownames(msc) <- colnames(seu_intd_wt)"
   ]
  },
  {
   "cell_type": "code",
   "execution_count": null,
   "metadata": {},
   "outputs": [],
   "source": [
    "DefaultAssay(seu_intd_wt) <- \"integrated\"\n",
    "suppressMessages(suppressWarnings(\n",
    "  seu_intd_wt <- FindClusters(seu_intd_wt, resolution = 2, algorithm = 3)\n",
    "))"
   ]
  },
  {
   "cell_type": "code",
   "execution_count": null,
   "metadata": {},
   "outputs": [],
   "source": [
    "anno <- seu_intd_wt$seurat_clusters\n",
    "for (i in unique(seu_intd_wt$seurat_clusters)){\n",
    "    if (max(apply(msc[which(seu_intd_wt$seurat_clusters==i),],2,mean))>0){\n",
    "        ct <- names(which.max(apply(msc[which(seu_intd_wt$seurat_clusters==i),],2,mean)))\n",
    "    } else {\n",
    "        ct <- \"NA\"\n",
    "    }\n",
    "        anno <- gsub(paste0(\"^\",i,\"$\"), ct, anno, ignore.case = FALSE, perl = FALSE,fixed = FALSE, useBytes = FALSE)\n",
    "}\n"
   ]
  },
  {
   "cell_type": "code",
   "execution_count": null,
   "metadata": {},
   "outputs": [],
   "source": [
    "seu_intd_wt$score.crude.anno <- anno"
   ]
  },
  {
   "cell_type": "code",
   "execution_count": null,
   "metadata": {},
   "outputs": [],
   "source": [
    "# Plot marker annotation\n",
    "order <- c(\"Abscission Zone\", \"Base of Sepals/Petals\",\"Columella\", \"Lateral Root Cap\", \"Atrichoblast\", \"Epidermis\", \"Mesophyll\", \"Guard Cells\", \"Phloem\",\"Sieve Element\", \"Xylem\", \"Vascular Subtype\",\"Companion Cells\",\"Phloem Pole Pericycle\", \"Protoxylem\", \"Tracheary Element\", \"Unknown\")\n",
    "palette <- c(\"#9400d3\", \"#DCD0FF\",\"#5ab953\", \"#bfef45\", \"#008080\", \"#21B6A8\", \"#82b6ff\", \"#0000FF\",\"#e6194b\", \"#dd77ec\", \"#9a6324\", \"#ffe119\", \"#ff9900\", \"#ffd4e3\", \"#9a6324\", \"#ddaa6f\", \"#EEEEEE\")\n",
    "seu_intd_wt$score.crude.anno <- factor(seu_intd_wt$score.crude.anno , levels = order[sort(match(unique(seu_intd_wt$score.crude.anno),order))]) \n",
    "color <- palette[sort(match(unique(seu_intd_wt$score.crude.anno),order))]\n",
    "options(repr.plot.width=20, repr.plot.height=10)\n",
    "DimPlot(seu_intd_wt, reduction = \"umap\", group.by = \"score.crude.anno\", split.by = \"geno\", cols = color)+ggtitle(\"Z-Score Annotation Crude\")"
   ]
  },
  {
   "cell_type": "code",
   "execution_count": null,
   "metadata": {},
   "outputs": [],
   "source": [
    "# Find clusters, here we choose Leiden clustering algorithm with resolution 0.5. Parameter \"algorithm\": 1 = original Louvain algorithm; 2 = Louvain algorithm with multilevel refinement; 3 = SLM algorithm; 4 = Leiden algorithm\n",
    "DefaultAssay(seu_intd_wt) <- \"integrated\"\n",
    "suppressMessages(suppressWarnings(\n",
    "  seu_intd_wt <- FindClusters(seu_intd_wt, resolution = 200, algorithm = 3)\n",
    "))"
   ]
  },
  {
   "cell_type": "code",
   "execution_count": null,
   "metadata": {},
   "outputs": [],
   "source": [
    "anno <- seu_intd_wt$seurat_clusters\n",
    "for (i in unique(seu_intd_wt$seurat_clusters)){\n",
    "    if (max(apply(msc[which(seu_intd_wt$seurat_clusters==i),],2,mean))>0){\n",
    "        ct <- names(which.max(apply(msc[which(seu_intd_wt$seurat_clusters==i),],2,mean)))\n",
    "    } else {\n",
    "        ct <- \"NA\"\n",
    "    }\n",
    "        anno <- gsub(paste0(\"^\",i,\"$\"), ct, anno, ignore.case = FALSE, perl = FALSE,fixed = FALSE, useBytes = FALSE)\n",
    "}\n",
    "\n",
    "seu_intd_wt$score.anno <- anno\n",
    "# Plot marker annotation\n",
    "order <- c(\"Abscission Zone\", \"Base of Sepals/Petals\",\"Columella\", \"Lateral Root Cap\", \"Atrichoblast\", \"Epidermis\", \"Mesophyll\", \"Guard Cells\", \"Phloem\",\"Sieve Element\", \"Xylem\", \"Vascular Subtype\",\"Companion Cells\",\"Phloem Pole Pericycle\", \"Protoxylem\", \"Tracheary Element\", \"Unknown\")\n",
    "palette <- c(\"#9400d3\", \"#DCD0FF\",\"#5ab953\", \"#bfef45\", \"#008080\", \"#21B6A8\", \"#82b6ff\", \"#0000FF\",\"#e6194b\", \"#dd77ec\", \"#9a6324\", \"#ffe119\", \"#ff9900\", \"#ffd4e3\", \"#9a6324\", \"#ddaa6f\", \"#EEEEEE\")\n",
    "\n",
    "seu_intd_wt$score.anno <- factor(seu_intd_wt$score.anno , levels = order[sort(match(unique(seu_intd_wt$score.anno),order))]) \n",
    "#color <- palette[sort(match(unique(seu_intd_wt$score.anno),order))]\n",
    "#options(repr.plot.width=12, repr.plot.height=10)\n",
    "#DimPlot(seu_intd_wt, reduction = \"umap\", group.by = \"score.anno\", cols = color)+ggtitle(\"Z-Score Annotation\")"
   ]
  },
  {
   "cell_type": "code",
   "execution_count": null,
   "metadata": {},
   "outputs": [],
   "source": [
    "#Consensus Annotation\n",
    "dat <- data.frame(seu_intd_wt$score.anno, seu_intd_wt$score.crude.anno)\n",
    "seu_intd_wt$consensus.anno <- apply(dat,1,function(x){if (is.na(x[1])){\"Unknown\"} else if (is.na(x[2])){\"Unknown\"} else if (x[1]==x[2]){x[1]} else {\"Unknown\"}})\n",
    "#seu_intd_wt$consensus.anno <- apply(dat,1,function(x){if(x[1]==x[2]){x[1]}else if(x[1]==\"Trichoblast\" & x[2]==\"Atrichoblast\"){\"Trichoblast\"}\n",
    "#    else if(x[1]==\"Late Metaxylem\" & x[2]==\"Phloem\"){\"Late Metaxylem\"}else if(x[1]==\"Cortex\" & x[2]==\"Sclerenchyma\"){\"Cortex\"}\n",
    "#        else if(x[1]==\"Exodermis\" & x[2]==\"Sclerenchyma\"){\"Exodermis\"}else if(x[1]==\"Exodermis\" & x[2]==\"Endodermis\"){\"Exodermis\"}\n",
    "#            else if(x[1]==\"Cortex\" & x[2]==\"Endodermis\"){\"Cortex\"}else if(x[1]==\"Pericycle\" & x[2]==\"Endodermis\"){\"Pericycle\"}else if(x[1]==\"Phloem\" & x[2]==\"Endodermis\"){\"Phloem\"}\n",
    "#                    else if(x[1]==\"Late Metaxylem\" & x[2]==\"Endodermis\"){\"Late Metaxylem\"}else if(x[3]==\"Maturation1\"|x[3]==\"Maturation2\"){x[2]}else {\"Unknown\"}})\n",
    "order <- c(\"Abscission Zone\", \"Base of Sepals/Petals\",\"Columella\", \"Lateral Root Cap\", \"Atrichoblast\", \"Epidermis\", \"Mesophyll\", \"Guard Cells\", \"Phloem\",\"Sieve Element\", \"Xylem\", \"Vascular Subtype\",\"Companion Cells\",\"Phloem Pole Pericycle\", \"Protoxylem\", \"Tracheary Element\", \"Unknown\")\n",
    "palette <- c(\"#9400d3\", \"#DCD0FF\",\"#5ab953\", \"#bfef45\", \"#008080\", \"#21B6A8\", \"#82b6ff\", \"#0000FF\",\"#e6194b\", \"#dd77ec\", \"#9a6324\", \"#ffe119\", \"#ff9900\", \"#ffd4e3\", \"#9a6324\", \"#ddaa6f\", \"#EEEEEE\")\n",
    "seu_intd_wt$consensus.anno <- factor(seu_intd_wt$consensus.anno , levels = order[sort(match(unique(seu_intd_wt$consensus.anno),order))]) \n",
    "color <- palette[sort(match(unique(seu_intd_wt$consensus.anno),order))]\n",
    "options(repr.plot.width=10, repr.plot.height=10)\n",
    "DimPlot(seu_intd_wt, reduction = \"umap\", group.by = \"consensus.anno\", pt.size = 3, cols = color)+ggtitle(\"consensus.anno\")\n",
    "\n",
    "seu_intd_wt$celltype.consensus.anno <- seu_intd_wt$consensus.anno"
   ]
  },
  {
   "cell_type": "code",
   "execution_count": null,
   "metadata": {},
   "outputs": [],
   "source": [
    "options(repr.plot.width=20, repr.plot.height=10)\n",
    "DimPlot(seu_intd_wt, reduction = \"umap\", group.by = \"consensus.anno\", pt.size = 3, split.by = \"geno\",cols = color)+ggtitle(\"consensus.anno\")\n",
    "\n",
    "seu_intd_wt$celltype.consensus.anno <- seu_intd_wt$consensus.anno"
   ]
  },
  {
   "cell_type": "code",
   "execution_count": null,
   "metadata": {},
   "outputs": [],
   "source": [
    "color <- palette[sort(match( c(\"Mesophyll\", \"Phloem\", \"Xylem\", \"Guard Cells\", \"Companion Cells\", \"Epidermis\", \"Abscission Zone\", \"Unknown\"), order))]\n",
    "seu_intd_wt@meta.data[seu_intd_wt@meta.data$consensus.anno == \"Sieve Element\",]$consensus.anno = \"Unknown\"\n",
    "seu_intd_wt@meta.data[seu_intd_wt@meta.data$consensus.anno == \"Tracheary Element\",]$consensus.anno = \"Unknown\"\n",
    "seu_intd_wt@meta.data[seu_intd_wt@meta.data$consensus.anno == \"Vascular Subtype\",]$consensus.anno = \"Unknown\"\n"
   ]
  },
  {
   "cell_type": "code",
   "execution_count": null,
   "metadata": {},
   "outputs": [],
   "source": [
    "#c(\"#9400d3\", ,\"#5ab953\", , , \"#21B6A8\", \"#0000FF\",, \"#dd77ec\", \"#9a6324\", \"#ffe119\", \"#ff9900\", \"#ffd4e3\", \"#9a6324\", \"#ddaa6f\", \"#EEEEEE\")\n",
    "options(repr.plot.width= 20, repr.plot.height=10)\n",
    "palette <- c(\"#EEEEEE\", \"#dd77ec\", \"#42f5ef\", \"#f542ef\", \"#ff9900\", \"#42f548\", \"#0000FF\", \"#f56642\")\n",
    "plot = DimPlot(seu_intd_wt, reduction = \"umap\", group.by = \"consensus.anno\",  split.by = \"geno\", order = c(\"Mesophyll\", \"Phloem\", \"Xylem\", \"Guard Cells\", \"Companion Cells\", \"Epidermis\", \"Abscission Zone\", \"Unknown\"), pt.size = 4, cols =palette)+ggtitle(\"consensus.anno\")\n",
    "ggsave(file=paste0(\"../data/for_figures/gene_plots/figure_2_pngs/celltype_plots/celltype_UMAP.png\"), plot=plot, width=20, height=10)\n",
    "print(plot)"
   ]
  }
 ],
 "metadata": {
  "kernelspec": {
   "display_name": "R",
   "language": "R",
   "name": "ir"
  },
  "language_info": {
   "codemirror_mode": "r",
   "file_extension": ".r",
   "mimetype": "text/x-r-source",
   "name": "R",
   "pygments_lexer": "r",
   "version": "3.6.3"
  }
 },
 "nbformat": 4,
 "nbformat_minor": 4
}
