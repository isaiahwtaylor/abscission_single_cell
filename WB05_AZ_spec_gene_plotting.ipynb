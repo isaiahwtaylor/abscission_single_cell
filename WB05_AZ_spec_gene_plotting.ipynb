{
 "cells": [
  {
   "cell_type": "raw",
   "metadata": {},
   "source": [
    "-Override AZ annotation (for AZ cells in CWs annotation not in mine, call NA)\n",
    "-make pseudo-bulk?\n",
    "-or possibly just directly make dot plot with 3 or so marker genes for each (maybe more for AZ, HAE/HSL2? IDA? Some PGs)\n",
    "\n",
    "See dotplot example here:\n",
    "https://satijalab.org/seurat/articles/visualization_vignette.html\n",
    "\n",
    "Also checkout CWs dotplot for Dev Cell paper"
   ]
  }
 ],
 "metadata": {
  "kernelspec": {
   "display_name": "R",
   "language": "R",
   "name": "ir"
  },
  "language_info": {
   "codemirror_mode": "r",
   "file_extension": ".r",
   "mimetype": "text/x-r-source",
   "name": "R",
   "pygments_lexer": "r",
   "version": "3.6.3"
  }
 },
 "nbformat": 4,
 "nbformat_minor": 4
}
