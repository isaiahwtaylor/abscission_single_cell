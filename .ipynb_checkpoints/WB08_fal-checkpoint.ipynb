{
 "cells": [
  {
   "cell_type": "code",
   "execution_count": 1,
   "metadata": {},
   "outputs": [
    {
     "name": "stderr",
     "output_type": "stream",
     "text": [
      "here() starts at /home/robotmessenger810/sc_analysis/code\n",
      "\n",
      "\n",
      "Attaching package: ‘gplots’\n",
      "\n",
      "\n",
      "The following object is masked from ‘package:stats’:\n",
      "\n",
      "    lowess\n",
      "\n",
      "\n"
     ]
    }
   ],
   "source": [
    "#THIS SCRIPT PLOTS A HEATMAP OF BULK RNA-SEQ GENE EXPRESSION VALUES FOR WT, MUTANT, AND THE FAL SUPPRESSORS USING THE LIST OF GENES GENERATED FROM SCRIPT 6\n",
    "\n",
    "library(limma)\n",
    "library(edgeR)\n",
    "library(here)\n",
    "library(ggplot2)\n",
    "library(gplots)\n",
    "source(here(\"R_functions\",\"edgeR_function.R\"))\n",
    "annotations = read.csv(\"R_functions/gene_descriptions.csv\", header = F)\n",
    "colnames(annotations) = c(\"gene_id\", \"description\")\n",
    "annotations$gene_id = substr(annotations$gene_id, 1, 9)\n",
    "\n",
    "library(pheatmap)"
   ]
  },
  {
   "cell_type": "code",
   "execution_count": 2,
   "metadata": {},
   "outputs": [
    {
     "data": {
      "text/plain": [
       "R version 3.6.3 (2020-02-29)\n",
       "Platform: x86_64-conda_cos6-linux-gnu (64-bit)\n",
       "Running under: Ubuntu 20.04.2 LTS\n",
       "\n",
       "Matrix products: default\n",
       "BLAS/LAPACK: /home/robotmessenger810/anaconda3/envs/r_3/lib/libopenblasp-r0.3.9.so\n",
       "\n",
       "locale:\n",
       " [1] LC_CTYPE=en_US.UTF-8       LC_NUMERIC=C              \n",
       " [3] LC_TIME=en_US.UTF-8        LC_COLLATE=en_US.UTF-8    \n",
       " [5] LC_MONETARY=en_US.UTF-8    LC_MESSAGES=en_US.UTF-8   \n",
       " [7] LC_PAPER=en_US.UTF-8       LC_NAME=C                 \n",
       " [9] LC_ADDRESS=C               LC_TELEPHONE=C            \n",
       "[11] LC_MEASUREMENT=en_US.UTF-8 LC_IDENTIFICATION=C       \n",
       "\n",
       "attached base packages:\n",
       "[1] stats     graphics  grDevices utils     datasets  methods   base     \n",
       "\n",
       "other attached packages:\n",
       "[1] pheatmap_1.0.12 gplots_3.1.1    ggplot2_3.3.5   here_0.1       \n",
       "[5] edgeR_3.28.1    limma_3.42.2   \n",
       "\n",
       "loaded via a namespace (and not attached):\n",
       " [1] Rcpp_1.0.7         RColorBrewer_1.1-2 pillar_1.6.4       compiler_3.6.3    \n",
       " [5] bitops_1.0-7       base64enc_0.1-3    tools_3.6.3        digest_0.6.29     \n",
       " [9] uuid_0.1-4         jsonlite_1.7.2     evaluate_0.14      lifecycle_1.0.1   \n",
       "[13] tibble_3.1.6       gtable_0.3.0       lattice_0.20-45    pkgconfig_2.0.3   \n",
       "[17] rlang_0.4.12       DBI_1.1.2          IRdisplay_0.7.0    IRkernel_1.1      \n",
       "[21] withr_2.4.3        repr_1.1.0         dplyr_1.0.7        caTools_1.18.0    \n",
       "[25] gtools_3.9.2       generics_0.1.1     vctrs_0.3.8        tidyselect_1.1.1  \n",
       "[29] locfit_1.5-9.4     rprojroot_2.0.2    grid_3.6.3         glue_1.6.0        \n",
       "[33] R6_2.5.1           fansi_0.5.0        pbdZMQ_0.3-6       purrr_0.3.4       \n",
       "[37] magrittr_2.0.1     scales_1.1.1       ellipsis_0.3.2     htmltools_0.5.0   \n",
       "[41] colorspace_2.0-2   KernSmooth_2.23-20 utf8_1.2.2         munsell_0.5.0     \n",
       "[45] crayon_1.4.2      "
      ]
     },
     "metadata": {},
     "output_type": "display_data"
    }
   ],
   "source": [
    "sessionInfo()"
   ]
  },
  {
   "cell_type": "code",
   "execution_count": null,
   "metadata": {},
   "outputs": [],
   "source": [
    "#bulk_pb_intersection\n",
    "bulk_pb_intersection = read.csv(\"../data/pseudo_bulk_data/pb_bulk_sig_intersect_WT_up.csv\")"
   ]
  },
  {
   "cell_type": "code",
   "execution_count": null,
   "metadata": {},
   "outputs": [],
   "source": [
    "#bulk samples\n",
    "bulk = counts_to_reads_df(\"../data/bulk_data/Col_h3h3_fals\")"
   ]
  },
  {
   "cell_type": "code",
   "execution_count": 3,
   "metadata": {},
   "outputs": [],
   "source": [
    "colnames(bulk) = c(\"Col_1\",\"fal7_1\",\"Col_2\",\"fal7_2\",\"Col_3\",\"fal7_3\",\"Col_4\",\"fal7_4\",\"h3h3_1\",\"fal3_1\",\"h3h3_2\",\"fal3_2\", \"h3h3_3\",\"fal3_3\",\"h3h3_4\",\"fal3_4\")"
   ]
  },
  {
   "cell_type": "code",
   "execution_count": null,
   "metadata": {},
   "outputs": [],
   "source": [
    "#remove poor h3h3 sample\n",
    "bulk2 = bulk[,-13]\n",
    "head(bulk2)"
   ]
  },
  {
   "cell_type": "code",
   "execution_count": null,
   "metadata": {},
   "outputs": [],
   "source": [
    "#make DGElist\n",
    "x3 <- DGEList(counts = bulk2, genes = rownames(bulk2))\n",
    "\n",
    "\n",
    "#reads per library uniquely mapped to a gene:\n",
    "\n",
    "#make cpm and lcpm\n",
    "cpm <- cpm(x3)\n",
    "lcpm <- cpm(x3, log=TRUE)\n",
    "\n",
    "#keep only genes that are expressed. \"Expressed\" here means counts observed in at least 3 samples\n",
    "dim(x3)\n",
    "keep.exprs <- rowMeans(cpm)>=.5\n",
    "x3 <- x3[keep.exprs,, keep.lib.sizes=FALSE]\n",
    "dim(x3) #compare to dim(x) above\n",
    "\n",
    "#normalize data after removing low expressed genes\n",
    "x3 <- calcNormFactors(x3)\n",
    "\n",
    "#cpm, lcpm of normalized values\n",
    "cpm <- cpm(x3)\n",
    "lcpm <- cpm(x3, log=TRUE)\n",
    "\n",
    "de_sub = lcpm[rownames(lcpm) %in% unlist(bulk_pb_intersection$x),]"
   ]
  },
  {
   "cell_type": "code",
   "execution_count": null,
   "metadata": {},
   "outputs": [],
   "source": [
    "head(cpm)\n",
    "write.csv(cpm, \"../data/bulk_data/fal.csv\")"
   ]
  },
  {
   "cell_type": "code",
   "execution_count": null,
   "metadata": {},
   "outputs": [],
   "source": [
    "\n",
    "de_sub_av = cbind(rowMeans(de_sub[,c(1,3,5,7)]), rowMeans(de_sub[,c(9,11,14)]), rowMeans(de_sub[,c(2,4,6,8)]), rowMeans(de_sub[,c(10,12,13, 15)]))"
   ]
  },
  {
   "cell_type": "code",
   "execution_count": null,
   "metadata": {},
   "outputs": [],
   "source": [
    "colnames(de_sub_av) = c(\"wt\", \"h3h3\", \"fal7\", \"fal3\")"
   ]
  },
  {
   "cell_type": "code",
   "execution_count": null,
   "metadata": {},
   "outputs": [],
   "source": [
    "de_sub_av = de_sub_av[,c(1,2,4,3)]\n",
    "fals = de_sub_av"
   ]
  },
  {
   "cell_type": "code",
   "execution_count": null,
   "metadata": {},
   "outputs": [],
   "source": [
    "dim(de_sub)"
   ]
  },
  {
   "cell_type": "code",
   "execution_count": null,
   "metadata": {},
   "outputs": [],
   "source": [
    "#only WT up genes\n",
    "mat = de_sub_av-rowMeans(de_sub_av[,(c(1,2))])\n",
    "hmp = heatmap(mat, Rowv=NA, Colv=NA)\n",
    "mat = mat[rev(hmp$rowInd),]\n",
    "hmp = heatmap(mat, Rowv=NA, Colv=NA)"
   ]
  },
  {
   "cell_type": "code",
   "execution_count": null,
   "metadata": {},
   "outputs": [],
   "source": [
    "pheatmap(mat,  cluster_rows=FALSE, cluster_cols=FALSE)"
   ]
  },
  {
   "cell_type": "code",
   "execution_count": null,
   "metadata": {},
   "outputs": [],
   "source": [
    "for_plot = data.frame(matrix(ncol = 2, nrow = length(colSums(de_sub))))\n",
    "colnames(for_plot) = c(\"genotype\", \"value\")\n",
    "for_plot$value= colSums(de_sub)\n",
    "for_plot$genotype = substr(names(colSums(de_sub)),1,4)\n",
    "for_plot\n",
    "ggplot(data = for_plot, aes(x=genotype, y = value)) +geom_point()"
   ]
  }
 ],
 "metadata": {
  "kernelspec": {
   "display_name": "R",
   "language": "R",
   "name": "ir"
  },
  "language_info": {
   "codemirror_mode": "r",
   "file_extension": ".r",
   "mimetype": "text/x-r-source",
   "name": "R",
   "pygments_lexer": "r",
   "version": "3.6.3"
  }
 },
 "nbformat": 4,
 "nbformat_minor": 4
}
