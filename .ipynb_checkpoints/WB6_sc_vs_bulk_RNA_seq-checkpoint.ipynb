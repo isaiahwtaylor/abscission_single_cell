{
 "cells": [
  {
   "cell_type": "markdown",
   "metadata": {},
   "source": [
    "Compare DE genes between this dataset and 4 wt vs 4 h3h3 bulk (2 from each of 2 prior studies)"
   ]
  },
  {
   "cell_type": "code",
   "execution_count": 59,
   "metadata": {},
   "outputs": [],
   "source": [
    "library(edgeR)\n",
    "library(here)\n",
    "source(here(\"R_functions\",\"edgeR_function.R\"))\n",
    "\n",
    "annotations = read.csv(\"R_functions/gene_descriptions.csv\", header = F)\n",
    "colnames(annotations) = c(\"gene_id\", \"description\")\n",
    "annotations$gene_id = substr(annotations$gene_id, 1, 9)"
   ]
  },
  {
   "cell_type": "code",
   "execution_count": 72,
   "metadata": {},
   "outputs": [
    {
     "name": "stdout",
     "output_type": "stream",
     "text": [
      "[1] \"Col_1.tsv\"\n",
      "[1] \"Col_2.tsv\"\n",
      "[1] \"Col_4.tsv\"\n",
      "[1] \"Col_5.tsv\"\n",
      "[1] \"h3h3_1.tsv\"\n",
      "[1] \"h3h3_2.tsv\"\n",
      "[1] \"h3h3_4.tsv\"\n",
      "[1] \"h3h3_5.tsv\"\n"
     ]
    }
   ],
   "source": [
    "bulk = counts_to_reads_df(\"/home/robotmessenger810/sc_analysis/data/bulk_data/Col_v_h3h3_bulk_counts_4_downsampled\"  )\n",
    "#remove no_feature, ambiguous, etc reads\n",
    "bulk = bulk[1:(dim(bulk)[1]-5),]"
   ]
  },
  {
   "cell_type": "code",
   "execution_count": 74,
   "metadata": {},
   "outputs": [],
   "source": [
    "bulk_edger_1 =  edgeR_2_sample(bulk, \"WT\", \"mut\", c(1,2,3,4), c(5,6,7,8), annotations)\n",
    "bulk_edger_2 = edgeR_2_sample_other_factors(bulk, \"WT\", \"mut\", c(1,2,3,4), c(5,6,7,8), annotations)"
   ]
  },
  {
   "cell_type": "code",
   "execution_count": 75,
   "metadata": {},
   "outputs": [
    {
     "data": {
      "text/html": [
       "<style>\n",
       ".list-inline {list-style: none; margin:0; padding: 0}\n",
       ".list-inline>li {display: inline-block}\n",
       ".list-inline>li:not(:last-child)::after {content: \"\\00b7\"; padding: 0 .5ex}\n",
       "</style>\n",
       "<ol class=list-inline><li>162</li><li>16</li></ol>\n"
      ],
      "text/latex": [
       "\\begin{enumerate*}\n",
       "\\item 162\n",
       "\\item 16\n",
       "\\end{enumerate*}\n"
      ],
      "text/markdown": [
       "1. 162\n",
       "2. 16\n",
       "\n",
       "\n"
      ],
      "text/plain": [
       "[1] 162  16"
      ]
     },
     "metadata": {},
     "output_type": "display_data"
    }
   ],
   "source": [
    "dim(bulk_edger_1[bulk_edger_1$FDR < .05 & bulk_edger_1$logFC>1 , 1:16])"
   ]
  },
  {
   "cell_type": "code",
   "execution_count": 54,
   "metadata": {},
   "outputs": [
    {
     "data": {
      "text/html": [
       "<style>\n",
       ".list-inline {list-style: none; margin:0; padding: 0}\n",
       ".list-inline>li {display: inline-block}\n",
       ".list-inline>li:not(:last-child)::after {content: \"\\00b7\"; padding: 0 .5ex}\n",
       "</style>\n",
       "<ol class=list-inline><li>162</li><li>16</li></ol>\n"
      ],
      "text/latex": [
       "\\begin{enumerate*}\n",
       "\\item 162\n",
       "\\item 16\n",
       "\\end{enumerate*}\n"
      ],
      "text/markdown": [
       "1. 162\n",
       "2. 16\n",
       "\n",
       "\n"
      ],
      "text/plain": [
       "[1] 162  16"
      ]
     },
     "metadata": {},
     "output_type": "display_data"
    }
   ],
   "source": [
    "dim(bulk_edger_2[bulk_edger_1$FDR < .05 & bulk_edger_1$logFC>1 , 1:16])"
   ]
  },
  {
   "cell_type": "code",
   "execution_count": 76,
   "metadata": {},
   "outputs": [
    {
     "data": {
      "text/html": [
       "<table>\n",
       "<caption>A data.frame: 6 × 16</caption>\n",
       "<thead>\n",
       "\t<tr><th></th><th scope=col>genes</th><th scope=col>logFC</th><th scope=col>logCPM</th><th scope=col>F</th><th scope=col>PValue</th><th scope=col>FDR</th><th scope=col>WT</th><th scope=col>mut</th><th scope=col>V1</th><th scope=col>V2</th><th scope=col>V3</th><th scope=col>V4</th><th scope=col>V5</th><th scope=col>V6</th><th scope=col>V7</th><th scope=col>V8</th></tr>\n",
       "\t<tr><th></th><th scope=col>&lt;chr&gt;</th><th scope=col>&lt;dbl&gt;</th><th scope=col>&lt;dbl&gt;</th><th scope=col>&lt;dbl&gt;</th><th scope=col>&lt;dbl&gt;</th><th scope=col>&lt;dbl&gt;</th><th scope=col>&lt;dbl&gt;</th><th scope=col>&lt;dbl&gt;</th><th scope=col>&lt;dbl&gt;</th><th scope=col>&lt;dbl&gt;</th><th scope=col>&lt;dbl&gt;</th><th scope=col>&lt;dbl&gt;</th><th scope=col>&lt;dbl&gt;</th><th scope=col>&lt;dbl&gt;</th><th scope=col>&lt;dbl&gt;</th><th scope=col>&lt;dbl&gt;</th></tr>\n",
       "</thead>\n",
       "<tbody>\n",
       "\t<tr><th scope=row>1</th><td>AT1G01010</td><td>-0.02252876</td><td> 2.69560042</td><td>0.011561953</td><td>0.9168760</td><td>0.9998432</td><td> 6.3820231</td><td> 6.4832491</td><td> 5.0939507</td><td> 4.9356668</td><td> 9.2821920</td><td> 6.2162830</td><td> 5.9838210</td><td> 5.8321473</td><td>  7.6668752</td><td>  6.4501528</td></tr>\n",
       "\t<tr><th scope=row>2</th><td>AT1G01020</td><td> 0.01053366</td><td> 3.71168921</td><td>0.026509096</td><td>0.8744827</td><td>0.9998432</td><td>13.1088195</td><td>13.0185735</td><td>12.5779540</td><td>12.7789789</td><td>13.2743211</td><td>13.8040240</td><td>13.5975635</td><td>13.0267225</td><td> 12.3336688</td><td> 13.1163394</td></tr>\n",
       "\t<tr><th scope=row>4</th><td>AT1G01030</td><td> 0.02833593</td><td>-0.08261194</td><td>0.018229816</td><td>0.8957529</td><td>0.9998432</td><td> 0.9119020</td><td> 0.8941978</td><td> 0.8449681</td><td> 0.7574538</td><td> 1.1209427</td><td> 0.9242435</td><td> 0.9600907</td><td> 0.7648718</td><td>  1.1111413</td><td>  0.7406874</td></tr>\n",
       "\t<tr><th scope=row>5</th><td>AT1G01040</td><td>-0.07502506</td><td> 6.19781886</td><td>0.975499026</td><td>0.3506961</td><td>0.9674347</td><td>71.4629917</td><td>75.2696390</td><td>67.4525978</td><td>76.1363257</td><td>74.8081743</td><td>67.4548691</td><td>69.1935127</td><td>74.8618254</td><td> 83.5717176</td><td> 73.4515004</td></tr>\n",
       "\t<tr><th scope=row>7</th><td>AT1G01046</td><td>-0.01594063</td><td>-0.69620719</td><td>0.004328436</td><td>0.9490715</td><td>0.9998432</td><td> 0.5801776</td><td> 0.5824628</td><td> 0.5552648</td><td> 0.7330198</td><td> 0.5703042</td><td> 0.4621218</td><td> 0.7368138</td><td> 0.4063381</td><td>  0.5694599</td><td>  0.6172395</td></tr>\n",
       "\t<tr><th scope=row>8</th><td>AT1G01050</td><td>-0.03867422</td><td> 6.53263384</td><td>0.203045824</td><td>0.6635905</td><td>0.9993835</td><td>91.2974831</td><td>93.7766975</td><td>83.9656890</td><td>85.4701115</td><td>97.6203410</td><td>98.1337908</td><td>84.8228960</td><td>88.7729309</td><td>101.2249756</td><td>100.2859876</td></tr>\n",
       "</tbody>\n",
       "</table>\n"
      ],
      "text/latex": [
       "A data.frame: 6 × 16\n",
       "\\begin{tabular}{r|llllllllllllllll}\n",
       "  & genes & logFC & logCPM & F & PValue & FDR & WT & mut & V1 & V2 & V3 & V4 & V5 & V6 & V7 & V8\\\\\n",
       "  & <chr> & <dbl> & <dbl> & <dbl> & <dbl> & <dbl> & <dbl> & <dbl> & <dbl> & <dbl> & <dbl> & <dbl> & <dbl> & <dbl> & <dbl> & <dbl>\\\\\n",
       "\\hline\n",
       "\t1 & AT1G01010 & -0.02252876 &  2.69560042 & 0.011561953 & 0.9168760 & 0.9998432 &  6.3820231 &  6.4832491 &  5.0939507 &  4.9356668 &  9.2821920 &  6.2162830 &  5.9838210 &  5.8321473 &   7.6668752 &   6.4501528\\\\\n",
       "\t2 & AT1G01020 &  0.01053366 &  3.71168921 & 0.026509096 & 0.8744827 & 0.9998432 & 13.1088195 & 13.0185735 & 12.5779540 & 12.7789789 & 13.2743211 & 13.8040240 & 13.5975635 & 13.0267225 &  12.3336688 &  13.1163394\\\\\n",
       "\t4 & AT1G01030 &  0.02833593 & -0.08261194 & 0.018229816 & 0.8957529 & 0.9998432 &  0.9119020 &  0.8941978 &  0.8449681 &  0.7574538 &  1.1209427 &  0.9242435 &  0.9600907 &  0.7648718 &   1.1111413 &   0.7406874\\\\\n",
       "\t5 & AT1G01040 & -0.07502506 &  6.19781886 & 0.975499026 & 0.3506961 & 0.9674347 & 71.4629917 & 75.2696390 & 67.4525978 & 76.1363257 & 74.8081743 & 67.4548691 & 69.1935127 & 74.8618254 &  83.5717176 &  73.4515004\\\\\n",
       "\t7 & AT1G01046 & -0.01594063 & -0.69620719 & 0.004328436 & 0.9490715 & 0.9998432 &  0.5801776 &  0.5824628 &  0.5552648 &  0.7330198 &  0.5703042 &  0.4621218 &  0.7368138 &  0.4063381 &   0.5694599 &   0.6172395\\\\\n",
       "\t8 & AT1G01050 & -0.03867422 &  6.53263384 & 0.203045824 & 0.6635905 & 0.9993835 & 91.2974831 & 93.7766975 & 83.9656890 & 85.4701115 & 97.6203410 & 98.1337908 & 84.8228960 & 88.7729309 & 101.2249756 & 100.2859876\\\\\n",
       "\\end{tabular}\n"
      ],
      "text/markdown": [
       "\n",
       "A data.frame: 6 × 16\n",
       "\n",
       "| <!--/--> | genes &lt;chr&gt; | logFC &lt;dbl&gt; | logCPM &lt;dbl&gt; | F &lt;dbl&gt; | PValue &lt;dbl&gt; | FDR &lt;dbl&gt; | WT &lt;dbl&gt; | mut &lt;dbl&gt; | V1 &lt;dbl&gt; | V2 &lt;dbl&gt; | V3 &lt;dbl&gt; | V4 &lt;dbl&gt; | V5 &lt;dbl&gt; | V6 &lt;dbl&gt; | V7 &lt;dbl&gt; | V8 &lt;dbl&gt; |\n",
       "|---|---|---|---|---|---|---|---|---|---|---|---|---|---|---|---|---|\n",
       "| 1 | AT1G01010 | -0.02252876 |  2.69560042 | 0.011561953 | 0.9168760 | 0.9998432 |  6.3820231 |  6.4832491 |  5.0939507 |  4.9356668 |  9.2821920 |  6.2162830 |  5.9838210 |  5.8321473 |   7.6668752 |   6.4501528 |\n",
       "| 2 | AT1G01020 |  0.01053366 |  3.71168921 | 0.026509096 | 0.8744827 | 0.9998432 | 13.1088195 | 13.0185735 | 12.5779540 | 12.7789789 | 13.2743211 | 13.8040240 | 13.5975635 | 13.0267225 |  12.3336688 |  13.1163394 |\n",
       "| 4 | AT1G01030 |  0.02833593 | -0.08261194 | 0.018229816 | 0.8957529 | 0.9998432 |  0.9119020 |  0.8941978 |  0.8449681 |  0.7574538 |  1.1209427 |  0.9242435 |  0.9600907 |  0.7648718 |   1.1111413 |   0.7406874 |\n",
       "| 5 | AT1G01040 | -0.07502506 |  6.19781886 | 0.975499026 | 0.3506961 | 0.9674347 | 71.4629917 | 75.2696390 | 67.4525978 | 76.1363257 | 74.8081743 | 67.4548691 | 69.1935127 | 74.8618254 |  83.5717176 |  73.4515004 |\n",
       "| 7 | AT1G01046 | -0.01594063 | -0.69620719 | 0.004328436 | 0.9490715 | 0.9998432 |  0.5801776 |  0.5824628 |  0.5552648 |  0.7330198 |  0.5703042 |  0.4621218 |  0.7368138 |  0.4063381 |   0.5694599 |   0.6172395 |\n",
       "| 8 | AT1G01050 | -0.03867422 |  6.53263384 | 0.203045824 | 0.6635905 | 0.9993835 | 91.2974831 | 93.7766975 | 83.9656890 | 85.4701115 | 97.6203410 | 98.1337908 | 84.8228960 | 88.7729309 | 101.2249756 | 100.2859876 |\n",
       "\n"
      ],
      "text/plain": [
       "  genes     logFC       logCPM      F           PValue    FDR       WT        \n",
       "1 AT1G01010 -0.02252876  2.69560042 0.011561953 0.9168760 0.9998432  6.3820231\n",
       "2 AT1G01020  0.01053366  3.71168921 0.026509096 0.8744827 0.9998432 13.1088195\n",
       "4 AT1G01030  0.02833593 -0.08261194 0.018229816 0.8957529 0.9998432  0.9119020\n",
       "5 AT1G01040 -0.07502506  6.19781886 0.975499026 0.3506961 0.9674347 71.4629917\n",
       "7 AT1G01046 -0.01594063 -0.69620719 0.004328436 0.9490715 0.9998432  0.5801776\n",
       "8 AT1G01050 -0.03867422  6.53263384 0.203045824 0.6635905 0.9993835 91.2974831\n",
       "  mut        V1         V2         V3         V4         V5         V6        \n",
       "1  6.4832491  5.0939507  4.9356668  9.2821920  6.2162830  5.9838210  5.8321473\n",
       "2 13.0185735 12.5779540 12.7789789 13.2743211 13.8040240 13.5975635 13.0267225\n",
       "4  0.8941978  0.8449681  0.7574538  1.1209427  0.9242435  0.9600907  0.7648718\n",
       "5 75.2696390 67.4525978 76.1363257 74.8081743 67.4548691 69.1935127 74.8618254\n",
       "7  0.5824628  0.5552648  0.7330198  0.5703042  0.4621218  0.7368138  0.4063381\n",
       "8 93.7766975 83.9656890 85.4701115 97.6203410 98.1337908 84.8228960 88.7729309\n",
       "  V7          V8         \n",
       "1   7.6668752   6.4501528\n",
       "2  12.3336688  13.1163394\n",
       "4   1.1111413   0.7406874\n",
       "5  83.5717176  73.4515004\n",
       "7   0.5694599   0.6172395\n",
       "8 101.2249756 100.2859876"
      ]
     },
     "metadata": {},
     "output_type": "display_data"
    }
   ],
   "source": [
    "head(bulk_edger_1[,1:16])"
   ]
  },
  {
   "cell_type": "code",
   "execution_count": 89,
   "metadata": {},
   "outputs": [
    {
     "data": {
      "text/html": [
       "<style>\n",
       ".list-inline {list-style: none; margin:0; padding: 0}\n",
       ".list-inline>li {display: inline-block}\n",
       ".list-inline>li:not(:last-child)::after {content: \"\\00b7\"; padding: 0 .5ex}\n",
       "</style>\n",
       "<ol class=list-inline><li>32833</li><li>8</li></ol>\n"
      ],
      "text/latex": [
       "\\begin{enumerate*}\n",
       "\\item 32833\n",
       "\\item 8\n",
       "\\end{enumerate*}\n"
      ],
      "text/markdown": [
       "1. 32833\n",
       "2. 8\n",
       "\n",
       "\n"
      ],
      "text/plain": [
       "[1] 32833     8"
      ]
     },
     "metadata": {},
     "output_type": "display_data"
    },
    {
     "data": {
      "text/html": [
       "<style>\n",
       ".list-inline {list-style: none; margin:0; padding: 0}\n",
       ".list-inline>li {display: inline-block}\n",
       ".list-inline>li:not(:last-child)::after {content: \"\\00b7\"; padding: 0 .5ex}\n",
       "</style>\n",
       "<ol class=list-inline><li>25982</li><li>8</li></ol>\n"
      ],
      "text/latex": [
       "\\begin{enumerate*}\n",
       "\\item 25982\n",
       "\\item 8\n",
       "\\end{enumerate*}\n"
      ],
      "text/markdown": [
       "1. 25982\n",
       "2. 8\n",
       "\n",
       "\n"
      ],
      "text/plain": [
       "[1] 25982     8"
      ]
     },
     "metadata": {},
     "output_type": "display_data"
    }
   ],
   "source": [
    "  #make DGElist\n",
    "  x3 <- DGEList(counts = bulk, genes = rownames(bulk))\n",
    "  \n",
    "  \n",
    "  #reads per library uniquely mapped to a gene:\n",
    "  \n",
    "  #make cpm and lcpm\n",
    "  cpm <- cpm(x3)\n",
    "  lcpm <- cpm(x3, log=TRUE)\n",
    "  \n",
    "  #keep only genes that are expressed. \"Expressed\" here means counts observed in at least 3 samples\n",
    "  dim(x3)\n",
    "  keep.exprs <- rowSums(cpm>0)>=3\n",
    "  x3 <- x3[keep.exprs,, keep.lib.sizes=FALSE]\n",
    "  dim(x3) #compare to dim(x) above\n",
    "  \n",
    "  #normalize data after removing low expressed genes\n",
    "  x3 <- calcNormFactors(x3)\n",
    "  \n",
    "  #cpm, lcpm of normalized values\n",
    "  cpm <- cpm(x3)\n",
    "  lcpm <- cpm(x3, log=TRUE)\n",
    "  \n",
    "  \n",
    "  #account for factors in experiment\n",
    "  phenotype=as.factor(c(\"wt\", \"wt\", \"wt\", \"wt\", \"mut\", \"mut\", \"mut\", \"mut\"))\n",
    "  method=as.factor(c(\"total\", \"total\", \"sort\", \"sort\", \"total\", \"total\", \"sort\", \"sort\"))\n",
    "  #insertion=as.factor(c(\"0\",\"0\",\"1\",\"1\",\"0\",\"0\",\"2\",\"2\"))\n",
    "  \n",
    "  #assign factors to DGElist\n",
    "  x3$samples$phenotype=phenotype\n",
    "  x3$samples$method=method\n",
    "  #x3$samples$insertion=insertion\n",
    "  \n",
    "  #make design matrix of experimental factors\n",
    "  design <- model.matrix(~0+phenotype+method)#+insertion)\n",
    "  #colnames(design) <- c(levels(phenotype), levels(method))#, levels(insertion))\n",
    "  #design #check matrix\n",
    "  \n",
    "  #fit normalized dge list to model matrix\n",
    "  x3 <- estimateDisp(x3, design)\n",
    "  fit <- glmQLFit(x3, design)\n",
    "\n",
    "  #tr <- glmTreat(fit, coef=2, lfc=1)\n",
    "  #topTags(tr)\n",
    "  \n",
    "  #making contrast matrix for tests of interest\n",
    "  my.contrasts <- makeContrasts(s1_v_s2=phenotypewt-phenotypemut, levels=design)\n",
    "  \n",
    "  #QLF tests \n",
    "  s1_v_s2 <- glmQLFTest(fit, contrast=my.contrasts[,\"s1_v_s2\"]) \n",
    " \n",
    "   \n",
    "  #extract results. toptags adds FDR column.\n",
    "  sec2 <- data.frame(topTags(s1_v_s2, n = \"Inf\")$table)\n",
    "  #sec2=sec2[c(1,7,2,3,4,5,6)]\n",
    "  sec2[[\"wt\"]] <- apply(cpm[sec2[[\"genes\"]],c(1,2,3,4)], 1,mean)\n",
    "  sec2[[\"mut\"]] <- apply(cpm[sec2[[\"genes\"]],c(5,6,7,8)], 1,mean)\n",
    "  \n",
    "  #return(sec2)\n",
    "  sec2 = cbind(sec2, cpm[sec2$genes,c(1,2,3,4,5,6,7,8)])\n",
    "  #return(sec2)\n",
    "  sec2=merge(sec2, annotations, by.x=c(\"genes\"), by.y=c(\"gene_id\"), all.x = T, all.y = F)\n",
    "  sec2= sec2[!duplicated(sec2$genes), ]\n",
    "  #rownames(sec2)=sec2$genes\n",
    " \n"
   ]
  },
  {
   "cell_type": "code",
   "execution_count": 106,
   "metadata": {},
   "outputs": [],
   "source": [
    "bulk_WT_higher_genes = sec2[(sec2$FDR<.05 & sec2$logFC > 1),]"
   ]
  },
  {
   "cell_type": "code",
   "execution_count": 113,
   "metadata": {},
   "outputs": [],
   "source": [
    "pb_WT_higher = read.csv(\"../data/pseudo_bulk_data/AZ_edger_2_18_22_factors.csv\")\n",
    "rownames(pb_WT_higher) = pb_WT_higher[,1]\n",
    "pb_WT_higher[,1] <- NULL"
   ]
  },
  {
   "cell_type": "code",
   "execution_count": 114,
   "metadata": {},
   "outputs": [],
   "source": [
    "pb_WT_higher_genes = pb_WT_higher[pb_WT_higher$FDR < .05 & pb_WT_higher$logFC>1, ]"
   ]
  },
  {
   "cell_type": "code",
   "execution_count": 138,
   "metadata": {},
   "outputs": [
    {
     "data": {
      "text/html": [
       "<style>\n",
       ".list-inline {list-style: none; margin:0; padding: 0}\n",
       ".list-inline>li {display: inline-block}\n",
       ".list-inline>li:not(:last-child)::after {content: \"\\00b7\"; padding: 0 .5ex}\n",
       "</style>\n",
       "<ol class=list-inline><li>407</li><li>17</li></ol>\n"
      ],
      "text/latex": [
       "\\begin{enumerate*}\n",
       "\\item 407\n",
       "\\item 17\n",
       "\\end{enumerate*}\n"
      ],
      "text/markdown": [
       "1. 407\n",
       "2. 17\n",
       "\n",
       "\n"
      ],
      "text/plain": [
       "[1] 407  17"
      ]
     },
     "metadata": {},
     "output_type": "display_data"
    }
   ],
   "source": [
    "dim(pb_WT_higher_genes)"
   ]
  },
  {
   "cell_type": "code",
   "execution_count": 120,
   "metadata": {},
   "outputs": [],
   "source": [
    "pb_df = read.csv(\"../data/pseudo_bulk_data/AZ_pbs_2_18_22.csv\")\n",
    "rownames(pb_df) = pb_df[,1]\n",
    "pb_df[,1] <- NULL"
   ]
  },
  {
   "cell_type": "code",
   "execution_count": 146,
   "metadata": {},
   "outputs": [
    {
     "data": {
      "text/html": [
       "<table>\n",
       "<caption>A data.frame: 6 × 8</caption>\n",
       "<thead>\n",
       "\t<tr><th></th><th scope=col>WT1</th><th scope=col>WT2</th><th scope=col>YFP1</th><th scope=col>YFP2</th><th scope=col>mut1</th><th scope=col>mut2</th><th scope=col>KE1</th><th scope=col>KE2</th></tr>\n",
       "\t<tr><th></th><th scope=col>&lt;int&gt;</th><th scope=col>&lt;int&gt;</th><th scope=col>&lt;int&gt;</th><th scope=col>&lt;int&gt;</th><th scope=col>&lt;int&gt;</th><th scope=col>&lt;int&gt;</th><th scope=col>&lt;int&gt;</th><th scope=col>&lt;int&gt;</th></tr>\n",
       "</thead>\n",
       "<tbody>\n",
       "\t<tr><th scope=row>AT1G01010</th><td> 71</td><td> 67</td><td>23</td><td>6</td><td>24</td><td>27</td><td>63</td><td>39</td></tr>\n",
       "\t<tr><th scope=row>AT1G01040</th><td> 48</td><td> 21</td><td>19</td><td>2</td><td>15</td><td> 9</td><td>14</td><td> 8</td></tr>\n",
       "\t<tr><th scope=row>AT1G01110</th><td>  1</td><td>  0</td><td> 0</td><td>0</td><td> 0</td><td> 0</td><td> 0</td><td> 0</td></tr>\n",
       "\t<tr><th scope=row>AT1G01160</th><td>120</td><td>136</td><td>71</td><td>7</td><td>19</td><td>24</td><td>98</td><td>61</td></tr>\n",
       "\t<tr><th scope=row>AT1G01180</th><td>  0</td><td>  1</td><td> 0</td><td>0</td><td> 6</td><td> 0</td><td> 5</td><td> 0</td></tr>\n",
       "\t<tr><th scope=row>AT1G01210</th><td> 28</td><td> 40</td><td>21</td><td>9</td><td> 2</td><td>12</td><td>37</td><td> 6</td></tr>\n",
       "</tbody>\n",
       "</table>\n"
      ],
      "text/latex": [
       "A data.frame: 6 × 8\n",
       "\\begin{tabular}{r|llllllll}\n",
       "  & WT1 & WT2 & YFP1 & YFP2 & mut1 & mut2 & KE1 & KE2\\\\\n",
       "  & <int> & <int> & <int> & <int> & <int> & <int> & <int> & <int>\\\\\n",
       "\\hline\n",
       "\tAT1G01010 &  71 &  67 & 23 & 6 & 24 & 27 & 63 & 39\\\\\n",
       "\tAT1G01040 &  48 &  21 & 19 & 2 & 15 &  9 & 14 &  8\\\\\n",
       "\tAT1G01110 &   1 &   0 &  0 & 0 &  0 &  0 &  0 &  0\\\\\n",
       "\tAT1G01160 & 120 & 136 & 71 & 7 & 19 & 24 & 98 & 61\\\\\n",
       "\tAT1G01180 &   0 &   1 &  0 & 0 &  6 &  0 &  5 &  0\\\\\n",
       "\tAT1G01210 &  28 &  40 & 21 & 9 &  2 & 12 & 37 &  6\\\\\n",
       "\\end{tabular}\n"
      ],
      "text/markdown": [
       "\n",
       "A data.frame: 6 × 8\n",
       "\n",
       "| <!--/--> | WT1 &lt;int&gt; | WT2 &lt;int&gt; | YFP1 &lt;int&gt; | YFP2 &lt;int&gt; | mut1 &lt;int&gt; | mut2 &lt;int&gt; | KE1 &lt;int&gt; | KE2 &lt;int&gt; |\n",
       "|---|---|---|---|---|---|---|---|---|\n",
       "| AT1G01010 |  71 |  67 | 23 | 6 | 24 | 27 | 63 | 39 |\n",
       "| AT1G01040 |  48 |  21 | 19 | 2 | 15 |  9 | 14 |  8 |\n",
       "| AT1G01110 |   1 |   0 |  0 | 0 |  0 |  0 |  0 |  0 |\n",
       "| AT1G01160 | 120 | 136 | 71 | 7 | 19 | 24 | 98 | 61 |\n",
       "| AT1G01180 |   0 |   1 |  0 | 0 |  6 |  0 |  5 |  0 |\n",
       "| AT1G01210 |  28 |  40 | 21 | 9 |  2 | 12 | 37 |  6 |\n",
       "\n"
      ],
      "text/plain": [
       "          WT1 WT2 YFP1 YFP2 mut1 mut2 KE1 KE2\n",
       "AT1G01010  71  67 23   6    24   27   63  39 \n",
       "AT1G01040  48  21 19   2    15    9   14   8 \n",
       "AT1G01110   1   0  0   0     0    0    0   0 \n",
       "AT1G01160 120 136 71   7    19   24   98  61 \n",
       "AT1G01180   0   1  0   0     6    0    5   0 \n",
       "AT1G01210  28  40 21   9     2   12   37   6 "
      ]
     },
     "metadata": {},
     "output_type": "display_data"
    }
   ],
   "source": [
    "pb_WT_higher_genes = sec3[]"
   ]
  },
  {
   "cell_type": "code",
   "execution_count": 144,
   "metadata": {},
   "outputs": [],
   "source": [
    "union_genes = union(intersect(bulk_WT_higher_genes$genes,sec3$genes), intersect(sec2$genes, pb_WT_higher_genes$genes))"
   ]
  },
  {
   "cell_type": "code",
   "execution_count": 166,
   "metadata": {},
   "outputs": [
    {
     "data": {
      "image/png": "[encoded data removed]",
      "text/plain": [
       "plot without title"
      ]
     },
     "metadata": {
      "image/png": {
       "height": 420,
       "width": 420
      },
      "text/plain": {
       "height": 420,
       "width": 420
      }
     },
     "output_type": "display_data"
    }
   ],
   "source": [
    "rownames(pb_WT_higher_genes) = pb_WT_higher_genes$genes\n",
    "rownames(bulk_WT_higher_genes) = bulk_WT_higher_genes$genes\n",
    "plot((pb_WT_higher_genes[union_genes,\"logFC\"]) ~ ([union_genes,\"logFC\"]))"
   ]
  },
  {
   "cell_type": "code",
   "execution_count": null,
   "metadata": {},
   "outputs": [],
   "source": [
    "plot()"
   ]
  },
  {
   "cell_type": "code",
   "execution_count": 153,
   "metadata": {},
   "outputs": [
    {
     "data": {
      "text/html": [
       "<table>\n",
       "<caption>A data.frame: 6 × 17</caption>\n",
       "<thead>\n",
       "\t<tr><th></th><th scope=col>genes</th><th scope=col>logFC</th><th scope=col>logCPM</th><th scope=col>F</th><th scope=col>PValue</th><th scope=col>FDR</th><th scope=col>wt</th><th scope=col>mut</th><th scope=col>V1</th><th scope=col>V2</th><th scope=col>V3</th><th scope=col>V4</th><th scope=col>V5</th><th scope=col>V6</th><th scope=col>V7</th><th scope=col>V8</th><th scope=col>description</th></tr>\n",
       "\t<tr><th></th><th scope=col>&lt;chr&gt;</th><th scope=col>&lt;dbl&gt;</th><th scope=col>&lt;dbl&gt;</th><th scope=col>&lt;dbl&gt;</th><th scope=col>&lt;dbl&gt;</th><th scope=col>&lt;dbl&gt;</th><th scope=col>&lt;dbl&gt;</th><th scope=col>&lt;dbl&gt;</th><th scope=col>&lt;dbl&gt;</th><th scope=col>&lt;dbl&gt;</th><th scope=col>&lt;dbl&gt;</th><th scope=col>&lt;dbl&gt;</th><th scope=col>&lt;dbl&gt;</th><th scope=col>&lt;dbl&gt;</th><th scope=col>&lt;dbl&gt;</th><th scope=col>&lt;dbl&gt;</th><th scope=col>&lt;fct&gt;</th></tr>\n",
       "</thead>\n",
       "<tbody>\n",
       "\t<tr><th scope=row>1</th><td>AT1G01010</td><td>-0.04497171</td><td> 2.69940324</td><td>0.09767811</td><td>0.7618868</td><td>0.9347567</td><td> 6.3820231</td><td> 6.4832491</td><td> 5.0939507</td><td> 4.9356668</td><td> 9.2821920</td><td> 6.2162830</td><td> 5.9838210</td><td> 5.8321473</td><td>  7.6668752</td><td>  6.4501528</td><td>NAC domain containing protein 1  NAC domain containing protein 1 (NAC001); FUNCTIONS IN: sequence-specific DNA binding transcription factor activity; INVOLVED IN: multicellular organismal development, regulation of transcription; LOCATED IN: cellular_component unknown; EXPRESSED IN: 7 plant structures; EXPRESSED DURING: 4 anthesis, C globular stage, petal differentiation and expansion stage; CONTAINS InterPro DOMAIN/s: No apical meristem (NAM) protein (InterPro:IPR003441); BEST Arabidopsis thaliana protein match is: NAC domain containing protein 69 (TAIR:AT4G01550.1); Has 2503 Blast hits to 2496 proteins in 69 species: Archae - 0; Bacteria - 0; Metazoa - 0; Fungi - 0; Plants - 2502; Viruses - 0; Other Eukaryotes - 1 (source: NCBI BLink).                                                                                                                                                                                                                                                                                                                                                                                                                                                                                                         </td></tr>\n",
       "\t<tr><th scope=row>2</th><td>AT1G01020</td><td> 0.01139527</td><td> 3.71176699</td><td>0.03285725</td><td>0.8602504</td><td>0.9645240</td><td>13.1088195</td><td>13.0185735</td><td>12.5779540</td><td>12.7789789</td><td>13.2743211</td><td>13.8040240</td><td>13.5975635</td><td>13.0267225</td><td> 12.3336688</td><td> 13.1163394</td><td>Arv1-like protein  ARV1; CONTAINS InterPro DOMAIN/s: Arv1-like protein (InterPro:IPR007290); BEST Arabidopsis thaliana protein match is: Arv1-like protein (TAIR:AT4G01510.1); Has 311 Blast hits to 311 proteins in 154 species: Archae - 0; Bacteria - 0; Metazoa - 110; Fungi - 115; Plants - 42; Viruses - 0; Other Eukaryotes - 44 (source: NCBI BLink).                                                                                                                                                                                                                                                                                                                                                                                                                                                                                                                                                                                                                                                                                                                                                                                                                                                                                                                       </td></tr>\n",
       "\t<tr><th scope=row>4</th><td>AT1G01030</td><td> 0.02308094</td><td>-0.07673739</td><td>0.01316416</td><td>0.9112209</td><td>0.9791629</td><td> 0.9119020</td><td> 0.8941978</td><td> 0.8449681</td><td> 0.7574538</td><td> 1.1209427</td><td> 0.9242435</td><td> 0.9600907</td><td> 0.7648718</td><td>  1.1111413</td><td>  0.7406874</td><td>AP2/B3-like transcriptional factor family protein  NGATHA3 (NGA3); CONTAINS InterPro DOMAIN/s: Transcriptional factor B3 (InterPro:IPR003340); BEST Arabidopsis thaliana protein match is: AP2/B3-like transcriptional factor family protein (TAIR:AT4G01500.1); Has 1380 Blast hits to 1379 proteins in 72 species: Archae - 0; Bacteria - 0; Metazoa - 0; Fungi - 0; Plants - 1380; Viruses - 0; Other Eukaryotes - 0 (source: NCBI BLink).                                                                                                                                                                                                                                                                                                                                                                                                                                                                                                                                                                                                                                                                                                                                                                                                                                       </td></tr>\n",
       "\t<tr><th scope=row>5</th><td>AT1G01040</td><td>-0.07416903</td><td> 6.19789979</td><td>1.10851380</td><td>0.3203552</td><td>0.7205664</td><td>71.4629917</td><td>75.2696390</td><td>67.4525978</td><td>76.1363257</td><td>74.8081743</td><td>67.4548691</td><td>69.1935127</td><td>74.8618254</td><td> 83.5717176</td><td> 73.4515004</td><td>dicer-like 1 Encodes a Dicer homolog. Dicer is a RNA helicase involved in microRNA processing. Mutations in this locus can result in embryo lethality. Embryo shape at seed maturity is globular-elongate. Other mutants convert the floral meristems to an indeterminate state, others yet show defects in ovule development. mRNA is expressed in all shoot tissues. DCL1 is able to produce miRNAs and siRNAs. dicer-like 1 (DCL1); CONTAINS InterPro DOMAIN/s: Restriction endonuclease, type I, R subunit/Type III, Res subunit (InterPro:IPR006935), Double-stranded RNA-binding (InterPro:IPR001159), Argonaute/Dicer protein, PAZ (InterPro:IPR003100), Ribonuclease III (InterPro:IPR000999), Double-stranded RNA-binding-like (InterPro:IPR014720), DEAD-like helicase, N-terminal (InterPro:IPR014001), DNA/RNA helicase, C-terminal (InterPro:IPR001650), Helicase, superfamily 1/2, ATP-binding domain (InterPro:IPR014021), Dicer double-stranded RNA-binding fold (InterPro:IPR005034); BEST Arabidopsis thaliana protein match is: dicer-like 3 (TAIR:AT3G43920.2); Has 21958 Blast hits to 17420 proteins in 2982 species: Archae - 328; Bacteria - 11461; Metazoa - 3615; Fungi - 1668; Plants - 1373; Viruses - 45; Other Eukaryotes - 3468 (source: NCBI BLink).</td></tr>\n",
       "\t<tr><th scope=row>7</th><td>AT1G01046</td><td>-0.02983387</td><td>-0.70023171</td><td>0.01509375</td><td>0.9049707</td><td>0.9780078</td><td> 0.5801776</td><td> 0.5824628</td><td> 0.5552648</td><td> 0.7330198</td><td> 0.5703042</td><td> 0.4621218</td><td> 0.7368138</td><td> 0.4063381</td><td>  0.5694599</td><td>  0.6172395</td><td>MIR838a; miRNA Encodes a microRNA of unknown function. MicroRNAs are regulatory RNAs with a mature length of ~21-nucleotides that are processed from hairpin precursors by Dicer-like enzymes. MicroRNAs can negatively regulate gene expression by attenuating translation or by directing mRNA cleavage. Mature sequence: UUUUCUUCUACUUCUUGCACA                                                                                                                                                                                                                                                                                                                                                                                                                                                                                                                                                                                                                                                                                                                                                                                                                                                                                                                                   </td></tr>\n",
       "\t<tr><th scope=row>8</th><td>AT1G01050</td><td>-0.03840811</td><td> 6.53285971</td><td>0.82231227</td><td>0.3885747</td><td>0.7673904</td><td>91.2974831</td><td>93.7766975</td><td>83.9656890</td><td>85.4701115</td><td>97.6203410</td><td>98.1337908</td><td>84.8228960</td><td>88.7729309</td><td>101.2249756</td><td>100.2859876</td><td>pyrophosphorylase 1 Encodes a soluble protein with inorganic pyrophosphatase activity that is highly specific for Mg-inorganic pyrophosphate. pyrophosphorylase 1 (PPa1); FUNCTIONS IN: inorganic diphosphatase activity; INVOLVED IN: phosphate metabolic process, metabolic process; LOCATED IN: nucleus, membrane, cytoplasm; EXPRESSED IN: 24 plant structures; EXPRESSED DURING: 15 growth stages; CONTAINS InterPro DOMAIN/s: Inorganic pyrophosphatase (InterPro:IPR008162); BEST Arabidopsis thaliana protein match is: pyrophosphorylase 3 (TAIR:AT2G46860.1); Has 5987 Blast hits to 5987 proteins in 1845 species: Archae - 172; Bacteria - 4313; Metazoa - 247; Fungi - 261; Plants - 270; Viruses - 0; Other Eukaryotes - 724 (source: NCBI BLink).                                                                                                                                                                                                                                                                                                                                                                                                                                                                                                                    </td></tr>\n",
       "</tbody>\n",
       "</table>\n"
      ],
      "text/latex": [
       "A data.frame: 6 × 17\n",
       "\\begin{tabular}{r|lllllllllllllllll}\n",
       "  & genes & logFC & logCPM & F & PValue & FDR & wt & mut & V1 & V2 & V3 & V4 & V5 & V6 & V7 & V8 & description\\\\\n",
       "  & <chr> & <dbl> & <dbl> & <dbl> & <dbl> & <dbl> & <dbl> & <dbl> & <dbl> & <dbl> & <dbl> & <dbl> & <dbl> & <dbl> & <dbl> & <dbl> & <fct>\\\\\n",
       "\\hline\n",
       "\t1 & AT1G01010 & -0.04497171 &  2.69940324 & 0.09767811 & 0.7618868 & 0.9347567 &  6.3820231 &  6.4832491 &  5.0939507 &  4.9356668 &  9.2821920 &  6.2162830 &  5.9838210 &  5.8321473 &   7.6668752 &   6.4501528 & NAC domain containing protein 1  NAC domain containing protein 1 (NAC001); FUNCTIONS IN: sequence-specific DNA binding transcription factor activity; INVOLVED IN: multicellular organismal development, regulation of transcription; LOCATED IN: cellular\\_component unknown; EXPRESSED IN: 7 plant structures; EXPRESSED DURING: 4 anthesis, C globular stage, petal differentiation and expansion stage; CONTAINS InterPro DOMAIN/s: No apical meristem (NAM) protein (InterPro:IPR003441); BEST Arabidopsis thaliana protein match is: NAC domain containing protein 69 (TAIR:AT4G01550.1); Has 2503 Blast hits to 2496 proteins in 69 species: Archae - 0; Bacteria - 0; Metazoa - 0; Fungi - 0; Plants - 2502; Viruses - 0; Other Eukaryotes - 1 (source: NCBI BLink).                                                                                                                                                                                                                                                                                                                                                                                                                                                                                                         \\\\\n",
       "\t2 & AT1G01020 &  0.01139527 &  3.71176699 & 0.03285725 & 0.8602504 & 0.9645240 & 13.1088195 & 13.0185735 & 12.5779540 & 12.7789789 & 13.2743211 & 13.8040240 & 13.5975635 & 13.0267225 &  12.3336688 &  13.1163394 & Arv1-like protein  ARV1; CONTAINS InterPro DOMAIN/s: Arv1-like protein (InterPro:IPR007290); BEST Arabidopsis thaliana protein match is: Arv1-like protein (TAIR:AT4G01510.1); Has 311 Blast hits to 311 proteins in 154 species: Archae - 0; Bacteria - 0; Metazoa - 110; Fungi - 115; Plants - 42; Viruses - 0; Other Eukaryotes - 44 (source: NCBI BLink).                                                                                                                                                                                                                                                                                                                                                                                                                                                                                                                                                                                                                                                                                                                                                                                                                                                                                                                       \\\\\n",
       "\t4 & AT1G01030 &  0.02308094 & -0.07673739 & 0.01316416 & 0.9112209 & 0.9791629 &  0.9119020 &  0.8941978 &  0.8449681 &  0.7574538 &  1.1209427 &  0.9242435 &  0.9600907 &  0.7648718 &   1.1111413 &   0.7406874 & AP2/B3-like transcriptional factor family protein  NGATHA3 (NGA3); CONTAINS InterPro DOMAIN/s: Transcriptional factor B3 (InterPro:IPR003340); BEST Arabidopsis thaliana protein match is: AP2/B3-like transcriptional factor family protein (TAIR:AT4G01500.1); Has 1380 Blast hits to 1379 proteins in 72 species: Archae - 0; Bacteria - 0; Metazoa - 0; Fungi - 0; Plants - 1380; Viruses - 0; Other Eukaryotes - 0 (source: NCBI BLink).                                                                                                                                                                                                                                                                                                                                                                                                                                                                                                                                                                                                                                                                                                                                                                                                                                       \\\\\n",
       "\t5 & AT1G01040 & -0.07416903 &  6.19789979 & 1.10851380 & 0.3203552 & 0.7205664 & 71.4629917 & 75.2696390 & 67.4525978 & 76.1363257 & 74.8081743 & 67.4548691 & 69.1935127 & 74.8618254 &  83.5717176 &  73.4515004 & dicer-like 1 Encodes a Dicer homolog. Dicer is a RNA helicase involved in microRNA processing. Mutations in this locus can result in embryo lethality. Embryo shape at seed maturity is globular-elongate. Other mutants convert the floral meristems to an indeterminate state, others yet show defects in ovule development. mRNA is expressed in all shoot tissues. DCL1 is able to produce miRNAs and siRNAs. dicer-like 1 (DCL1); CONTAINS InterPro DOMAIN/s: Restriction endonuclease, type I, R subunit/Type III, Res subunit (InterPro:IPR006935), Double-stranded RNA-binding (InterPro:IPR001159), Argonaute/Dicer protein, PAZ (InterPro:IPR003100), Ribonuclease III (InterPro:IPR000999), Double-stranded RNA-binding-like (InterPro:IPR014720), DEAD-like helicase, N-terminal (InterPro:IPR014001), DNA/RNA helicase, C-terminal (InterPro:IPR001650), Helicase, superfamily 1/2, ATP-binding domain (InterPro:IPR014021), Dicer double-stranded RNA-binding fold (InterPro:IPR005034); BEST Arabidopsis thaliana protein match is: dicer-like 3 (TAIR:AT3G43920.2); Has 21958 Blast hits to 17420 proteins in 2982 species: Archae - 328; Bacteria - 11461; Metazoa - 3615; Fungi - 1668; Plants - 1373; Viruses - 45; Other Eukaryotes - 3468 (source: NCBI BLink).\\\\\n",
       "\t7 & AT1G01046 & -0.02983387 & -0.70023171 & 0.01509375 & 0.9049707 & 0.9780078 &  0.5801776 &  0.5824628 &  0.5552648 &  0.7330198 &  0.5703042 &  0.4621218 &  0.7368138 &  0.4063381 &   0.5694599 &   0.6172395 & MIR838a; miRNA Encodes a microRNA of unknown function. MicroRNAs are regulatory RNAs with a mature length of \\textasciitilde{}21-nucleotides that are processed from hairpin precursors by Dicer-like enzymes. MicroRNAs can negatively regulate gene expression by attenuating translation or by directing mRNA cleavage. Mature sequence: UUUUCUUCUACUUCUUGCACA                                                                                                                                                                                                                                                                                                                                                                                                                                                                                                                                                                                                                                                                                                                                                                                                                                                                                                                                   \\\\\n",
       "\t8 & AT1G01050 & -0.03840811 &  6.53285971 & 0.82231227 & 0.3885747 & 0.7673904 & 91.2974831 & 93.7766975 & 83.9656890 & 85.4701115 & 97.6203410 & 98.1337908 & 84.8228960 & 88.7729309 & 101.2249756 & 100.2859876 & pyrophosphorylase 1 Encodes a soluble protein with inorganic pyrophosphatase activity that is highly specific for Mg-inorganic pyrophosphate. pyrophosphorylase 1 (PPa1); FUNCTIONS IN: inorganic diphosphatase activity; INVOLVED IN: phosphate metabolic process, metabolic process; LOCATED IN: nucleus, membrane, cytoplasm; EXPRESSED IN: 24 plant structures; EXPRESSED DURING: 15 growth stages; CONTAINS InterPro DOMAIN/s: Inorganic pyrophosphatase (InterPro:IPR008162); BEST Arabidopsis thaliana protein match is: pyrophosphorylase 3 (TAIR:AT2G46860.1); Has 5987 Blast hits to 5987 proteins in 1845 species: Archae - 172; Bacteria - 4313; Metazoa - 247; Fungi - 261; Plants - 270; Viruses - 0; Other Eukaryotes - 724 (source: NCBI BLink).                                                                                                                                                                                                                                                                                                                                                                                                                                                                                                                    \\\\\n",
       "\\end{tabular}\n"
      ],
      "text/markdown": [
       "\n",
       "A data.frame: 6 × 17\n",
       "\n",
       "| <!--/--> | genes &lt;chr&gt; | logFC &lt;dbl&gt; | logCPM &lt;dbl&gt; | F &lt;dbl&gt; | PValue &lt;dbl&gt; | FDR &lt;dbl&gt; | wt &lt;dbl&gt; | mut &lt;dbl&gt; | V1 &lt;dbl&gt; | V2 &lt;dbl&gt; | V3 &lt;dbl&gt; | V4 &lt;dbl&gt; | V5 &lt;dbl&gt; | V6 &lt;dbl&gt; | V7 &lt;dbl&gt; | V8 &lt;dbl&gt; | description &lt;fct&gt; |\n",
       "|---|---|---|---|---|---|---|---|---|---|---|---|---|---|---|---|---|---|\n",
       "| 1 | AT1G01010 | -0.04497171 |  2.69940324 | 0.09767811 | 0.7618868 | 0.9347567 |  6.3820231 |  6.4832491 |  5.0939507 |  4.9356668 |  9.2821920 |  6.2162830 |  5.9838210 |  5.8321473 |   7.6668752 |   6.4501528 | NAC domain containing protein 1  NAC domain containing protein 1 (NAC001); FUNCTIONS IN: sequence-specific DNA binding transcription factor activity; INVOLVED IN: multicellular organismal development, regulation of transcription; LOCATED IN: cellular_component unknown; EXPRESSED IN: 7 plant structures; EXPRESSED DURING: 4 anthesis, C globular stage, petal differentiation and expansion stage; CONTAINS InterPro DOMAIN/s: No apical meristem (NAM) protein (InterPro:IPR003441); BEST Arabidopsis thaliana protein match is: NAC domain containing protein 69 (TAIR:AT4G01550.1); Has 2503 Blast hits to 2496 proteins in 69 species: Archae - 0; Bacteria - 0; Metazoa - 0; Fungi - 0; Plants - 2502; Viruses - 0; Other Eukaryotes - 1 (source: NCBI BLink).                                                                                                                                                                                                                                                                                                                                                                                                                                                                                                          |\n",
       "| 2 | AT1G01020 |  0.01139527 |  3.71176699 | 0.03285725 | 0.8602504 | 0.9645240 | 13.1088195 | 13.0185735 | 12.5779540 | 12.7789789 | 13.2743211 | 13.8040240 | 13.5975635 | 13.0267225 |  12.3336688 |  13.1163394 | Arv1-like protein  ARV1; CONTAINS InterPro DOMAIN/s: Arv1-like protein (InterPro:IPR007290); BEST Arabidopsis thaliana protein match is: Arv1-like protein (TAIR:AT4G01510.1); Has 311 Blast hits to 311 proteins in 154 species: Archae - 0; Bacteria - 0; Metazoa - 110; Fungi - 115; Plants - 42; Viruses - 0; Other Eukaryotes - 44 (source: NCBI BLink).                                                                                                                                                                                                                                                                                                                                                                                                                                                                                                                                                                                                                                                                                                                                                                                                                                                                                                                        |\n",
       "| 4 | AT1G01030 |  0.02308094 | -0.07673739 | 0.01316416 | 0.9112209 | 0.9791629 |  0.9119020 |  0.8941978 |  0.8449681 |  0.7574538 |  1.1209427 |  0.9242435 |  0.9600907 |  0.7648718 |   1.1111413 |   0.7406874 | AP2/B3-like transcriptional factor family protein  NGATHA3 (NGA3); CONTAINS InterPro DOMAIN/s: Transcriptional factor B3 (InterPro:IPR003340); BEST Arabidopsis thaliana protein match is: AP2/B3-like transcriptional factor family protein (TAIR:AT4G01500.1); Has 1380 Blast hits to 1379 proteins in 72 species: Archae - 0; Bacteria - 0; Metazoa - 0; Fungi - 0; Plants - 1380; Viruses - 0; Other Eukaryotes - 0 (source: NCBI BLink).                                                                                                                                                                                                                                                                                                                                                                                                                                                                                                                                                                                                                                                                                                                                                                                                                                        |\n",
       "| 5 | AT1G01040 | -0.07416903 |  6.19789979 | 1.10851380 | 0.3203552 | 0.7205664 | 71.4629917 | 75.2696390 | 67.4525978 | 76.1363257 | 74.8081743 | 67.4548691 | 69.1935127 | 74.8618254 |  83.5717176 |  73.4515004 | dicer-like 1 Encodes a Dicer homolog. Dicer is a RNA helicase involved in microRNA processing. Mutations in this locus can result in embryo lethality. Embryo shape at seed maturity is globular-elongate. Other mutants convert the floral meristems to an indeterminate state, others yet show defects in ovule development. mRNA is expressed in all shoot tissues. DCL1 is able to produce miRNAs and siRNAs. dicer-like 1 (DCL1); CONTAINS InterPro DOMAIN/s: Restriction endonuclease, type I, R subunit/Type III, Res subunit (InterPro:IPR006935), Double-stranded RNA-binding (InterPro:IPR001159), Argonaute/Dicer protein, PAZ (InterPro:IPR003100), Ribonuclease III (InterPro:IPR000999), Double-stranded RNA-binding-like (InterPro:IPR014720), DEAD-like helicase, N-terminal (InterPro:IPR014001), DNA/RNA helicase, C-terminal (InterPro:IPR001650), Helicase, superfamily 1/2, ATP-binding domain (InterPro:IPR014021), Dicer double-stranded RNA-binding fold (InterPro:IPR005034); BEST Arabidopsis thaliana protein match is: dicer-like 3 (TAIR:AT3G43920.2); Has 21958 Blast hits to 17420 proteins in 2982 species: Archae - 328; Bacteria - 11461; Metazoa - 3615; Fungi - 1668; Plants - 1373; Viruses - 45; Other Eukaryotes - 3468 (source: NCBI BLink). |\n",
       "| 7 | AT1G01046 | -0.02983387 | -0.70023171 | 0.01509375 | 0.9049707 | 0.9780078 |  0.5801776 |  0.5824628 |  0.5552648 |  0.7330198 |  0.5703042 |  0.4621218 |  0.7368138 |  0.4063381 |   0.5694599 |   0.6172395 | MIR838a; miRNA Encodes a microRNA of unknown function. MicroRNAs are regulatory RNAs with a mature length of ~21-nucleotides that are processed from hairpin precursors by Dicer-like enzymes. MicroRNAs can negatively regulate gene expression by attenuating translation or by directing mRNA cleavage. Mature sequence: UUUUCUUCUACUUCUUGCACA                                                                                                                                                                                                                                                                                                                                                                                                                                                                                                                                                                                                                                                                                                                                                                                                                                                                                                                                    |\n",
       "| 8 | AT1G01050 | -0.03840811 |  6.53285971 | 0.82231227 | 0.3885747 | 0.7673904 | 91.2974831 | 93.7766975 | 83.9656890 | 85.4701115 | 97.6203410 | 98.1337908 | 84.8228960 | 88.7729309 | 101.2249756 | 100.2859876 | pyrophosphorylase 1 Encodes a soluble protein with inorganic pyrophosphatase activity that is highly specific for Mg-inorganic pyrophosphate. pyrophosphorylase 1 (PPa1); FUNCTIONS IN: inorganic diphosphatase activity; INVOLVED IN: phosphate metabolic process, metabolic process; LOCATED IN: nucleus, membrane, cytoplasm; EXPRESSED IN: 24 plant structures; EXPRESSED DURING: 15 growth stages; CONTAINS InterPro DOMAIN/s: Inorganic pyrophosphatase (InterPro:IPR008162); BEST Arabidopsis thaliana protein match is: pyrophosphorylase 3 (TAIR:AT2G46860.1); Has 5987 Blast hits to 5987 proteins in 1845 species: Archae - 172; Bacteria - 4313; Metazoa - 247; Fungi - 261; Plants - 270; Viruses - 0; Other Eukaryotes - 724 (source: NCBI BLink).                                                                                                                                                                                                                                                                                                                                                                                                                                                                                                                     |\n",
       "\n"
      ],
      "text/plain": [
       "  genes     logFC       logCPM      F          PValue    FDR       wt        \n",
       "1 AT1G01010 -0.04497171  2.69940324 0.09767811 0.7618868 0.9347567  6.3820231\n",
       "2 AT1G01020  0.01139527  3.71176699 0.03285725 0.8602504 0.9645240 13.1088195\n",
       "4 AT1G01030  0.02308094 -0.07673739 0.01316416 0.9112209 0.9791629  0.9119020\n",
       "5 AT1G01040 -0.07416903  6.19789979 1.10851380 0.3203552 0.7205664 71.4629917\n",
       "7 AT1G01046 -0.02983387 -0.70023171 0.01509375 0.9049707 0.9780078  0.5801776\n",
       "8 AT1G01050 -0.03840811  6.53285971 0.82231227 0.3885747 0.7673904 91.2974831\n",
       "  mut        V1         V2         V3         V4         V5         V6        \n",
       "1  6.4832491  5.0939507  4.9356668  9.2821920  6.2162830  5.9838210  5.8321473\n",
       "2 13.0185735 12.5779540 12.7789789 13.2743211 13.8040240 13.5975635 13.0267225\n",
       "4  0.8941978  0.8449681  0.7574538  1.1209427  0.9242435  0.9600907  0.7648718\n",
       "5 75.2696390 67.4525978 76.1363257 74.8081743 67.4548691 69.1935127 74.8618254\n",
       "7  0.5824628  0.5552648  0.7330198  0.5703042  0.4621218  0.7368138  0.4063381\n",
       "8 93.7766975 83.9656890 85.4701115 97.6203410 98.1337908 84.8228960 88.7729309\n",
       "  V7          V8         \n",
       "1   7.6668752   6.4501528\n",
       "2  12.3336688  13.1163394\n",
       "4   1.1111413   0.7406874\n",
       "5  83.5717176  73.4515004\n",
       "7   0.5694599   0.6172395\n",
       "8 101.2249756 100.2859876\n",
       "  description                                                                                                                                                                                                                                                                                                                                                                                                                                                                                                                                                                                                                                                                                                                                                                                                                                                                                                                                                                                                                                                                                                                                                                                                                                                                         \n",
       "1 NAC domain containing protein 1  NAC domain containing protein 1 (NAC001); FUNCTIONS IN: sequence-specific DNA binding transcription factor activity; INVOLVED IN: multicellular organismal development, regulation of transcription; LOCATED IN: cellular_component unknown; EXPRESSED IN: 7 plant structures; EXPRESSED DURING: 4 anthesis, C globular stage, petal differentiation and expansion stage; CONTAINS InterPro DOMAIN/s: No apical meristem (NAM) protein (InterPro:IPR003441); BEST Arabidopsis thaliana protein match is: NAC domain containing protein 69 (TAIR:AT4G01550.1); Has 2503 Blast hits to 2496 proteins in 69 species: Archae - 0; Bacteria - 0; Metazoa - 0; Fungi - 0; Plants - 2502; Viruses - 0; Other Eukaryotes - 1 (source: NCBI BLink).                                                                                                                                                                                                                                                                                                                                                                                                                                                                                                         \n",
       "2 Arv1-like protein  ARV1; CONTAINS InterPro DOMAIN/s: Arv1-like protein (InterPro:IPR007290); BEST Arabidopsis thaliana protein match is: Arv1-like protein (TAIR:AT4G01510.1); Has 311 Blast hits to 311 proteins in 154 species: Archae - 0; Bacteria - 0; Metazoa - 110; Fungi - 115; Plants - 42; Viruses - 0; Other Eukaryotes - 44 (source: NCBI BLink).                                                                                                                                                                                                                                                                                                                                                                                                                                                                                                                                                                                                                                                                                                                                                                                                                                                                                                                       \n",
       "4 AP2/B3-like transcriptional factor family protein  NGATHA3 (NGA3); CONTAINS InterPro DOMAIN/s: Transcriptional factor B3 (InterPro:IPR003340); BEST Arabidopsis thaliana protein match is: AP2/B3-like transcriptional factor family protein (TAIR:AT4G01500.1); Has 1380 Blast hits to 1379 proteins in 72 species: Archae - 0; Bacteria - 0; Metazoa - 0; Fungi - 0; Plants - 1380; Viruses - 0; Other Eukaryotes - 0 (source: NCBI BLink).                                                                                                                                                                                                                                                                                                                                                                                                                                                                                                                                                                                                                                                                                                                                                                                                                                       \n",
       "5 dicer-like 1 Encodes a Dicer homolog. Dicer is a RNA helicase involved in microRNA processing. Mutations in this locus can result in embryo lethality. Embryo shape at seed maturity is globular-elongate. Other mutants convert the floral meristems to an indeterminate state, others yet show defects in ovule development. mRNA is expressed in all shoot tissues. DCL1 is able to produce miRNAs and siRNAs. dicer-like 1 (DCL1); CONTAINS InterPro DOMAIN/s: Restriction endonuclease, type I, R subunit/Type III, Res subunit (InterPro:IPR006935), Double-stranded RNA-binding (InterPro:IPR001159), Argonaute/Dicer protein, PAZ (InterPro:IPR003100), Ribonuclease III (InterPro:IPR000999), Double-stranded RNA-binding-like (InterPro:IPR014720), DEAD-like helicase, N-terminal (InterPro:IPR014001), DNA/RNA helicase, C-terminal (InterPro:IPR001650), Helicase, superfamily 1/2, ATP-binding domain (InterPro:IPR014021), Dicer double-stranded RNA-binding fold (InterPro:IPR005034); BEST Arabidopsis thaliana protein match is: dicer-like 3 (TAIR:AT3G43920.2); Has 21958 Blast hits to 17420 proteins in 2982 species: Archae - 328; Bacteria - 11461; Metazoa - 3615; Fungi - 1668; Plants - 1373; Viruses - 45; Other Eukaryotes - 3468 (source: NCBI BLink).\n",
       "7 MIR838a; miRNA Encodes a microRNA of unknown function. MicroRNAs are regulatory RNAs with a mature length of ~21-nucleotides that are processed from hairpin precursors by Dicer-like enzymes. MicroRNAs can negatively regulate gene expression by attenuating translation or by directing mRNA cleavage. Mature sequence: UUUUCUUCUACUUCUUGCACA                                                                                                                                                                                                                                                                                                                                                                                                                                                                                                                                                                                                                                                                                                                                                                                                                                                                                                                                   \n",
       "8 pyrophosphorylase 1 Encodes a soluble protein with inorganic pyrophosphatase activity that is highly specific for Mg-inorganic pyrophosphate. pyrophosphorylase 1 (PPa1); FUNCTIONS IN: inorganic diphosphatase activity; INVOLVED IN: phosphate metabolic process, metabolic process; LOCATED IN: nucleus, membrane, cytoplasm; EXPRESSED IN: 24 plant structures; EXPRESSED DURING: 15 growth stages; CONTAINS InterPro DOMAIN/s: Inorganic pyrophosphatase (InterPro:IPR008162); BEST Arabidopsis thaliana protein match is: pyrophosphorylase 3 (TAIR:AT2G46860.1); Has 5987 Blast hits to 5987 proteins in 1845 species: Archae - 172; Bacteria - 4313; Metazoa - 247; Fungi - 261; Plants - 270; Viruses - 0; Other Eukaryotes - 724 (source: NCBI BLink).                                                                                                                                                                                                                                                                                                                                                                                                                                                                                                                    "
      ]
     },
     "metadata": {},
     "output_type": "display_data"
    }
   ],
   "source": [
    "head(sec2)"
   ]
  },
  {
   "cell_type": "code",
   "execution_count": 87,
   "metadata": {},
   "outputs": [
    {
     "data": {
      "text/html": [
       "<style>\n",
       ".list-inline {list-style: none; margin:0; padding: 0}\n",
       ".list-inline>li {display: inline-block}\n",
       ".list-inline>li:not(:last-child)::after {content: \"\\00b7\"; padding: 0 .5ex}\n",
       "</style>\n",
       "<ol class=list-inline><li>32833</li><li>8</li></ol>\n"
      ],
      "text/latex": [
       "\\begin{enumerate*}\n",
       "\\item 32833\n",
       "\\item 8\n",
       "\\end{enumerate*}\n"
      ],
      "text/markdown": [
       "1. 32833\n",
       "2. 8\n",
       "\n",
       "\n"
      ],
      "text/plain": [
       "[1] 32833     8"
      ]
     },
     "metadata": {},
     "output_type": "display_data"
    },
    {
     "data": {
      "text/html": [
       "<style>\n",
       ".list-inline {list-style: none; margin:0; padding: 0}\n",
       ".list-inline>li {display: inline-block}\n",
       ".list-inline>li:not(:last-child)::after {content: \"\\00b7\"; padding: 0 .5ex}\n",
       "</style>\n",
       "<ol class=list-inline><li>25982</li><li>8</li></ol>\n"
      ],
      "text/latex": [
       "\\begin{enumerate*}\n",
       "\\item 25982\n",
       "\\item 8\n",
       "\\end{enumerate*}\n"
      ],
      "text/markdown": [
       "1. 25982\n",
       "2. 8\n",
       "\n",
       "\n"
      ],
      "text/plain": [
       "[1] 25982     8"
      ]
     },
     "metadata": {},
     "output_type": "display_data"
    }
   ],
   "source": [
    "  #make DGElist\n",
    "  x3 <- DGEList(counts = bulk, genes = rownames(bulk))\n",
    "  \n",
    "  \n",
    "  #reads per library uniquely mapped to a gene:\n",
    "  \n",
    "  #make cpm and lcpm\n",
    "  cpm <- cpm(x3)\n",
    "  lcpm <- cpm(x3, log=TRUE)\n",
    "  \n",
    "  #keep only genes that are expressed. \"Expressed\" here means counts observed in at least 3 samples\n",
    "  dim(x3)\n",
    "  keep.exprs <- rowSums(cpm>0)>=3\n",
    "  x3 <- x3[keep.exprs,, keep.lib.sizes=FALSE]\n",
    "  dim(x3) #compare to dim(x) above\n",
    "  \n",
    "  #normalize data after removing low expressed genes\n",
    "  x3 <- calcNormFactors(x3)\n",
    "  \n",
    "  #cpm, lcpm of normalized values\n",
    "  cpm <- cpm(x3)\n",
    "  lcpm <- cpm(x3, log=TRUE)\n",
    "  \n",
    "  \n",
    "  #account for factors in experiment\n",
    "  phenotype=as.factor(c(\"wt\", \"wt\", \"wt\", \"wt\", \"mut\", \"mut\", \"mut\", \"mut\"))\n",
    "  #method=as.factor(c(\"total\", \"total\", \"sort\", \"sort\", \"total\", \"total\", \"sort\", \"sort\"))\n",
    "  #insertion=as.factor(c(\"0\",\"0\",\"1\",\"1\",\"0\",\"0\",\"2\",\"2\"))\n",
    "  \n",
    "  #assign factors to DGElist\n",
    "  x3$samples$phenotype=phenotype\n",
    "  x3$samples$method=method\n",
    "  #x3$samples$insertion=insertion\n",
    "  \n",
    "  #make design matrix of experimental factors\n",
    "  design <- model.matrix(~0+phenotype)#+method)#+insertion)\n",
    "  #colnames(design) <- c(levels(phenotype), levels(method))#, levels(insertion))\n",
    "  #design #check matrix\n",
    "  \n",
    "  #fit normalized dge list to model matrix\n",
    "  x3 <- estimateDisp(x3, design)\n",
    "  fit <- glmQLFit(x3, design)\n",
    "\n",
    "  #tr <- glmTreat(fit, coef=2, lfc=1)\n",
    "  #topTags(tr)\n",
    "  \n",
    "  #making contrast matrix for tests of interest\n",
    "  my.contrasts <- makeContrasts(s1_v_s2=phenotypewt-phenotypemut, levels=design)\n",
    "  \n",
    "  #QLF tests \n",
    "  s1_v_s2 <- glmQLFTest(fit, contrast=my.contrasts[,\"s1_v_s2\"]) \n",
    " \n",
    "   \n",
    "  #extract results. toptags adds FDR column.\n",
    "  sec3 <- data.frame(topTags(s1_v_s2, n = \"Inf\")$table)\n",
    "  sec3[[\"wt\"]] <- apply(cpm[sec3[[\"genes\"]],c(1,2,3,4)], 1,mean)\n",
    "  sec3[[\"mut\"]] <- apply(cpm[sec3[[\"genes\"]],c(5,6,7,8)], 1,mean)\n",
    "  \n",
    "  sec3 = cbind(sec3, cpm[sec3$genes,c(1,2,3,4,5,6,7,8)])\n",
    "  sec3=merge(sec3, annotations, by.x=c(\"genes\"), by.y=c(\"gene_id\"), all.x = T, all.y = F)\n",
    "  sec3= sec3[!duplicated(sec3$genes), ]\n",
    " \n"
   ]
  },
  {
   "cell_type": "code",
   "execution_count": 148,
   "metadata": {},
   "outputs": [
    {
     "data": {
      "text/html": [
       "<style>\n",
       ".list-inline {list-style: none; margin:0; padding: 0}\n",
       ".list-inline>li {display: inline-block}\n",
       ".list-inline>li:not(:last-child)::after {content: \"\\00b7\"; padding: 0 .5ex}\n",
       "</style>\n",
       "<ol class=list-inline><li>22974</li><li>8</li></ol>\n"
      ],
      "text/latex": [
       "\\begin{enumerate*}\n",
       "\\item 22974\n",
       "\\item 8\n",
       "\\end{enumerate*}\n"
      ],
      "text/markdown": [
       "1. 22974\n",
       "2. 8\n",
       "\n",
       "\n"
      ],
      "text/plain": [
       "[1] 22974     8"
      ]
     },
     "metadata": {},
     "output_type": "display_data"
    },
    {
     "data": {
      "text/html": [
       "<style>\n",
       ".list-inline {list-style: none; margin:0; padding: 0}\n",
       ".list-inline>li {display: inline-block}\n",
       ".list-inline>li:not(:last-child)::after {content: \"\\00b7\"; padding: 0 .5ex}\n",
       "</style>\n",
       "<ol class=list-inline><li>18032</li><li>8</li></ol>\n"
      ],
      "text/latex": [
       "\\begin{enumerate*}\n",
       "\\item 18032\n",
       "\\item 8\n",
       "\\end{enumerate*}\n"
      ],
      "text/markdown": [
       "1. 18032\n",
       "2. 8\n",
       "\n",
       "\n"
      ],
      "text/plain": [
       "[1] 18032     8"
      ]
     },
     "metadata": {},
     "output_type": "display_data"
    }
   ],
   "source": [
    "  #make DGElist\n",
    "  x3 <- DGEList(counts = pb_df, genes = rownames(pb_df))\n",
    "  \n",
    "  \n",
    "  #reads per library uniquely mapped to a gene:\n",
    "  \n",
    "  #make cpm and lcpm\n",
    "  cpm <- cpm(x3)\n",
    "  lcpm <- cpm(x3, log=TRUE)\n",
    "  \n",
    "  #keep only genes that are expressed. \"Expressed\" here means counts observed in at least 3 samples\n",
    "  dim(x3)\n",
    "  keep.exprs <- rowSums(cpm>0)>=3\n",
    "  x3 <- x3[keep.exprs,, keep.lib.sizes=FALSE]\n",
    "  dim(x3) #compare to dim(x) above\n",
    "  \n",
    "  #normalize data after removing low expressed genes\n",
    "  x3 <- calcNormFactors(x3)\n",
    "  \n",
    "  #cpm, lcpm of normalized values\n",
    "  cpm <- cpm(x3)\n",
    "  lcpm <- cpm(x3, log=TRUE)\n",
    "  \n",
    "  \n",
    "  #account for factors in experiment\n",
    "  phenotype=as.factor(c(\"wt\", \"wt\", \"wt\", \"wt\", \"mut\", \"mut\", \"mut\", \"mut\"))\n",
    "  #method=as.factor(c(\"total\", \"total\", \"sort\", \"sort\", \"total\", \"total\", \"sort\", \"sort\"))\n",
    "  #insertion=as.factor(c(\"0\",\"0\",\"1\",\"1\",\"0\",\"0\",\"2\",\"2\"))\n",
    "  \n",
    "  #assign factors to DGElist\n",
    "  x3$samples$phenotype=phenotype\n",
    "  x3$samples$method=method\n",
    "  #x3$samples$insertion=insertion\n",
    "  \n",
    "  #make design matrix of experimental factors\n",
    "  design <- model.matrix(~0+phenotype)#+method)#+insertion)\n",
    "  #colnames(design) <- c(levels(phenotype), levels(method))#, levels(insertion))\n",
    "  #design #check matrix\n",
    "  \n",
    "  #fit normalized dge list to model matrix\n",
    "  x3 <- estimateDisp(x3, design)\n",
    "  fit <- glmQLFit(x3, design)\n",
    "\n",
    "  #tr <- glmTreat(fit, coef=2, lfc=1)\n",
    "  #topTags(tr)\n",
    "  \n",
    "  #making contrast matrix for tests of interest\n",
    "  my.contrasts <- makeContrasts(s1_v_s2=phenotypewt-phenotypemut, levels=design)\n",
    "  \n",
    "  #QLF tests \n",
    "  s1_v_s2 <- glmQLFTest(fit, contrast=my.contrasts[,\"s1_v_s2\"]) \n",
    " \n",
    "   \n",
    "  #extract results. toptags adds FDR column.\n",
    "  sec3 <- data.frame(topTags(s1_v_s2, n = \"Inf\")$table)\n",
    "  sec3[[\"wt\"]] <- apply(cpm[sec3[[\"genes\"]],c(1,2,3,4)], 1,mean)\n",
    "  sec3[[\"mut\"]] <- apply(cpm[sec3[[\"genes\"]],c(5,6,7,8)], 1,mean)\n",
    "  \n",
    "  sec3 = cbind(sec3, cpm[sec3$genes,c(1,2,3,4,5,6,7,8)])\n",
    "  sec3=merge(sec3, annotations, by.x=c(\"genes\"), by.y=c(\"gene_id\"), all.x = T, all.y = F)\n",
    "  sec3= sec3[!duplicated(sec3$genes), ]\n",
    " \n"
   ]
  }
 ],
 "metadata": {
  "kernelspec": {
   "display_name": "R",
   "language": "R",
   "name": "ir"
  },
  "language_info": {
   "codemirror_mode": "r",
   "file_extension": ".r",
   "mimetype": "text/x-r-source",
   "name": "R",
   "pygments_lexer": "r",
   "version": "3.6.3"
  }
 },
 "nbformat": 4,
 "nbformat_minor": 4
}
