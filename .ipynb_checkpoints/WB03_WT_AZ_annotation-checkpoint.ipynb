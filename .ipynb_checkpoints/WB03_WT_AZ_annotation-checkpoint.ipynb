{
 "cells": [
  {
   "cell_type": "code",
   "execution_count": 1,
   "metadata": {},
   "outputs": [],
   "source": [
    "#THIS SCRIPT PERFORMS AZ CLUSTER IDENTIFICATION\n",
    "\n",
    "suppressMessages(library(Seurat))\n",
    "library(ggplot2)\n",
    "\n",
    "bulk_data = read.csv(\"../../data/buckets/single_cell_bucket_3_4_21/IWT_RNA_seq/scRNA_flowers/outputs/bulk_edger_10_16_20.csv\")\n",
    "\n",
    "annotations = read.csv(\"R_functions/gene_descriptions.csv\", header = F)\n",
    "colnames(annotations) = c(\"gene_id\", \"description\")\n",
    "annotations$gene_id = substr(annotations$gene_id, 1, 9)\n",
    "\n",
    "bp = read.csv(\"../data/shiny_go_analysis/figure_3/bp.csv\")\n",
    "cc = read.csv(\"../data/shiny_go_analysis/figure_3/cc.csv\")\n",
    "mf = read.csv(\"../data/shiny_go_analysis/figure_3/mf.csv\")"
   ]
  },
  {
   "cell_type": "code",
   "execution_count": 2,
   "metadata": {},
   "outputs": [
    {
     "data": {
      "text/plain": [
       "R version 3.6.3 (2020-02-29)\n",
       "Platform: x86_64-conda_cos6-linux-gnu (64-bit)\n",
       "Running under: Ubuntu 20.04.2 LTS\n",
       "\n",
       "Matrix products: default\n",
       "BLAS/LAPACK: /home/robotmessenger810/anaconda3/envs/r_3/lib/libopenblasp-r0.3.9.so\n",
       "\n",
       "locale:\n",
       " [1] LC_CTYPE=en_US.UTF-8       LC_NUMERIC=C              \n",
       " [3] LC_TIME=en_US.UTF-8        LC_COLLATE=en_US.UTF-8    \n",
       " [5] LC_MONETARY=en_US.UTF-8    LC_MESSAGES=en_US.UTF-8   \n",
       " [7] LC_PAPER=en_US.UTF-8       LC_NAME=C                 \n",
       " [9] LC_ADDRESS=C               LC_TELEPHONE=C            \n",
       "[11] LC_MEASUREMENT=en_US.UTF-8 LC_IDENTIFICATION=C       \n",
       "\n",
       "attached base packages:\n",
       "[1] stats     graphics  grDevices utils     datasets  methods   base     \n",
       "\n",
       "other attached packages:\n",
       "[1] ggplot2_3.3.5 Seurat_3.1.5 \n",
       "\n",
       "loaded via a namespace (and not attached):\n",
       " [1] httr_1.4.2         tidyr_1.1.3        jsonlite_1.7.2     viridisLite_0.4.0 \n",
       " [5] splines_3.6.3      leiden_0.3.9       ggrepel_0.9.1      globals_0.12.5    \n",
       " [9] pillar_1.6.4       lattice_0.20-45    glue_1.6.0         reticulate_1.16   \n",
       "[13] uuid_0.1-4         digest_0.6.29      RColorBrewer_1.1-2 colorspace_2.0-2  \n",
       "[17] cowplot_1.1.1      htmltools_0.5.0    Matrix_1.2-18      plyr_1.8.6        \n",
       "[21] pkgconfig_2.0.3    tsne_0.1-3         listenv_0.8.0      purrr_0.3.4       \n",
       "[25] patchwork_1.1.1    scales_1.1.1       RANN_2.6.1         Rtsne_0.15        \n",
       "[29] tibble_3.1.6       generics_0.1.1     ellipsis_0.3.2     withr_2.4.3       \n",
       "[33] repr_1.1.0         ROCR_1.0-11        pbapply_1.5-0      lazyeval_0.2.2    \n",
       "[37] survival_3.1-12    magrittr_2.0.1     crayon_1.4.2       evaluate_0.14     \n",
       "[41] future_1.18.0      fansi_0.5.0        nlme_3.1-147       MASS_7.3-54       \n",
       "[45] ica_1.0-2          tools_3.6.3        fitdistrplus_1.1-1 data.table_1.14.2 \n",
       "[49] lifecycle_1.0.1    stringr_1.4.0      plotly_4.9.2.1     munsell_0.5.0     \n",
       "[53] cluster_2.1.2      irlba_2.3.5        compiler_3.6.3     rsvd_1.0.3        \n",
       "[57] rlang_0.4.12       grid_3.6.3         ggridges_0.5.2     pbdZMQ_0.3-6      \n",
       "[61] IRkernel_1.1       RcppAnnoy_0.0.19   htmlwidgets_1.5.1  igraph_1.2.5      \n",
       "[65] base64enc_0.1-3    gtable_0.3.0       codetools_0.2-18   DBI_1.1.2         \n",
       "[69] reshape2_1.4.4     R6_2.5.1           gridExtra_2.3      zoo_1.8-8         \n",
       "[73] dplyr_1.0.7        uwot_0.1.8         future.apply_1.6.0 utf8_1.2.2        \n",
       "[77] KernSmooth_2.23-20 ape_5.3            stringi_1.7.6      parallel_3.6.3    \n",
       "[81] IRdisplay_0.7.0    Rcpp_1.0.7         sctransform_0.2.1  vctrs_0.3.8       \n",
       "[85] png_0.1-7          tidyselect_1.1.1   lmtest_0.9-38     "
      ]
     },
     "metadata": {},
     "output_type": "display_data"
    }
   ],
   "source": [
    "sessionInfo()"
   ]
  },
  {
   "cell_type": "code",
   "execution_count": null,
   "metadata": {},
   "outputs": [],
   "source": [
    "seu_intd_wt_mut = readRDS(file = \"../data/intd_seu_objects/4_12_22_WT_mut.rds\")\n",
    "\n",
    "resolution = .75\n",
    "set.seed(42)\n",
    "DefaultAssay(seu_intd_wt_mut) <- \"integrated\"\n",
    "options(repr.plot.width=12, repr.plot.height=12)\n",
    "seu_intd_wt_mut <- RunPCA(seu_intd_wt_mut, npcs = 100, verbose = FALSE, approx = FALSE)\n",
    "seu_intd_wt_mut <- FindNeighbors(seu_intd_wt_mut, dims = 1:20, verbose = FALSE)\n",
    "seu_intd_wt_mut <- FindClusters(seu_intd_wt_mut, resolution = resolution, algorithm = 3, verbose = FALSE)\n",
    "seu_intd_wt_mut <- RunUMAP(seu_intd_wt_mut, reduction = \"pca\", dims = 1:20, verbose = FALSE)"
   ]
  },
  {
   "cell_type": "code",
   "execution_count": null,
   "metadata": {},
   "outputs": [],
   "source": [
    "options(repr.plot.width= 20, repr.plot.height=10)\n",
    "DimPlot(seu_intd_wt_mut, reduction = \"umap\", label = TRUE, pt.size = 2, split.by = \"geno\")#, cols = c(\"0\" = \"red\"))"
   ]
  },
  {
   "cell_type": "code",
   "execution_count": null,
   "metadata": {},
   "outputs": [],
   "source": [
    "seu_intd_wt = subset(seu_intd_wt_mut, subset = geno == \"WT\")"
   ]
  },
  {
   "cell_type": "code",
   "execution_count": null,
   "metadata": {},
   "outputs": [],
   "source": [
    "#findmarkers\n",
    "cluster_AZ_all = FindAllMarkers(seu_intd_wt,  logfc.threshold = 0, max.cells.per.ident = 1000)"
   ]
  },
  {
   "cell_type": "code",
   "execution_count": null,
   "metadata": {},
   "outputs": [],
   "source": [
    "write.csv(cluster_AZ_all, file = paste(\"../data/for_figures/\", \"AZ_markers_WT_ALL_res_75_April_25_22\", \".csv\", sep=\"\"))"
   ]
  },
  {
   "cell_type": "code",
   "execution_count": null,
   "metadata": {},
   "outputs": [],
   "source": [
    "cluster_AZ_all = readRDS(paste0(\"../data/markers/\", \"AZ_markers_WT_ALL_res_75_April_19_22\", \".rds\"))"
   ]
  },
  {
   "cell_type": "code",
   "execution_count": null,
   "metadata": {},
   "outputs": [],
   "source": [
    "head(cluster_AZ_all[cluster_AZ_all$cluster == 11,])"
   ]
  },
  {
   "cell_type": "code",
   "execution_count": null,
   "metadata": {},
   "outputs": [],
   "source": [
    "#FOR GO ANALYSIS\n",
    "#write AZ specific genes as well as all genes with high enough expression to be included in the analysis (ie the universe of genes for gene set testing)\n",
    "write.csv(cluster_AZ_all[cluster_AZ_all$cluster == 11,], file = paste(\"../data/for_figures/\", \"AZ_spec_genes_universe_WT_res_75_4_25_22\", \".csv\", sep=\"\"), row.names = FALSE)\n",
    "write.csv(unique(cluster_AZ_all$gene), file = paste(\"../data/for_figures/\", \"WT_universe_spec_genes_WT_res_75_4_25_22\", \".csv\", sep=\"\"), row.names = FALSE)"
   ]
  },
  {
   "cell_type": "code",
   "execution_count": 1,
   "metadata": {},
   "outputs": [],
   "source": [
    "#QRT2 data\n",
    "kwak_ptpms=read.csv(\"../data/counts/kwak_ptpms.csv\")\n",
    "rownames(kwak_ptpms) = kwak_ptpms$X\n",
    "kwak_ptpms[,c(1,2,3)] =NULL\n",
    "colnames(kwak_ptpms) = \"counts\"\n",
    "\n",
    "#HAE_YFP sorted\n",
    "YFP_KE = read.csv(\"../data/counts/HAE_sorted.csv\")\n",
    "YFP_av = data.frame(YFP_KE[,2])\n",
    "rownames(YFP_av) = YFP_KE[,1]               \n"
   ]
  },
  {
   "cell_type": "code",
   "execution_count": null,
   "metadata": {},
   "outputs": [],
   "source": [
    "DefaultAssay(seu_intd_wt) = \"RNA\""
   ]
  },
  {
   "cell_type": "code",
   "execution_count": null,
   "metadata": {},
   "outputs": [],
   "source": [
    "#get pseudobulk for each cluster to compare with kwak data\n",
    "pbs = list()\n",
    "count = 1\n",
    "for (l in levels(seu_intd_wt@meta.data$seurat_clusters)) {\n",
    "    pbs[[count]] = rowSums(as.matrix(GetAssayData(seu_intd_wt, slot = \"counts\")[, WhichCells(seu_intd_wt, ident = l)])) \n",
    "    count = count + 1\n",
    "}\n",
    "\n",
    "saveRDS(pbs, \"../data/counts/cluster_pbs_4_13_22\")"
   ]
  },
  {
   "cell_type": "code",
   "execution_count": null,
   "metadata": {},
   "outputs": [],
   "source": [
    "pbs = readRDS(\"../data/counts/cluster_pbs_4_13_22\")"
   ]
  },
  {
   "cell_type": "code",
   "execution_count": null,
   "metadata": {},
   "outputs": [],
   "source": [
    "#convert pseudobulk to TPM\n",
    "count = 1\n",
    "for (c in pbs) {\n",
    "    pbs[[count]] = data.frame(pbs[[count]])/sum(data.frame(pbs[[count]]))*1000000\n",
    "    rns = rownames(pbs[[count]])\n",
    "    pbs[[count]] = pbs[[count]][order(rns),, drop = FALSE]\n",
    "    count = count + 1\n",
    "}"
   ]
  },
  {
   "cell_type": "code",
   "execution_count": null,
   "metadata": {},
   "outputs": [],
   "source": [
    "#QRT2\n",
    "#set dataset\n",
    "dataset = kwak_ptpms\n",
    "cors_spearman = vector()\n",
    "count = 1\n",
    "\n",
    "seu_intd_wt@meta.data$kwak_cor = NULL\n",
    "\n",
    "for (cluster in c(1:length(levels(seu_intd_wt@meta.data$seurat_clusters)))){\n",
    "    test = cbind(pbs[[cluster]][intersect(rownames(pbs[[cluster]]), rownames(dataset)),],dataset[intersect(rownames(pbs[[cluster]]), rownames(dataset)),])\n",
    "    cors_spearman[count] = cor(log(test[,1]+.1), log(test[,2]+.1), method = \"spearman\")\n",
    "    count = count + 1\n",
    "}\n",
    "\n",
    "for (i in c(1:length(levels(seu_intd_wt@meta.data$seurat_clusters)))){\n",
    "    seu_intd_wt@meta.data$kwak_cor[seu_intd_wt@meta.data$seurat_clusters == toString(i-1)] = cors_spearman[i]\n",
    "}\n",
    "\n",
    "plot = FeaturePlot(seu_intd_wt,  features = \"kwak_cor\", pt.size = 1.5, cols = c(\"gray\", \"red\"))\n",
    "print(plot)   \n",
    "ggsave(file=paste0(\"../data/for_figures/UMAPs/kwak_cor_wt_2_1_22.png\"), plot=plot, width=10, height=10)"
   ]
  },
  {
   "cell_type": "code",
   "execution_count": null,
   "metadata": {},
   "outputs": [],
   "source": [
    "#HAE\n",
    "#set dataset\n",
    "dataset = YFP_av\n",
    "cors_spearman = vector()\n",
    "count = 1\n",
    "\n",
    "seu_intd_wt@meta.data$HAE_YFP = NULL\n",
    "\n",
    "for (cluster in c(1:length(levels(seu_intd_wt@meta.data$seurat_clusters)))){\n",
    "    test = cbind(pbs[[cluster]][intersect(rownames(pbs[[cluster]]), rownames(dataset)),],dataset[intersect(rownames(pbs[[cluster]]), rownames(dataset)),])\n",
    "    cors_spearman[count] = cor(log(test[,1]+.1), log(test[,2]+.1), method = \"spearman\")\n",
    "    count = count + 1\n",
    "}\n",
    "\n",
    "for (i in c(1:length(levels(seu_intd_wt@meta.data$seurat_clusters)))){\n",
    "    seu_intd_wt@meta.data$HAE_YFP[seu_intd_wt@meta.data$seurat_clusters == toString(i-1)] = cors_spearman[i]\n",
    "}\n",
    "\n",
    "plot = FeaturePlot(seu_intd_wt,  features = \"HAE_YFP\", pt.size = 1.5, cols = c(\"white\", \"red\"))\n",
    "print(plot)   \n",
    "ggsave(file=paste0(\"/home/robotmessenger810/sc_analysis/data/for_figures/UMAPs/HAE_YFP_cor_wt_2_1_22.png\"), plot=plot, width=10, height=10)"
   ]
  }
 ],
 "metadata": {
  "kernelspec": {
   "display_name": "R",
   "language": "R",
   "name": "ir"
  },
  "language_info": {
   "codemirror_mode": "r",
   "file_extension": ".r",
   "mimetype": "text/x-r-source",
   "name": "R",
   "pygments_lexer": "r",
   "version": "3.6.3"
  }
 },
 "nbformat": 4,
 "nbformat_minor": 4
}
