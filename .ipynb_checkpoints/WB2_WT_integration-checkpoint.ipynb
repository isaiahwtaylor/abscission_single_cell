{
 "cells": [
  {
   "cell_type": "code",
   "execution_count": null,
   "metadata": {},
   "outputs": [],
   "source": [
    "library(here)\n",
    "library(Matrix)\n",
    "library(tidyverse)\n",
    "library(Seurat)\n",
    "library(ggpointdensity)\n",
    "library(scales)\n",
    "library(DropletUtils)\n",
    "library(reticulate)\n",
    "library(repr)\n",
    "#library(DoubletFinder)\n",
    "library(future)\n",
    "library(RColorBrewer)\n",
    "library(edgeR)\n",
    "library(limma)\n",
    "library(GO.db)\n",
    "library(org.Hs.eg.db)\n",
    "#library(PCAtools)\n",
    "options(future.globals.maxSize = 100000 * 1024^2)\n",
    "\n",
    "proto_genes=read.csv(\"../data/bulk_data/protoplasting.csv\")\n",
    "proto_list=as.character(proto_genes[abs(proto_genes$logFC) > 1,]$genes)\n",
    "bulk_data = read.csv(\"/home/robotmessenger810/data/buckets/single_cell_bucket_3_4_21/IWT_RNA_seq/scRNA_flowers/outputs/bulk_edger_10_16_20.csv\")\n"
   ]
  },
  {
   "cell_type": "code",
   "execution_count": null,
   "metadata": {},
   "outputs": [],
   "source": [
    "# THIS IS THE PREPROCESSING TO GET TO THE INTEGRATED SEURAT OBJECT. JUST UNCOMMENT ENTIRE CELL.\n",
    "#IWT FILTERING\n",
    "wt_1_seu = readRDS(file = \"../data/seurat_objects/seurat_raw_3_11_21/sc_26_combined.rds\")\n",
    "wt_2_seu = readRDS(file = \"../data/seurat_objects/seurat_raw_3_11_21/sc_67.rds\")\n",
    "YFP_1_seu = readRDS(file = \"../data/seurat_objects/seurat_raw_3_11_21/sc_101.rds\")\n",
    "YFP_2_seu = readRDS(file = \"../data/seurat_objects/seurat_raw_3_11_21/sc_103.rds\")\n",
    "\n",
    "#set experimental condition\n",
    "wt_1_seu@meta.data$condition = \"wt_unsorted\"\n",
    "wt_2_seu@meta.data$condition = \"wt_unsorted\"\n",
    "YFP_1_seu@meta.data$condition = \"wt_sorted\"\n",
    "YFP_2_seu@meta.data$condition = \"wt_sorted\"\n",
    "\n",
    "#set batch\n",
    "wt_1_seu@meta.data$batch = \"1\"\n",
    "wt_2_seu@meta.data$batch = \"2\"\n",
    "YFP_1_seu@meta.data$batch  = \"3\"\n",
    "YFP_2_seu@meta.data$batch  = \"3\""
   ]
  },
  {
   "cell_type": "code",
   "execution_count": null,
   "metadata": {},
   "outputs": [],
   "source": [
    "#for stats\n",
    "counts1 <- as.matrix(GetAssayData(subset(wt_1_seu), slot = \"counts\"))\n",
    "counts2 <- as.matrix(GetAssayData(subset(wt_2_seu), slot = \"counts\"))\n",
    "counts5 <- as.matrix(GetAssayData(subset(YFP_1_seu), slot = \"counts\"))\n",
    "counts6 <- as.matrix(GetAssayData(subset(YFP_2_seu), slot = \"counts\"))"
   ]
  },
  {
   "cell_type": "code",
   "execution_count": null,
   "metadata": {},
   "outputs": [],
   "source": [
    "#meam # UMIs/cell\n",
    "mean(Matrix::colSums(counts1 > 0))\n",
    "mean(Matrix::colSums(counts2 > 0))\n",
    "mean(Matrix::colSums(counts5 > 0))\n",
    "mean(Matrix::colSums(counts6 > 0))"
   ]
  },
  {
   "cell_type": "code",
   "execution_count": null,
   "metadata": {},
   "outputs": [],
   "source": [
    "#WT\n",
    "wt_1_seu = SCTransform(wt_1_seu)\n",
    "wt_2_seu = SCTransform(wt_2_seu)\n",
    "YFP_1_seu = SCTransform(YFP_1_seu)\n",
    "YFP_2_seu = SCTransform(YFP_2_seu)\n",
    "\n",
    "seu_intd_wt = seu_integrate(wt_1_seu, wt_2_seu, YFP_1_seu, YFP_2_seu, filename = \"1_6_22_IWT\", nfeatures = 3000)"
   ]
  },
  {
   "cell_type": "code",
   "execution_count": null,
   "metadata": {},
   "outputs": [],
   "source": [
    "seu_intd_wt = readRDS(file = \"../data/intd_seu_objects/1_6_22_WT.rds\")"
   ]
  },
  {
   "cell_type": "code",
   "execution_count": null,
   "metadata": {},
   "outputs": [],
   "source": [
    "#1.25 resolution has lowest HAE/HSL2 entropy\n",
    "df = specificity_resolution(seu_intd_wt, c(\"AT4G28490\", \"AT5G65710\"), c(.25, .5, .75, 1, 1.25, 1.5, 1.75, 2))#, 2.25, 2.5, 2.75, 3))\n",
    "saveRDS(df, file = paste(\"../data/specificity_resolution/\", \"WT_specificity_resolution_1_18_22\", \".rds\", sep=\"\"))"
   ]
  },
  {
   "cell_type": "code",
   "execution_count": null,
   "metadata": {},
   "outputs": [],
   "source": [
    "resolution = 1.25\n",
    "set.seed(42)\n",
    "DefaultAssay(seu_intd_wt) <- \"integrated\"\n",
    "options(repr.plot.width=12, repr.plot.height=12)\n",
    "# Run the standard workflow for visualization and clustering\n",
    "#all_intd_sct <- ScaleData(all_intd_sct, verbose = FALSE)\n",
    "seu_intd_wt <- RunPCA(seu_intd_wt, npcs = 100, verbose = FALSE, approx = FALSE)\n",
    "#From RunPCA doc: Features to compute PCA on. If features=NULL, PCA will be run using the variable features for the Assay. \n",
    "#Note that the features must be present in the scaled data. Any requested features that are not scaled or have 0 variance \n",
    "#will be dropped, and the PCA will be run using the remaining features.\n",
    "\n",
    "#previously run 20 PCs as of 2/14/22\n",
    "seu_intd_wt <- FindNeighbors(seu_intd_wt, dims = 1:20, verbose = FALSE)\n",
    "seu_intd_wt <- FindClusters(seu_intd_wt, resolution = resolution, algorithm = 3, verbose = FALSE)\n",
    "seu_intd_wt <- RunUMAP(seu_intd_wt, reduction = \"pca\", dims = 1:20, verbose = FALSE)"
   ]
  },
  {
   "cell_type": "code",
   "execution_count": null,
   "metadata": {},
   "outputs": [],
   "source": [
    "options(repr.plot.width= 10, repr.plot.height=10)\n",
    "DimPlot(seu_intd_wt, reduction = \"umap\", label = TRUE, pt.size = 1.5)"
   ]
  },
  {
   "cell_type": "code",
   "execution_count": null,
   "metadata": {},
   "outputs": [],
   "source": [
    "saveRDS(seu_intd_wt, file = \"../data/seurat_objects/seurat_WT_intd_2_17_21.rds\")"
   ]
  },
  {
   "cell_type": "code",
   "execution_count": null,
   "metadata": {},
   "outputs": [],
   "source": [
    "#takes a list of Seurat objects with SCT transform run\n",
    "seu_integrate <- function(..., filename, nfeatures){\n",
    "    seu.list <- list(...) # THIS WILL BE A LIST STORING EVERYTHING:\n",
    "    \n",
    "    ref.genes = rownames(seu.list[[1]]@assays$RNA)\n",
    "    assay_list <- rep(\"SCT\", length(seu.list))\n",
    "# loop\n",
    "#    for (i in 1:length(seu.list)) {\n",
    "#         seu.list[[i]]@assays$spliced_RNA <- NULL\n",
    "#         seu.list[[i]]@assays$spliced_SCT <- NULL\n",
    "#         seu.list[[i]]@assays$unspliced_RNA <- NULL\n",
    "#         seu.list[[i]]@assays$unspliced_SCT <- NULL\n",
    "        \n",
    "\n",
    "    # integration\n",
    "    rc.features <- SelectIntegrationFeatures(object.list = seu.list, nfeatures = nfeatures)\n",
    "    rc.features <- rc.features[(!c(grepl(\"ATMG\",rc.features) | grepl(\"ATCG\",rc.features) | rc.features%in%proto_list))]\n",
    "    \n",
    "    seu.list <- PrepSCTIntegration(object.list = seu.list, anchor.features = rc.features, verbose = TRUE, assay = assay_list)\n",
    "    seu.list <- lapply(X = seu.list, FUN = RunPCA, verbose = FALSE, features = rc.features)\n",
    "    rc.anchors <- FindIntegrationAnchors(object.list = seu.list, normalization.method = \"SCT\", anchor.features = rc.features, verbose = TRUE, reference=1, reduction = \"rpca\")\n",
    "    \n",
    "    to_integrate <- Reduce(intersect, lapply(rc.anchors@object.list, rownames))\n",
    "    # integrate data and keep full geneset\n",
    "       \n",
    "    rc.integrated <- IntegrateData(anchorset = rc.anchors,  features.to.integrate = to_integrate, normalization.method = \"SCT\", verbose = TRUE)\n",
    "    rc.integrated <- RunPCA(rc.integrated, npcs = 50, verbose = FALSE, approx = FALSE)\n",
    "    \n",
    "    #save object    \n",
    "    saveRDS(rc.integrated, file = paste(\"../data/intd_seu_objects/\",filename,\".rds\", sep = \"\"))\n",
    "    return(rc.integrated)\n",
    "#    }\n",
    "}\n",
    "\n",
    "\n",
    "specificity_resolution <- function(seu_obj1, gois, resolutions) { #..., filename, nfeatures){\n",
    "    total_sum_df = data.frame(matrix(ncol = 6)) #cols = resolution, cluster, goi count, total count, num cells, cross-entropy (?)\n",
    "    count = 0\n",
    "\n",
    "    for (r in resolutions) {\n",
    "        set.seed(42)\n",
    "        seu_obj = seu_obj1\n",
    "        DefaultAssay(seu_obj) <- \"integrated\"\n",
    "        options(repr.plot.width=12, repr.plot.height=12)\n",
    "        seu_obj <- RunPCA(seu_obj, npcs = 100, verbose = FALSE, approx = FALSE)\n",
    "        seu_obj <- FindNeighbors(seu_obj, dims = 1:20, verbose = FALSE)\n",
    "        seu_obj <- FindClusters(seu_obj, resolution = r, algorithm = 3, verbose = FALSE)\n",
    "        seu_obj <- RunUMAP(seu_obj, reduction = \"pca\", dims = 1:20, verbose = FALSE)\n",
    "\n",
    "        clusters = unique(Idents(seu_obj))\n",
    "        seu_obj@active.assay = \"SCT\" #\"SCT\"\n",
    "        count = 0\n",
    "        partial_sum_df = data.frame(matrix(ncol = 6))\n",
    "        for (c in clusters) {\n",
    "            count = count + 1\n",
    "            AZ_cells = (as.matrix(GetAssayData(subset(seu_obj, slot = \"counts\")[, WhichCells(seu_obj, ident = c)])))\n",
    "            goi_sum = sum(AZ_cells[gois,])\n",
    "            total_sum = sum(AZ_cells)\n",
    "\n",
    "            partial_sum_df[count,1] = r\n",
    "            partial_sum_df[count,2] = c\n",
    "            partial_sum_df[count,3] = goi_sum\n",
    "            partial_sum_df[count,4] = total_sum\n",
    "            partial_sum_df[count,5] = dim(AZ_cells)[2]\n",
    "\n",
    "        }\n",
    "\n",
    "        for (c in clusters) {\n",
    "            others = partial_sum_df[partial_sum_df[,2] != c,]\n",
    "            cluster = partial_sum_df[partial_sum_df[,2] == c,]\n",
    "            #partial_sum_df[which(partial_sum_df[,2]==c),6] = (sum(cluster[,3]!=0)/dim(cluster)[1])/(sum(others[,3]!=0)/dim(others[1]))\n",
    "            partial_sum_df[which(partial_sum_df[,2]==c),6] = (sum(cluster[,3])/sum(cluster[,4]))/(sum(others[,3])/sum(others[,4]))\n",
    "        }\n",
    "        total_sum_df = rbind(total_sum_df, partial_sum_df)\n",
    "    }\n",
    "    return(total_sum_df[-1,])\n",
    "}"
   ]
  }
 ],
 "metadata": {
  "kernelspec": {
   "display_name": "R",
   "language": "R",
   "name": "ir"
  },
  "language_info": {
   "codemirror_mode": "r",
   "file_extension": ".r",
   "mimetype": "text/x-r-source",
   "name": "R",
   "pygments_lexer": "r",
   "version": "3.6.3"
  }
 },
 "nbformat": 4,
 "nbformat_minor": 4
}
