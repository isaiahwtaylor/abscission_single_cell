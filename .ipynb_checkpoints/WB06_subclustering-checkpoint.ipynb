{
 "cells": [
  {
   "cell_type": "code",
   "execution_count": 1,
   "metadata": {},
   "outputs": [
    {
     "name": "stderr",
     "output_type": "stream",
     "text": [
      "here() starts at /home/robotmessenger810/sc_analysis/code\n",
      "\n",
      "── \u001b[1mAttaching packages\u001b[22m ─────────────────────────────────────── tidyverse 1.3.0 ──\n",
      "\n",
      "\u001b[32m✔\u001b[39m \u001b[34mggplot2\u001b[39m 3.3.5     \u001b[32m✔\u001b[39m \u001b[34mpurrr  \u001b[39m 0.3.4\n",
      "\u001b[32m✔\u001b[39m \u001b[34mtibble \u001b[39m 3.1.6     \u001b[32m✔\u001b[39m \u001b[34mdplyr  \u001b[39m 1.0.7\n",
      "\u001b[32m✔\u001b[39m \u001b[34mtidyr  \u001b[39m 1.1.3     \u001b[32m✔\u001b[39m \u001b[34mstringr\u001b[39m 1.4.0\n",
      "\u001b[32m✔\u001b[39m \u001b[34mreadr  \u001b[39m 1.4.0     \u001b[32m✔\u001b[39m \u001b[34mforcats\u001b[39m 0.5.0\n",
      "\n",
      "── \u001b[1mConflicts\u001b[22m ────────────────────────────────────────── tidyverse_conflicts() ──\n",
      "\u001b[31m✖\u001b[39m \u001b[34mtidyr\u001b[39m::\u001b[32mexpand()\u001b[39m masks \u001b[34mMatrix\u001b[39m::expand()\n",
      "\u001b[31m✖\u001b[39m \u001b[34mdplyr\u001b[39m::\u001b[32mfilter()\u001b[39m masks \u001b[34mstats\u001b[39m::filter()\n",
      "\u001b[31m✖\u001b[39m \u001b[34mdplyr\u001b[39m::\u001b[32mlag()\u001b[39m    masks \u001b[34mstats\u001b[39m::lag()\n",
      "\u001b[31m✖\u001b[39m \u001b[34mtidyr\u001b[39m::\u001b[32mpack()\u001b[39m   masks \u001b[34mMatrix\u001b[39m::pack()\n",
      "\u001b[31m✖\u001b[39m \u001b[34mtidyr\u001b[39m::\u001b[32munpack()\u001b[39m masks \u001b[34mMatrix\u001b[39m::unpack()\n",
      "\n",
      "Loading required package: limma\n",
      "\n"
     ]
    }
   ],
   "source": [
    "#THIS SCRIPT PERFORMS SUBCLUSTERING OF THE WT AND MUTANT AZ CELLS, IDENTIFIES PUTATIVE SECESSION AND RESIDUUM CELLS, AND PERFORMS GENE ENRICHMENT ANALYSIS.\n",
    "\n",
    "library(here)\n",
    "library(Matrix)\n",
    "library(tidyverse)\n",
    "library(Seurat)\n",
    "library(edgeR)\n",
    "library(limma)\n",
    "source(here(\"R_functions\",\"edgeR_function.R\"))\n",
    "\n",
    "annotations = read.csv(\"R_functions/gene_descriptions.csv\", header = F)\n",
    "colnames(annotations) = c(\"gene_id\", \"description\")\n",
    "annotations$gene_id = substr(annotations$gene_id, 1, 9)\n",
    "\n",
    "proto_genes=read.csv(\"../data/bulk_data/protoplasting.csv\")\n",
    "proto_list=as.character(proto_genes[abs(proto_genes$logFC) > 1,]$genes)\n",
    "bulk_data = read.csv(\"/home/robotmessenger810/data/buckets/single_cell_bucket_3_4_21/IWT_RNA_seq/scRNA_flowers/outputs/bulk_edger_10_16_20.csv\")\n"
   ]
  },
  {
   "cell_type": "code",
   "execution_count": 2,
   "metadata": {},
   "outputs": [
    {
     "data": {
      "text/plain": [
       "R version 3.6.3 (2020-02-29)\n",
       "Platform: x86_64-conda_cos6-linux-gnu (64-bit)\n",
       "Running under: Ubuntu 20.04.2 LTS\n",
       "\n",
       "Matrix products: default\n",
       "BLAS/LAPACK: /home/robotmessenger810/anaconda3/envs/r_3/lib/libopenblasp-r0.3.9.so\n",
       "\n",
       "locale:\n",
       " [1] LC_CTYPE=en_US.UTF-8       LC_NUMERIC=C              \n",
       " [3] LC_TIME=en_US.UTF-8        LC_COLLATE=en_US.UTF-8    \n",
       " [5] LC_MONETARY=en_US.UTF-8    LC_MESSAGES=en_US.UTF-8   \n",
       " [7] LC_PAPER=en_US.UTF-8       LC_NAME=C                 \n",
       " [9] LC_ADDRESS=C               LC_TELEPHONE=C            \n",
       "[11] LC_MEASUREMENT=en_US.UTF-8 LC_IDENTIFICATION=C       \n",
       "\n",
       "attached base packages:\n",
       "[1] stats     graphics  grDevices utils     datasets  methods   base     \n",
       "\n",
       "other attached packages:\n",
       " [1] edgeR_3.28.1    limma_3.42.2    Seurat_3.1.5    forcats_0.5.0  \n",
       " [5] stringr_1.4.0   dplyr_1.0.7     purrr_0.3.4     readr_1.4.0    \n",
       " [9] tidyr_1.1.3     tibble_3.1.6    ggplot2_3.3.5   tidyverse_1.3.0\n",
       "[13] Matrix_1.2-18   here_0.1       \n",
       "\n",
       "loaded via a namespace (and not attached):\n",
       " [1] Rtsne_0.15         colorspace_2.0-2   ellipsis_0.3.2     ggridges_0.5.2    \n",
       " [5] rprojroot_2.0.2    IRdisplay_0.7.0    base64enc_0.1-3    fs_1.5.2          \n",
       " [9] rstudioapi_0.13    leiden_0.3.9       listenv_0.8.0      ggrepel_0.9.1     \n",
       "[13] fansi_0.5.0        lubridate_1.7.8    xml2_1.3.1         codetools_0.2-18  \n",
       "[17] splines_3.6.3      IRkernel_1.1       jsonlite_1.7.2     broom_0.5.5       \n",
       "[21] ica_1.0-2          cluster_2.1.2      dbplyr_1.4.2       png_0.1-7         \n",
       "[25] uwot_0.1.8         sctransform_0.2.1  compiler_3.6.3     httr_1.4.2        \n",
       "[29] backports_1.4.1    assertthat_0.2.1   lazyeval_0.2.2     cli_3.1.0         \n",
       "[33] htmltools_0.5.0    tools_3.6.3        rsvd_1.0.3         igraph_1.2.5      \n",
       "[37] gtable_0.3.0       glue_1.6.0         RANN_2.6.1         reshape2_1.4.4    \n",
       "[41] Rcpp_1.0.7         cellranger_1.1.0   vctrs_0.3.8        ape_5.3           \n",
       "[45] nlme_3.1-147       lmtest_0.9-38      globals_0.12.5     rvest_0.3.5       \n",
       "[49] lifecycle_1.0.1    irlba_2.3.5        future_1.18.0      MASS_7.3-54       \n",
       "[53] zoo_1.8-8          scales_1.1.1       hms_1.1.0          parallel_3.6.3    \n",
       "[57] RColorBrewer_1.1-2 reticulate_1.16    pbapply_1.5-0      gridExtra_2.3     \n",
       "[61] stringi_1.7.6      repr_1.1.0         rlang_0.4.12       pkgconfig_2.0.3   \n",
       "[65] evaluate_0.14      lattice_0.20-45    ROCR_1.0-11        patchwork_1.1.1   \n",
       "[69] htmlwidgets_1.5.1  cowplot_1.1.1      tidyselect_1.1.1   RcppAnnoy_0.0.19  \n",
       "[73] plyr_1.8.6         magrittr_2.0.1     R6_2.5.1           generics_0.1.1    \n",
       "[77] pbdZMQ_0.3-6       DBI_1.1.2          pillar_1.6.4       haven_2.3.1       \n",
       "[81] withr_2.4.3        fitdistrplus_1.1-1 survival_3.1-12    future.apply_1.6.0\n",
       "[85] tsne_0.1-3         modelr_0.1.6       crayon_1.4.2       uuid_0.1-4        \n",
       "[89] KernSmooth_2.23-20 utf8_1.2.2         plotly_4.9.2.1     locfit_1.5-9.4    \n",
       "[93] grid_3.6.3         readxl_1.3.1       data.table_1.14.2  reprex_0.3.0      \n",
       "[97] digest_0.6.29      munsell_0.5.0      viridisLite_0.4.0 "
      ]
     },
     "metadata": {},
     "output_type": "display_data"
    }
   ],
   "source": [
    "sessionInfo()"
   ]
  },
  {
   "cell_type": "code",
   "execution_count": 3,
   "metadata": {},
   "outputs": [],
   "source": [
    "seu_intd_wt_mut = readRDS(file = \"../data/intd_seu_objects/4_12_22_WT_mut.rds\")"
   ]
  },
  {
   "cell_type": "code",
   "execution_count": null,
   "metadata": {},
   "outputs": [],
   "source": [
    "resolution = .75\n",
    "set.seed(42)\n",
    "DefaultAssay(seu_intd_wt_mut_mut) <- \"integrated\"\n",
    "options(repr.plot.width=12, repr.plot.height=12)\n",
    "# Run the standard workflow for visualization and clustering\n",
    "seu_intd_wt_mut_mut <- RunPCA(seu_intd_wt_mut_mut, npcs = 100, verbose = FALSE, approx = FALSE)\n",
    "seu_intd_wt_mut_mut <- FindNeighbors(seu_intd_wt_mut_mut, dims = 1:20, verbose = FALSE)\n",
    "seu_intd_wt_mut_mut <- FindClusters(seu_intd_wt_mut_mut, resolution = resolution, algorithm = 3, verbose = FALSE)\n",
    "seu_intd_wt_mut_mut <- RunUMAP(seu_intd_wt_mut_mut, reduction = \"pca\", dims = 1:20, verbose = FALSE)"
   ]
  },
  {
   "cell_type": "code",
   "execution_count": null,
   "metadata": {},
   "outputs": [],
   "source": [
    "cluster = \"11\"\n",
    "\n",
    "wt_1_AZ <- subset(seu_intd_wt_mut, subset = orig.ident == \"sc_26_combined\")[, WhichCells(subset(seu_intd_wt_mut, subset = orig.ident == \"sc_26_combined\"), ident = cluster)]\n",
    "wt_2_AZ <- subset(seu_intd_wt_mut, subset = orig.ident == \"sc_67\")[, WhichCells(subset(seu_intd_wt_mut, subset = orig.ident == \"sc_67\"), ident = cluster)]\n",
    "YFP_1_AZ <- subset(seu_intd_wt_mut, subset = orig.ident == \"sc_101\")[, WhichCells(subset(seu_intd_wt_mut, subset = orig.ident == \"sc_101\"), ident = cluster)]\n",
    "YFP_2_AZ <- subset(seu_intd_wt_mut, subset = orig.ident == \"sc_103\")[, WhichCells(subset(seu_intd_wt_mut, subset = orig.ident == \"sc_103\"), ident = cluster)]"
   ]
  },
  {
   "cell_type": "code",
   "execution_count": null,
   "metadata": {},
   "outputs": [],
   "source": [
    "wt_1_seu = SCTransform(wt_1_AZ)\n",
    "wt_2_seu = SCTransform(wt_2_AZ)\n",
    "YFP_1_seu = SCTransform(YFP_1_AZ)\n",
    "YFP_2_seu = SCTransform(YFP_2_AZ)"
   ]
  },
  {
   "cell_type": "code",
   "execution_count": null,
   "metadata": {},
   "outputs": [],
   "source": [
    "seu_intd_wt_AZ = seu_integrate(wt_1_seu, wt_2_seu, YFP_1_seu, YFP_2_seu, filename = \"AZ_only_WT_4_19_22\", nfeatures = 3000)"
   ]
  },
  {
   "cell_type": "code",
   "execution_count": null,
   "metadata": {},
   "outputs": [],
   "source": [
    "seu_intd_wt_AZ = readRDS(\"../data/intd_seu_objects/AZ_only_WT_4_19_22.rds\")"
   ]
  },
  {
   "cell_type": "code",
   "execution_count": null,
   "metadata": {},
   "outputs": [],
   "source": [
    "resolution = .1\n",
    "set.seed(42)\n",
    "DefaultAssay(seu_intd_wt_AZ) <- \"integrated\"\n",
    "options(repr.plot.width=12, repr.plot.height=12)\n",
    "# Run the standard workflow for visualization and clustering\n",
    "seu_intd_wt_AZ <- ScaleData(seu_intd_wt_AZ, verbose = FALSE)\n",
    "seu_intd_wt_AZ <- RunPCA(seu_intd_wt_AZ, npcs = 100, verbose = FALSE, approx = FALSE)\n",
    "seu_intd_wt_AZ <- FindNeighbors(seu_intd_wt_AZ, dims = 1:20, verbose = FALSE)\n",
    "seu_intd_wt_AZ <- FindClusters(seu_intd_wt_AZ, resolution = resolution, algorithm = 3, verbose = FALSE)\n",
    "seu_intd_wt_AZ <- RunUMAP(seu_intd_wt_AZ, reduction = \"pca\", dims = 1:20, verbose = FALSE)"
   ]
  },
  {
   "cell_type": "code",
   "execution_count": null,
   "metadata": {},
   "outputs": [],
   "source": [
    "options(repr.plot.width= 10, repr.plot.height=10)\n",
    "plot = DimPlot(seu_intd_wt_AZ, reduction = \"umap\", label = TRUE, pt.size = 4)\n",
    "print(plot)\n",
    "ggsave(file=\"../data/for_figures/UMAPs/AZ_WT_UMAP.png\", plot=plot, width=10, height=10)"
   ]
  },
  {
   "cell_type": "code",
   "execution_count": null,
   "metadata": {},
   "outputs": [],
   "source": [
    "DefaultAssay(seu_intd_wt_AZ) <- \"RNA\"\n",
    "\n",
    "#get pseudobulk for each cluster to compare with kwak data\n",
    "pbs = list()\n",
    "count = 1\n",
    "for (l in levels(seu_intd_wt_AZ@meta.data$seurat_clusters)) {\n",
    "    pbs[[count]] = rowSums(as.matrix(GetAssayData(seu_intd_wt_AZ, slot = \"counts\")[,WhichCells(seu_intd_wt_AZ, ident = l)])) \n",
    "    count = count + 1\n",
    "}\n",
    "\n",
    "#saveRDS(pbs, \"../data/counts/AZ_wt_cluster_pbs_3_1_22\")"
   ]
  },
  {
   "cell_type": "code",
   "execution_count": null,
   "metadata": {},
   "outputs": [],
   "source": [
    "#convert pseudobulk to TPM\n",
    "count = 1\n",
    "for (c in pbs) {\n",
    "    pbs[[count]] = data.frame(pbs[[count]])/sum(data.frame(pbs[[count]]))*1000000\n",
    "    rns = rownames(pbs[[count]])\n",
    "    pbs[[count]] = pbs[[count]][order(rns),, drop = FALSE]\n",
    "    count = count + 1\n",
    "}"
   ]
  },
  {
   "cell_type": "code",
   "execution_count": null,
   "metadata": {},
   "outputs": [],
   "source": [
    "#secession\n",
    "kwak_ptpms_raw=read.csv(\"../data/counts/kwak_ptpms.csv\")\n",
    "rownames(kwak_ptpms_raw) = kwak_ptpms_raw$X\n",
    "kwak_ptpms = kwak_ptpms_raw\n",
    "kwak_ptpms[,c(1,3,4)] =NULL\n",
    "\n",
    "#secession\n",
    "#set dataset\n",
    "dataset = kwak_ptpms\n",
    "\n",
    "cors_spearman = vector()\n",
    "count = 1\n",
    "\n",
    "seu_intd_wt_AZ@meta.data$kwak_cor = NULL\n",
    "\n",
    "for (cluster in c(1:length(levels(seu_intd_wt_AZ@meta.data$seurat_clusters)))){\n",
    "    test = cbind(pbs[[cluster]][intersect(rownames(pbs[[cluster]]), rownames(dataset)),],dataset[intersect(rownames(pbs[[cluster]]), rownames(dataset)),])\n",
    "    cors_spearman[count] = cor(log(test[,1]+.1), log(test[,2]+.1), method = \"spearman\")\n",
    "    count = count + 1\n",
    "}\n",
    "\n",
    "for (i in c(1:length(levels(seu_intd_wt_AZ@meta.data$seurat_clusters)))){\n",
    "    seu_intd_wt_AZ@meta.data$kwak_cor[seu_intd_wt_AZ@meta.data$seurat_clusters == toString(i-1)] = cors_spearman[i]\n",
    "}\n",
    "\n",
    "plot = FeaturePlot(seu_intd_wt_AZ,  features = \"kwak_cor\", pt.size = 4, cols = c(\"light gray\", \"red\"))\n",
    "print(plot) \n",
    "ggsave(file=\"../data/for_figures/UMAPs/AZ_WT_sec_UMAP.png\", plot=plot, width=10, height=10)\n"
   ]
  },
  {
   "cell_type": "code",
   "execution_count": null,
   "metadata": {},
   "outputs": [],
   "source": [
    "#residuum\n",
    "kwak_ptpms_raw=read.csv(\"../data/counts/kwak_ptpms.csv\")\n",
    "rownames(kwak_ptpms_raw) = kwak_ptpms_raw$X\n",
    "kwak_ptpms = kwak_ptpms_raw\n",
    "kwak_ptpms[,c(1,2,4)] =NULL\n",
    "\n",
    "#residuum\n",
    "#set dataset\n",
    "dataset = kwak_ptpms\n",
    "\n",
    "cors_spearman = vector()\n",
    "count = 1\n",
    "\n",
    "seu_intd_wt_AZ@meta.data$kwak_cor = NULL\n",
    "\n",
    "for (cluster in c(1:length(levels(seu_intd_wt_AZ@meta.data$seurat_clusters)))){\n",
    "    test = cbind(pbs[[cluster]][intersect(rownames(pbs[[cluster]]), rownames(dataset)),],dataset[intersect(rownames(pbs[[cluster]]), rownames(dataset)),])\n",
    "    cors_spearman[count] = cor(log(test[,1]+.1), log(test[,2]+.1), method = \"spearman\")\n",
    "    count = count + 1\n",
    "}\n",
    "\n",
    "for (i in c(1:length(levels(seu_intd_wt_AZ@meta.data$seurat_clusters)))){\n",
    "    seu_intd_wt_AZ@meta.data$kwak_cor[seu_intd_wt_AZ@meta.data$seurat_clusters == toString(i-1)] = cors_spearman[i]\n",
    "}\n",
    "\n",
    "plot = FeaturePlot(seu_intd_wt_AZ,  features = \"kwak_cor\", pt.size = 4, cols = c(\"light gray\", \"red\"))\n",
    "print(plot)   \n",
    "ggsave(file=\"../data/for_figures/UMAPs/AZ_WT_res_UMAP.png\", plot=plot, width=10, height=10)\n"
   ]
  },
  {
   "cell_type": "code",
   "execution_count": null,
   "metadata": {},
   "outputs": [],
   "source": [
    "DefaultAssay(seu_intd_wt_AZ) <- \"RNA\"\n",
    "wt_sec_v_rec = data.frame(matrix(ncol = 8, nrow =dim(seu_intd_wt_AZ@assays$RNA)[1]))\n",
    "wt_sec_v_rec_red = data.frame(matrix(ncol = 6, nrow =dim(seu_intd_wt_AZ@assays$RNA)[1]))\n",
    "\n",
    "res1_1 = rowSums(as.matrix(GetAssayData(subset(seu_intd_wt_AZ, subset = orig.ident == \"sc_26_combined\"), slot = \"counts\")[, WhichCells(subset(seu_intd_wt_AZ, subset = orig.ident == \"sc_26_combined\"), ident = \"0\")]))\n",
    "res2_1 = rowSums(as.matrix(GetAssayData(subset(seu_intd_wt_AZ, subset = orig.ident == \"sc_67\"), slot = \"counts\")[, WhichCells(subset(seu_intd_wt_AZ, subset = orig.ident == \"sc_67\"), ident = \"0\")]))\n",
    "res3_1 = rowSums(as.matrix(GetAssayData(subset(seu_intd_wt_AZ, subset = orig.ident == \"sc_101\"), slot = \"counts\")[, WhichCells(subset(seu_intd_wt_AZ, subset = orig.ident == \"sc_101\"), ident = \"0\")]))\n",
    "res4_1 = rowSums(as.matrix(GetAssayData(subset(seu_intd_wt_AZ, subset = orig.ident == \"sc_103\"), slot = \"counts\")[, WhichCells(subset(seu_intd_wt_AZ, subset = orig.ident == \"sc_103\"), ident = \"0\")]))\n",
    "\n",
    "sec1_1 = rowSums(as.matrix(GetAssayData(subset(seu_intd_wt_AZ, subset = orig.ident == \"sc_26_combined\"), slot = \"counts\")[, WhichCells(subset(seu_intd_wt_AZ, subset = orig.ident == \"sc_26_combined\"), ident = \"1\")]))\n",
    "sec2_1 = rowSums(as.matrix(GetAssayData(subset(seu_intd_wt_AZ, subset = orig.ident == \"sc_67\"), slot = \"counts\")[, WhichCells(subset(seu_intd_wt_AZ, subset = orig.ident == \"sc_67\"), ident = \"1\")]))\n",
    "sec3_1 = rowSums(as.matrix(GetAssayData(subset(seu_intd_wt_AZ, subset = orig.ident == \"sc_101\"), slot = \"counts\")[, WhichCells(subset(seu_intd_wt_AZ, subset = orig.ident == \"sc_101\"), ident = \"1\")]))\n",
    "sec4_1 = rowSums(as.matrix(GetAssayData(subset(seu_intd_wt_AZ, subset = orig.ident == \"sc_103\"), slot = \"counts\")[, WhichCells(subset(seu_intd_wt_AZ, subset = orig.ident == \"sc_103\"), ident = \"1\")]))\n",
    "\n",
    "wt_sec_v_rec[,1:8] = c(res1_1, res2_1, res3_1, res4_1, sec1_1, sec2_1, sec3_1, sec4_1) \n",
    "wt_sec_v_rec_red[,1:6] = c(res1_1, res2_1, res3_1 + res4_1, sec1_1, sec2_1, sec3_1 + sec4_1) "
   ]
  },
  {
   "cell_type": "code",
   "execution_count": null,
   "metadata": {},
   "outputs": [],
   "source": [
    "colnames(wt_sec_v_rec) = c(rep(\"res\",4), rep(\"sec\",4))\n",
    "colnames(wt_sec_v_rec_red) = c(rep(\"res\",3), rep(\"sec\",3))\n",
    "rownames(wt_sec_v_rec) = names(res1_1)\n",
    "rownames(wt_sec_v_rec_red) = names(res1_1)"
   ]
  },
  {
   "cell_type": "code",
   "execution_count": null,
   "metadata": {},
   "outputs": [],
   "source": [
    "zone=as.factor(c(rep(\"res\",4), rep(\"sec\",4)))\n",
    "design <- model.matrix(~zone)#+insertion)\n",
    "\n",
    "#check design matrix isn't singular\n",
    "print(paste(\"determinant of XT*X of design matrix is: \", det(t(design)%*%(design))))\n",
    "\n",
    "#making contrast matrix for tests of interest\n",
    "my.contrasts <- makeContrasts(s1_v_s2=zonesec, levels=design)\n",
    "wt_zone_edger_1 =  edgeR_2_sample(wt_sec_v_rec, \"res\", \"sec\", c(1,2,3,4), c(5,6,7,8), annotations, design, my.contrasts)"
   ]
  },
  {
   "cell_type": "code",
   "execution_count": null,
   "metadata": {},
   "outputs": [],
   "source": [
    "zone=as.factor(c(rep(\"res\",3), rep(\"sec\",3)))\n",
    "sort=as.factor(c(\"u\",\"u\",\"s\",\"u\",\"u\",\"s\"))\n",
    "design <- model.matrix(~zone + sort)#+insertion)\n",
    "\n",
    "#check design matrix isn't singular\n",
    "print(paste(\"determinant of XT*X of design matrix is: \", det(t(design)%*%(design))))\n",
    "\n",
    "#making contrast matrix for tests of interest\n",
    "my.contrasts <- makeContrasts(s1_v_s2=zonesec, levels=design)\n",
    "wt_zone_edger_red =  edgeR_2_sample(wt_sec_v_rec_red, \"res\", \"sec\", c(1,2,3), c(4,5,6), annotations, design, my.contrasts)"
   ]
  },
  {
   "cell_type": "code",
   "execution_count": null,
   "metadata": {},
   "outputs": [],
   "source": [
    "head(wt_zone_edger_red[wt_zone_edger_red$FDR < .05,],20)"
   ]
  },
  {
   "cell_type": "code",
   "execution_count": null,
   "metadata": {},
   "outputs": [],
   "source": [
    "write.csv(wt_zone_edger_1, \"../data/for_figures/wt_zone_edger_4_21_22.csv\")\n",
    "write.csv(wt_zone_edger_red, \"../data/for_figures/wt_zone_edger_red_4_21_22.csv\")"
   ]
  },
  {
   "cell_type": "code",
   "execution_count": null,
   "metadata": {},
   "outputs": [],
   "source": [
    "wt_zone_edger_1[wt_zone_edger_1$genes==\"AT1G01610\",]"
   ]
  },
  {
   "cell_type": "code",
   "execution_count": null,
   "metadata": {},
   "outputs": [],
   "source": [
    "cluster = \"11\"\n",
    "\n",
    "mut_1_AZ <- subset(seu_intd_wt_mut, subset = orig.ident == \"sc_27_combined\")[, WhichCells(subset(seu_intd_wt_mut, subset = orig.ident == \"sc_27_combined\"), ident = cluster)]\n",
    "mut_2_AZ <- subset(seu_intd_wt_mut, subset = orig.ident == \"sc_68\")[, WhichCells(subset(seu_intd_wt_mut, subset = orig.ident == \"sc_68\"), ident = cluster)]\n",
    "KE_1_AZ <- subset(seu_intd_wt_mut, subset = orig.ident == \"sc_102\")[, WhichCells(subset(seu_intd_wt_mut, subset = orig.ident == \"sc_102\"), ident = cluster)]\n",
    "KE_2_AZ <- subset(seu_intd_wt_mut, subset = orig.ident == \"sc_104\")[, WhichCells(subset(seu_intd_wt_mut, subset = orig.ident == \"sc_104\"), ident = cluster)]\n"
   ]
  },
  {
   "cell_type": "code",
   "execution_count": null,
   "metadata": {},
   "outputs": [],
   "source": [
    "mut_1_seu = SCTransform(mut_1_AZ)\n",
    "mut_2_seu = SCTransform(mut_2_AZ)\n",
    "KE_1_seu = SCTransform(KE_1_AZ)\n",
    "KE_2_seu = SCTransform(KE_2_AZ)"
   ]
  },
  {
   "cell_type": "code",
   "execution_count": null,
   "metadata": {},
   "outputs": [],
   "source": [
    "seu_intd_mut_AZ = seu_integrate(mut_1_seu, mut_2_seu, KE_1_seu, KE_2_seu, filename = \"AZ_only_mut_3_1_22\", nfeatures = 3000)"
   ]
  },
  {
   "cell_type": "code",
   "execution_count": null,
   "metadata": {},
   "outputs": [],
   "source": [
    "seu_intd_mut_AZ = readRDS(\"../data/intd_seu_objects/AZ_only_mut_3_1_22.rds\")"
   ]
  },
  {
   "cell_type": "code",
   "execution_count": null,
   "metadata": {},
   "outputs": [],
   "source": [
    "resolution = .1\n",
    "set.seed(42)\n",
    "DefaultAssay(seu_intd_mut_AZ) <- \"integrated\"\n",
    "options(repr.plot.width=12, repr.plot.height=12)\n",
    "# Run the standard workflow for visualization and clustering\n",
    "seu_intd_mut_AZ <- ScaleData(seu_intd_mut_AZ, verbose = FALSE)\n",
    "seu_intd_mut_AZ <- RunPCA(seu_intd_mut_AZ, npcs = 100, verbose = FALSE, approx = FALSE)\n",
    "seu_intd_mut_AZ <- FindNeighbors(seu_intd_mut_AZ, dims = 1:20, verbose = FALSE)\n",
    "seu_intd_mut_AZ<- FindClusters(seu_intd_mut_AZ, resolution = resolution, algorithm = 3, verbose = FALSE)\n",
    "seu_intd_mut_AZ <- RunUMAP(seu_intd_mut_AZ, reduction = \"pca\", dims = 1:20, verbose = FALSE)"
   ]
  },
  {
   "cell_type": "code",
   "execution_count": null,
   "metadata": {},
   "outputs": [],
   "source": [
    "options(repr.plot.width= 10, repr.plot.height=10)\n",
    "plot = DimPlot(seu_intd_mut_AZ, reduction = \"umap\", label = TRUE, pt.size = 4)\n",
    "print(plot)\n",
    "ggsave(file=\"../data/for_figures/UMAPs/AZ_mut_UMAP.png\", plot=plot, width=10, height=10)"
   ]
  },
  {
   "cell_type": "code",
   "execution_count": null,
   "metadata": {},
   "outputs": [],
   "source": [
    "DefaultAssay(seu_intd_mut_AZ) <- \"RNA\"\n",
    "\n",
    "#get pseudobulk for each cluster to compare with kwak data\n",
    "pbs_mut = list()\n",
    "count = 1\n",
    "for (l in levels(seu_intd_mut_AZ@meta.data$seurat_clusters)) {\n",
    "    pbs_mut[[count]] = rowSums(as.matrix(GetAssayData(seu_intd_mut_AZ, slot = \"counts\")[,WhichCells(seu_intd_mut_AZ, ident = l)])) \n",
    "    count = count + 1\n",
    "}"
   ]
  },
  {
   "cell_type": "code",
   "execution_count": null,
   "metadata": {},
   "outputs": [],
   "source": [
    "#convert pseudobulk to TPM\n",
    "count = 1\n",
    "for (c in pbs_mut) {\n",
    "    pbs_mut[[count]] = data.frame(pbs_mut[[count]])/sum(data.frame(pbs_mut[[count]]))*1000000\n",
    "    rns = rownames(pbs_mut[[count]])\n",
    "    pbs_mut[[count]] = pbs_mut[[count]][order(rns),, drop = FALSE]\n",
    "    count = count + 1\n",
    "}"
   ]
  },
  {
   "cell_type": "code",
   "execution_count": null,
   "metadata": {},
   "outputs": [],
   "source": [
    "#secession\n",
    "kwak_ptpms_raw=read.csv(\"../data/counts/kwak_ptpms.csv\")\n",
    "rownames(kwak_ptpms_raw) = kwak_ptpms_raw$X\n",
    "kwak_ptpms = kwak_ptpms_raw\n",
    "kwak_ptpms[,c(1,3,4)] =NULL\n",
    "\n",
    "#secession\n",
    "#set dataset\n",
    "dataset = kwak_ptpms\n",
    "\n",
    "cors_spearman = vector()\n",
    "count = 1\n",
    "\n",
    "seu_intd_mut_AZ@meta.data$kwak_cor = NULL\n",
    "\n",
    "for (cluster in c(1:length(levels(seu_intd_mut_AZ@meta.data$seurat_clusters)))){\n",
    "    test = cbind(pbs_mut[[cluster]][intersect(rownames(pbs_mut[[cluster]]), rownames(dataset)),],dataset[intersect(rownames(pbs_mut[[cluster]]), rownames(dataset)),])\n",
    "    cors_spearman[count] = cor(log(test[,1]+.1), log(test[,2]+.1), method = \"spearman\")\n",
    "    count = count + 1\n",
    "}\n",
    "\n",
    "for (i in c(1:length(levels(seu_intd_mut_AZ@meta.data$seurat_clusters)))){\n",
    "    seu_intd_mut_AZ@meta.data$kwak_cor[seu_intd_mut_AZ@meta.data$seurat_clusters == toString(i-1)] = cors_spearman[i]\n",
    "}\n",
    "\n",
    "plot = FeaturePlot(seu_intd_mut_AZ,  features = \"kwak_cor\", pt.size = 4, cols = c(\"light gray\", \"red\"))\n",
    "print(plot)   \n",
    "ggsave(file=\"../data/for_figures/UMAPs/AZ_mut_sec_UMAP.png\", plot=plot, width=10, height=10)"
   ]
  },
  {
   "cell_type": "code",
   "execution_count": null,
   "metadata": {},
   "outputs": [],
   "source": [
    "#residuum\n",
    "kwak_ptpms_raw=read.csv(\"../data/counts/kwak_ptpms.csv\")\n",
    "rownames(kwak_ptpms_raw) = kwak_ptpms_raw$X\n",
    "kwak_ptpms = kwak_ptpms_raw\n",
    "kwak_ptpms[,c(1,2,4)] =NULL\n",
    "\n",
    "#residuum\n",
    "#set dataset\n",
    "dataset = kwak_ptpms\n",
    "\n",
    "cors_spearman = vector()\n",
    "count = 1\n",
    "\n",
    "seu_intd_mut_AZ@meta.data$kwak_cor = NULL\n",
    "\n",
    "for (cluster in c(1:length(levels(seu_intd_mut_AZ@meta.data$seurat_clusters)))){\n",
    "    test = cbind(pbs_mut[[cluster]][intersect(rownames(pbs_mut[[cluster]]), rownames(dataset)),],dataset[intersect(rownames(pbs_mut[[cluster]]), rownames(dataset)),])\n",
    "    cors_spearman[count] = cor(log(test[,1]+.1), log(test[,2]+.1), method = \"spearman\")\n",
    "    count = count + 1\n",
    "}\n",
    "\n",
    "for (i in c(1:length(levels(seu_intd_mut_AZ@meta.data$seurat_clusters)))){\n",
    "    seu_intd_mut_AZ@meta.data$kwak_cor[seu_intd_mut_AZ@meta.data$seurat_clusters == toString(i-1)] = cors_spearman[i]\n",
    "}\n",
    "\n",
    "plot = FeaturePlot(seu_intd_mut_AZ,  features = \"kwak_cor\", pt.size = 4, cols = c(\"light gray\", \"red\"))\n",
    "print(plot)   \n",
    "ggsave(file=\"../data/for_figures/UMAPs/AZ_mut_res_UMAP.png\", plot=plot, width=10, height=10)"
   ]
  },
  {
   "cell_type": "code",
   "execution_count": null,
   "metadata": {},
   "outputs": [],
   "source": [
    "DefaultAssay(seu_intd_mut_AZ) <- \"RNA\"\n",
    "mut_sec_v_rec = data.frame(matrix(ncol = 8, nrow =dim(seu_intd_mut_AZ@assays$RNA)[1]))\n",
    "mut_sec_v_rec_red = data.frame(matrix(ncol = 6, nrow =dim(seu_intd_mut_AZ@assays$RNA)[1]))\n",
    "\n",
    "\n",
    "res1_1 = rowSums(as.matrix(GetAssayData(subset(seu_intd_mut_AZ, subset = orig.ident == \"sc_27_combined\"), slot = \"counts\")[, WhichCells(subset(seu_intd_mut_AZ, subset = orig.ident == \"sc_27_combined\"), ident = \"0\")]))\n",
    "res2_1 = rowSums(as.matrix(GetAssayData(subset(seu_intd_mut_AZ, subset = orig.ident == \"sc_68\"), slot = \"counts\")[, WhichCells(subset(seu_intd_mut_AZ, subset = orig.ident == \"sc_68\"), ident = \"0\")]))\n",
    "res3_1 = rowSums(as.matrix(GetAssayData(subset(seu_intd_mut_AZ, subset = orig.ident == \"sc_102\"), slot = \"counts\")[, WhichCells(subset(seu_intd_mut_AZ, subset = orig.ident == \"sc_102\"), ident = \"0\")]))\n",
    "res4_1 = rowSums(as.matrix(GetAssayData(subset(seu_intd_mut_AZ, subset = orig.ident == \"sc_104\"), slot = \"counts\")[, WhichCells(subset(seu_intd_mut_AZ, subset = orig.ident == \"sc_104\"), ident = \"0\")]))\n",
    "\n",
    "sec1_1 = rowSums(as.matrix(GetAssayData(subset(seu_intd_mut_AZ, subset = orig.ident == \"sc_27_combined\"), slot = \"counts\")[, WhichCells(subset(seu_intd_mut_AZ, subset = orig.ident == \"sc_27_combined\"), ident = \"1\")]))\n",
    "sec2_1 = rowSums(as.matrix(GetAssayData(subset(seu_intd_mut_AZ, subset = orig.ident == \"sc_68\"), slot = \"counts\")[, WhichCells(subset(seu_intd_mut_AZ, subset = orig.ident == \"sc_68\"), ident = \"1\")]))\n",
    "sec3_1 = rowSums(as.matrix(GetAssayData(subset(seu_intd_mut_AZ, subset = orig.ident == \"sc_102\"), slot = \"counts\")[, WhichCells(subset(seu_intd_mut_AZ, subset = orig.ident == \"sc_102\"), ident = \"1\")]))\n",
    "sec4_1 = rowSums(as.matrix(GetAssayData(subset(seu_intd_mut_AZ, subset = orig.ident == \"sc_104\"), slot = \"counts\")[, WhichCells(subset(seu_intd_mut_AZ, subset = orig.ident == \"sc_104\"), ident = \"1\")]))\n",
    "\n",
    "\n",
    "mut_sec_v_rec[,1:8] = c(res1_1, res2_1, res3_1, res4_1, sec1_1, sec2_1, sec3_1, sec4_1 ) \n",
    "mut_sec_v_rec_red[,1:6] = c(res1_1, res2_1, res3_1 + res4_1, sec1_1, sec2_1, sec3_1 + sec4_1 ) "
   ]
  },
  {
   "cell_type": "code",
   "execution_count": null,
   "metadata": {},
   "outputs": [],
   "source": [
    "colnames(mut_sec_v_rec) = c(rep(\"res\",4), rep(\"sec\",4))\n",
    "colnames(mut_sec_v_rec_red) = c(rep(\"res\",3), rep(\"sec\",3))\n",
    "rownames(mut_sec_v_rec) = names(res1_1)\n",
    "rownames(mut_sec_v_rec_red) = names(res1_1)"
   ]
  },
  {
   "cell_type": "code",
   "execution_count": null,
   "metadata": {},
   "outputs": [],
   "source": [
    "zone=as.factor(c(rep(\"res\",4), rep(\"sec\",4)))\n",
    "design <- model.matrix(~zone)#+insertion)\n",
    "\n",
    "#check design matrix isn't singular\n",
    "print(paste(\"determinant of XT*X of design matrix is: \", det(t(design)%*%(design))))\n",
    "\n",
    "#making contrast matrix for tests of interest\n",
    "my.contrasts <- makeContrasts(s1_v_s2=zonesec, levels=design)\n",
    "mut_zone_edger_1 =  edgeR_2_sample(mut_sec_v_rec, \"res\", \"sec\", c(1,2,3,4), c(5,6,7,8), annotations, design, my.contrasts)"
   ]
  },
  {
   "cell_type": "code",
   "execution_count": null,
   "metadata": {},
   "outputs": [],
   "source": [
    "#combined sorted samples\n",
    "zone=as.factor(c(rep(\"res\",3), rep(\"sec\",3)))\n",
    "sort=as.factor(c(\"u\",\"u\",\"s\",\"u\",\"u\",\"s\"))\n",
    "design <- model.matrix(~zone + sort)#+insertion)\n",
    "\n",
    "#check design matrix isn't singular\n",
    "print(paste(\"determinant of XT*X of design matrix is: \", det(t(design)%*%(design))))\n",
    "\n",
    "#making contrast matrix for tests of interest\n",
    "my.contrasts <- makeContrasts(s1_v_s2=zonesec, levels=design)\n",
    "mut_zone_edger_red =  edgeR_2_sample(mut_sec_v_rec_red, \"res\", \"sec\", c(1,2,3), c(4,5,6), annotations, design, my.contrasts)"
   ]
  },
  {
   "cell_type": "code",
   "execution_count": null,
   "metadata": {},
   "outputs": [],
   "source": [
    "head(mut_zone_edger_red[mut_zone_edger_red$FDR<.05,])"
   ]
  },
  {
   "cell_type": "code",
   "execution_count": null,
   "metadata": {},
   "outputs": [],
   "source": [
    "write.csv(mut_zone_edger_1, \"../data/for_figures/mut_zone_edger_4_21_22.csv\")\n",
    "write.csv(mut_zone_edger_red, \"../data/for_figures/mut_zone_edger_red_4_21_22.csv\")"
   ]
  },
  {
   "cell_type": "code",
   "execution_count": null,
   "metadata": {},
   "outputs": [],
   "source": [
    "kwak = read.csv(\"../data/for_figures/KWAK_data.csv\")\n",
    "rownames(kwak) = kwak[,1]\n",
    "kwak = kwak[,c(5:10)]\n",
    "colnames(kwak) = c(\"res\",\"res\",\"res\",\"sec\",\"sec\",\"sec\")\n",
    "kwak = kwak[c(1:33602),]"
   ]
  },
  {
   "cell_type": "code",
   "execution_count": null,
   "metadata": {},
   "outputs": [],
   "source": [
    "zone=as.factor(c(rep(\"res\",3), rep(\"sec\",3)))\n",
    "design <- model.matrix(~zone)#+insertion)\n",
    "\n",
    "#check design matrix isn't singular\n",
    "print(paste(\"determinant of XT*X of design matrix is: \", det(t(design)%*%(design))))\n",
    "\n",
    "#making contrast matrix for tests of interest\n",
    "my.contrasts <- makeContrasts(s1_v_s2=zonesec, levels=design)"
   ]
  },
  {
   "cell_type": "code",
   "execution_count": null,
   "metadata": {},
   "outputs": [],
   "source": [
    "kwak_edger_1 =  edgeR_2_sample(kwak, \"res\", \"sec\", c(1,2,3), c(4,5,6), annotations, design, my.contrasts)"
   ]
  },
  {
   "cell_type": "code",
   "execution_count": null,
   "metadata": {},
   "outputs": [],
   "source": [
    "write.csv(kwak_edger_1, \"../data/for_figures/kwak_edger_4_21_22.csv\")"
   ]
  },
  {
   "cell_type": "code",
   "execution_count": null,
   "metadata": {},
   "outputs": [],
   "source": [
    "#takes a list of Seurat objects with SCT transform run\n",
    "seu_integrate <- function(..., filename, nfeatures){\n",
    "    seu.list <- list(...) # THIS WILL BE A LIST STORING EVERYTHING:\n",
    "    \n",
    "    ref.genes = rownames(seu.list[[1]]@assays$RNA)\n",
    "    assay_list <- rep(\"SCT\", length(seu.list))\n",
    "       \n",
    "\n",
    "    # integration\n",
    "    rc.features <- SelectIntegrationFeatures(object.list = seu.list, nfeatures = nfeatures)\n",
    "    rc.features <- rc.features[(!c(grepl(\"ATMG\",rc.features) | grepl(\"ATCG\",rc.features) | rc.features%in%proto_list))]\n",
    "    \n",
    "    seu.list <- PrepSCTIntegration(object.list = seu.list, anchor.features = rc.features, verbose = TRUE, assay = assay_list)\n",
    "    seu.list <- lapply(X = seu.list, FUN = RunPCA, verbose = FALSE, features = rc.features)\n",
    "    rc.anchors <- FindIntegrationAnchors(object.list = seu.list, normalization.method = \"SCT\", anchor.features = rc.features, verbose = TRUE, reference=1, reduction = \"rpca\")\n",
    "    \n",
    "    to_integrate <- Reduce(intersect, lapply(rc.anchors@object.list, rownames))\n",
    "    # integrate data and keep full geneset\n",
    "       \n",
    "    rc.integrated <- IntegrateData(anchorset = rc.anchors,  features.to.integrate = to_integrate, normalization.method = \"SCT\", verbose = TRUE)\n",
    "    rc.integrated <- RunPCA(rc.integrated, npcs = 50, verbose = FALSE, approx = FALSE)\n",
    "    \n",
    "    #save object    \n",
    "    saveRDS(rc.integrated, file = paste(\"../data/intd_seu_objects/\",filename,\".rds\", sep = \"\"))\n",
    "    return(rc.integrated)\n",
    "#    }\n",
    "}\n",
    "\n"
   ]
  }
 ],
 "metadata": {
  "kernelspec": {
   "display_name": "R",
   "language": "R",
   "name": "ir"
  },
  "language_info": {
   "codemirror_mode": "r",
   "file_extension": ".r",
   "mimetype": "text/x-r-source",
   "name": "R",
   "pygments_lexer": "r",
   "version": "3.6.3"
  }
 },
 "nbformat": 4,
 "nbformat_minor": 4
}
